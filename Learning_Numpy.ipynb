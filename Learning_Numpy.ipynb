{
  "nbformat": 4,
  "nbformat_minor": 0,
  "metadata": {
    "colab": {
      "name": "Learning Numpy.ipynb",
      "provenance": [],
      "private_outputs": true,
      "collapsed_sections": []
    },
    "kernelspec": {
      "name": "python3",
      "display_name": "Python 3"
    }
  },
  "cells": [
    {
      "cell_type": "markdown",
      "metadata": {
        "id": "bGJSyP83gqcs",
        "colab_type": "text"
      },
      "source": [
        "### WHAT IS NUMPY?"
      ]
    },
    {
      "cell_type": "markdown",
      "metadata": {
        "id": "3BAjW-wvfZji",
        "colab_type": "text"
      },
      "source": [
        "*NumPy is an open source library available in Python that aids in mathematical, scientific, engineering, and data science programming. NumPy is an incredible library to perform mathematical and statistical operations. It works perfectly well for multi-dimensional arrays and matrices multiplication.*\n",
        "\n",
        "*NumPy is memory efficiency, meaning it can handle the vast amount of data more accessible than any other library.*\n",
        "\n",
        "*The most important object defined in NumPy is an N-dimensional array type called ndarray. It describes the collection of items of the same type. Items in the collection can be accessed using a zero-based index.*\n",
        "\n",
        "*Every item in an ndarray takes the same size of block in the memory. Each element in ndarray is an object of data-type object (called dtype).*\n",
        "\n",
        "*Any item extracted from ndarray object (by slicing) is represented by a Python object of one of array scalar types.*"
      ]
    },
    {
      "cell_type": "code",
      "metadata": {
        "id": "iJ4LeTWkg13f",
        "colab_type": "code",
        "colab": {}
      },
      "source": [
        "import numpy as np"
      ],
      "execution_count": 0,
      "outputs": []
    },
    {
      "cell_type": "code",
      "metadata": {
        "id": "9PZdDzJw_rYR",
        "colab_type": "code",
        "colab": {}
      },
      "source": [
        "np.__version__"
      ],
      "execution_count": 0,
      "outputs": []
    },
    {
      "cell_type": "code",
      "metadata": {
        "id": "Whntsi6KalWi",
        "colab_type": "code",
        "colab": {}
      },
      "source": [
        "# Create an 1d array from a list\n",
        "list1 = [0,1,2,3,4]\n",
        "arr1d = np.array(list1)\n",
        "\n",
        "# Print the array and its type\n",
        "print(type(arr1d))\n",
        "arr1d"
      ],
      "execution_count": 0,
      "outputs": []
    },
    {
      "cell_type": "markdown",
      "metadata": {
        "id": "hilCTTqvg-Mc",
        "colab_type": "text"
      },
      "source": [
        "*The key difference between an array and a list is, arrays are designed to handle vectorized operations while a python list is not.*\n",
        "\n",
        "*That means, if you apply a function it is performed on every item in the array, rather than on the whole array object.*"
      ]
    },
    {
      "cell_type": "code",
      "metadata": {
        "id": "g2yA73LZg954",
        "colab_type": "code",
        "colab": {}
      },
      "source": [
        "# Create a 2d array from a list of lists\n",
        "list2 = [[0,1,2], [3,4,5], [6,7,8]]\n",
        "arr2d = np.array(list2)\n",
        "arr2d"
      ],
      "execution_count": 0,
      "outputs": []
    },
    {
      "cell_type": "markdown",
      "metadata": {
        "id": "dezl8abChLVg",
        "colab_type": "text"
      },
      "source": [
        "*Another characteristic is that, once a numpy array is created, you cannot increase its size. To do so, you will have to create a new array. But such a behavior of extending the size is natural in a list.*"
      ]
    },
    {
      "cell_type": "code",
      "metadata": {
        "id": "zOI-GjaShNTV",
        "colab_type": "code",
        "colab": {}
      },
      "source": [
        "# Create a float 2d array\n",
        "arr2d_f = np.array(list2, dtype='float')\n",
        "arr2d_f"
      ],
      "execution_count": 0,
      "outputs": []
    },
    {
      "cell_type": "code",
      "metadata": {
        "id": "gGrZ-PahhaDT",
        "colab_type": "code",
        "colab": {}
      },
      "source": [
        "# Convert to int then to str datatype\n",
        "arr2d_f.astype('int').astype('str')"
      ],
      "execution_count": 0,
      "outputs": []
    },
    {
      "cell_type": "code",
      "metadata": {
        "id": "JIWDv4Zkhf39",
        "colab_type": "code",
        "colab": {}
      },
      "source": [
        "# Create an object array to hold numbers as well as strings\n",
        "arr1d_obj = np.array([1, 'a'], dtype='object')\n",
        "arr1d_obj"
      ],
      "execution_count": 0,
      "outputs": []
    },
    {
      "cell_type": "markdown",
      "metadata": {
        "id": "n9UsSg46hn4j",
        "colab_type": "text"
      },
      "source": [
        "*To summarise, the main differences with python lists are:*\n",
        "\n",
        "1. *Arrays support vectorised operations, while lists don’t.*\n",
        "2. *Once an array is created, you cannot change its size. You will have to create a new array or overwrite the existing one.*\n",
        "3. *Every array has one and only one dtype. All items in it should be of that dtype.*\n",
        "4. *An equivalent numpy array occupies much less space than a python list of lists.*\n"
      ]
    },
    {
      "cell_type": "code",
      "metadata": {
        "id": "RQD2v1jyhyFp",
        "colab_type": "code",
        "colab": {}
      },
      "source": [
        "# Create a 2d array with 3 rows and 4 columns\n",
        "list2 = [[1, 2, 3, 4],[3, 4, 5, 6], [5, 6, 7, 8]]\n",
        "arr2 = np.array(list2, dtype='float')\n",
        "arr2\n",
        "\n",
        "# shape\n",
        "print('Shape: ', arr2.shape)\n",
        "\n",
        "# dtype\n",
        "print('Datatype: ', arr2.dtype)\n",
        "\n",
        "# size\n",
        "print('Size: ', arr2.size)\n",
        "\n",
        "# ndim\n",
        "print('Num Dimensions: ', arr2.ndim)"
      ],
      "execution_count": 0,
      "outputs": []
    },
    {
      "cell_type": "code",
      "metadata": {
        "id": "Gc4NvOnuh94i",
        "colab_type": "code",
        "colab": {}
      },
      "source": [
        "# Extract the first 2 rows and columns\n",
        "arr2[:2, :2]"
      ],
      "execution_count": 0,
      "outputs": []
    },
    {
      "cell_type": "code",
      "metadata": {
        "id": "BwDEwtcLiDhn",
        "colab_type": "code",
        "colab": {}
      },
      "source": [
        "list2[:2, :2]  # error"
      ],
      "execution_count": 0,
      "outputs": []
    },
    {
      "cell_type": "code",
      "metadata": {
        "id": "kQkKvF2yiHb2",
        "colab_type": "code",
        "colab": {}
      },
      "source": [
        "# Get the boolean output by applying the condition to each element.\n",
        "b = arr2 > 4\n",
        "b"
      ],
      "execution_count": 0,
      "outputs": []
    },
    {
      "cell_type": "code",
      "metadata": {
        "id": "X7xE_PCviPNd",
        "colab_type": "code",
        "colab": {}
      },
      "source": [
        "# Reverse only the row positions\n",
        "arr2[::-1, ]"
      ],
      "execution_count": 0,
      "outputs": []
    },
    {
      "cell_type": "code",
      "metadata": {
        "id": "ndYoq8DziVOF",
        "colab_type": "code",
        "colab": {}
      },
      "source": [
        "# Reverse the row and column positions\n",
        "arr2[::-1, ::-1]"
      ],
      "execution_count": 0,
      "outputs": []
    },
    {
      "cell_type": "code",
      "metadata": {
        "id": "ZA60Ibp5idT2",
        "colab_type": "code",
        "colab": {}
      },
      "source": [
        "# Insert a nan and an inf\n",
        "arr2[1,1] = np.nan  # not a number\n",
        "arr2[1,2] = np.inf  # infinite\n",
        "arr2"
      ],
      "execution_count": 0,
      "outputs": []
    },
    {
      "cell_type": "code",
      "metadata": {
        "id": "2VpGrQOLjAub",
        "colab_type": "code",
        "colab": {}
      },
      "source": [
        "# Replace nan and inf with -1. Don't use arr2 == np.nan\n",
        "missing_bool = np.isnan(arr2) | np.isinf(arr2)\n",
        "arr2[missing_bool] = -1  \n",
        "arr2"
      ],
      "execution_count": 0,
      "outputs": []
    },
    {
      "cell_type": "code",
      "metadata": {
        "id": "9oJhidDnjDui",
        "colab_type": "code",
        "colab": {}
      },
      "source": [
        "# mean, max and min\n",
        "print(\"Mean value is: \", arr2.mean())\n",
        "print(\"Max value is: \", arr2.max())\n",
        "print(\"Min value is: \", arr2.min())"
      ],
      "execution_count": 0,
      "outputs": []
    },
    {
      "cell_type": "code",
      "metadata": {
        "id": "2NAnKe6bjTMH",
        "colab_type": "code",
        "colab": {}
      },
      "source": [
        "# Row wise and column wise min\n",
        "print(\"Column wise minimum: \", np.amin(arr2, axis=0))\n",
        "print(\"Row wise minimum: \", np.amin(arr2, axis=1))"
      ],
      "execution_count": 0,
      "outputs": []
    },
    {
      "cell_type": "code",
      "metadata": {
        "id": "prdbABXojTrc",
        "colab_type": "code",
        "colab": {}
      },
      "source": [
        "# Assign portion of arr2 to arr2a. Doesn't really create a new array.\n",
        "arr2a = arr2[:2,:2]  \n",
        "arr2a[:1, :1] = 100  # 100 will reflect in arr2\n",
        "arr2"
      ],
      "execution_count": 0,
      "outputs": []
    },
    {
      "cell_type": "code",
      "metadata": {
        "id": "vXdMc-GWjlf5",
        "colab_type": "code",
        "colab": {}
      },
      "source": [
        "# Copy portion of arr2 to arr2b\n",
        "arr2b = arr2[:2, :2].copy()\n",
        "arr2b[:1, :1] = 101  # 101 will not reflect in arr2\n",
        "arr2"
      ],
      "execution_count": 0,
      "outputs": []
    },
    {
      "cell_type": "code",
      "metadata": {
        "id": "U-cWuL4iBXLk",
        "colab_type": "code",
        "colab": {}
      },
      "source": [
        "# RESHAPE\n",
        "\n",
        "# numpy.reshape(array, shape, order = ‘C’): \n",
        "# Shapes an array without changing data of array.\n",
        "\n",
        "array = np.arange(8)\n",
        "print(\"Original array :\", array)\n",
        " \n",
        "# shape array with 2 rows and 4 columns\n",
        "array = np.arange(8).reshape(2, 4)\n",
        "print(\"\\narray reshaped with 2 rows and 4 columns :\", array)\n",
        " \n",
        "# shape array with 2 rows and 4 columns\n",
        "array = np.arange(8).reshape(4 ,2)\n",
        "print(\"\\narray reshaped with 2 rows and 4 columns :\", array)\n",
        " \n",
        "# Constructs 3D array\n",
        "array = np.arange(8).reshape(2, 2, 2)\n",
        "print(\"\\nOriginal array reshaped to 3D :\", array)"
      ],
      "execution_count": 0,
      "outputs": []
    },
    {
      "cell_type": "code",
      "metadata": {
        "id": "pfpyL_iVjrPF",
        "colab_type": "code",
        "colab": {}
      },
      "source": [
        "# Reshape a 3x4 array to 4x3 array\n",
        "arr2.reshape(4, 3)"
      ],
      "execution_count": 0,
      "outputs": []
    },
    {
      "cell_type": "code",
      "metadata": {
        "id": "FLrAoRSljt7e",
        "colab_type": "code",
        "colab": {}
      },
      "source": [
        "# Flatten it to a 1d array\n",
        "arr2.flatten()"
      ],
      "execution_count": 0,
      "outputs": []
    },
    {
      "cell_type": "code",
      "metadata": {
        "id": "H795M81nBcbT",
        "colab_type": "code",
        "colab": {}
      },
      "source": [
        "# FLATTEN\n",
        "\n",
        "# numpy.ndarray.flatten(order = ‘C’): \n",
        "# Return a copy of the array collapsed into one dimension.\n",
        "\n",
        "array = np.array([[1, 2], [3, 4]])\n",
        "\n",
        "# using flatten method\n",
        "print(array.flatten())\n",
        "\n",
        "# using flatten method\n",
        "print(array.flatten('F'))"
      ],
      "execution_count": 0,
      "outputs": []
    },
    {
      "cell_type": "code",
      "metadata": {
        "id": "polKYsIhkM3Q",
        "colab_type": "code",
        "colab": {}
      },
      "source": [
        "# Changing the flattened array does not change parent\n",
        "b1 = arr2.flatten()  \n",
        "b1[0] = 100  # changing b1 does not affect arr2\n",
        "arr2"
      ],
      "execution_count": 0,
      "outputs": []
    },
    {
      "cell_type": "code",
      "metadata": {
        "id": "DtJp5_Y_kOwn",
        "colab_type": "code",
        "colab": {}
      },
      "source": [
        "# Changing the raveled array changes the parent also.\n",
        "b2 = arr2.ravel()  \n",
        "b2[0] = 101  # changing b2 changes arr2 also\n",
        "arr2"
      ],
      "execution_count": 0,
      "outputs": []
    },
    {
      "cell_type": "code",
      "metadata": {
        "id": "M6rMzwkQBQyR",
        "colab_type": "code",
        "colab": {}
      },
      "source": [
        "# ARANGE\n",
        "\n",
        "# arange([start,] stop[, step,][, dtype]): \n",
        "# Returns an array with evenly spaced elements as per the interval. The interval mentioned is half opened i.e. [Start, Stop)\n",
        "\n",
        "print(\"A: \", np.arange(4))\n",
        "print(\"B: \", np.arange(4, 10))\n",
        "print(\"C: \", np.arange(4, 20, 3))"
      ],
      "execution_count": 0,
      "outputs": []
    },
    {
      "cell_type": "code",
      "metadata": {
        "id": "03ddwPZ0kQqR",
        "colab_type": "code",
        "colab": {}
      },
      "source": [
        "# Generating Sequence\n",
        "\n",
        "# Lower limit is 0 be default\n",
        "print(np.arange(5))  \n",
        "\n",
        "# 0 to 9\n",
        "print(np.arange(0, 10))  \n",
        "\n",
        "# 0 to 9 with step of 2\n",
        "print(np.arange(0, 10, 2))  \n",
        "\n",
        "# 10 to 1, decreasing order\n",
        "print(np.arange(10, 0, -1))"
      ],
      "execution_count": 0,
      "outputs": []
    },
    {
      "cell_type": "code",
      "metadata": {
        "id": "UGyU0AVSBQQ1",
        "colab_type": "code",
        "colab": {}
      },
      "source": [
        "# LINSPACE\n",
        "\n",
        "# numpy.linspace(start, stop, num = 50, endpoint = True, retstep = False, dtype = None):\n",
        "# Returns number spaces evenly w.r.t interval. Similiar to arange but instead of step it uses sample number.\n",
        "\n",
        "print(\"A: \", np.linspace(2.0, 3.0, num=5))\n",
        "print(\"B: \", np.linspace(0, 2, 10))\n",
        "\n",
        "# restep set to True\n",
        "print(\"C: \", np.linspace(2.0, 3.0, num=5 , retstep=True))"
      ],
      "execution_count": 0,
      "outputs": []
    },
    {
      "cell_type": "code",
      "metadata": {
        "id": "OBEr9R-BkhjI",
        "colab_type": "code",
        "colab": {}
      },
      "source": [
        "# Start at 1 and end at 50\n",
        "np.linspace(start=1, stop=50, num=10, dtype=int)"
      ],
      "execution_count": 0,
      "outputs": []
    },
    {
      "cell_type": "code",
      "metadata": {
        "id": "fL1vSXW4kiGa",
        "colab_type": "code",
        "colab": {}
      },
      "source": [
        "np.zeros([2,2])"
      ],
      "execution_count": 0,
      "outputs": []
    },
    {
      "cell_type": "code",
      "metadata": {
        "id": "JZVtG5_wkm2T",
        "colab_type": "code",
        "colab": {}
      },
      "source": [
        "np.ones([2,2])"
      ],
      "execution_count": 0,
      "outputs": []
    },
    {
      "cell_type": "code",
      "metadata": {
        "id": "Lr3yi4MkkoJr",
        "colab_type": "code",
        "colab": {}
      },
      "source": [
        "a = [1,2,3] \n",
        "\n",
        "# Repeat whole of 'a' two times\n",
        "print('Tile:   ', np.tile(a, 2))\n",
        "\n",
        "# Repeat each element of 'a' two times\n",
        "print('Repeat: ', np.repeat(a, 2))"
      ],
      "execution_count": 0,
      "outputs": []
    },
    {
      "cell_type": "code",
      "metadata": {
        "id": "ayNXSa-SqcKV",
        "colab_type": "code",
        "colab": {}
      },
      "source": [
        "# Iterating through array\n",
        "\n",
        "import numpy as np\n",
        "a = np.arange(0,60,5)\n",
        "a = a.reshape(3,4)\n",
        "\n",
        "print ('Original array is:')\n",
        "print (a)\n",
        "print ('\\n')\n",
        "\n",
        "print ('Modified array is:')\n",
        "for x in np.nditer(a):\n",
        "   print (x),"
      ],
      "execution_count": 0,
      "outputs": []
    },
    {
      "cell_type": "code",
      "metadata": {
        "id": "nC0Q4S9jBlgy",
        "colab_type": "code",
        "colab": {}
      },
      "source": [
        "# Python program for iterating over array using particular order\n",
        "\n",
        "a = np.arange(12) \n",
        " \n",
        "# shape array with 3 rows and 4 columns \n",
        "a = a.reshape(3,4) \n",
        " \n",
        "print('Original array is:') \n",
        "print(a)\n",
        "print()  \n",
        " \n",
        "print('Modified array in C-style order:')\n",
        " \n",
        "# iterating an array in a given order  \n",
        "for x in np.nditer(a, order = 'C'): \n",
        "    print(x)\n",
        "\n",
        "print('Modified array in F-style order:')\n",
        "\n",
        "# iterating an array in a given order   \n",
        "for x in np.nditer(a, order = 'F'): \n",
        "    print(x)"
      ],
      "execution_count": 0,
      "outputs": []
    },
    {
      "cell_type": "code",
      "metadata": {
        "id": "l23Tr-opkyrt",
        "colab_type": "code",
        "colab": {}
      },
      "source": [
        "# Random numbers between [0,1) of shape 2,2\n",
        "print(np.random.rand(2,2))\n",
        "\n",
        "# Normal distribution with mean=0 and variance=1 of shape 2,2\n",
        "print(np.random.randn(2,2))\n",
        "\n",
        "# Random integers between [0, 10) of shape 2,2\n",
        "print(np.random.randint(0, 10, size=[2,2]))\n",
        "\n",
        "# One random number between [0,1)\n",
        "print(np.random.random())\n",
        "\n",
        "# Random numbers between [0,1) of shape 2,2\n",
        "print(np.random.random(size=[2,2]))\n",
        "\n",
        "# Pick 10 items from a given list, with equal probability\n",
        "print(np.random.choice(['a', 'e', 'i', 'o', 'u'], size=10))  \n",
        "\n",
        "# Pick 10 items from a given list with a predefined probability 'p'\n",
        "print(np.random.choice(['a', 'e', 'i', 'o', 'u'], size=10, p=[0.3, .1, 0.1, 0.4, 0.1]))  # picks more o's"
      ],
      "execution_count": 0,
      "outputs": []
    },
    {
      "cell_type": "code",
      "metadata": {
        "id": "bTomkrJTlA2Y",
        "colab_type": "code",
        "colab": {}
      },
      "source": [
        "# Set the random seed\n",
        "np.random.seed(100)\n",
        "\n",
        "# Create random numbers between [0,1) of shape 2,2\n",
        "print(np.random.rand(2,2))"
      ],
      "execution_count": 0,
      "outputs": []
    },
    {
      "cell_type": "code",
      "metadata": {
        "id": "lW2XwwqZlQyN",
        "colab_type": "code",
        "colab": {}
      },
      "source": [
        "# Create random integers of size 10 between [0,10)\n",
        "np.random.seed(200)\n",
        "arr_rand = np.random.randint(0, 10, size=10)\n",
        "print(arr_rand)\n",
        "\n",
        "# Get the unique items and their counts\n",
        "uniqs, counts = np.unique(arr_rand, return_counts=True)\n",
        "print(\"Unique items : \", uniqs)\n",
        "print(\"Counts       : \", counts)"
      ],
      "execution_count": 0,
      "outputs": []
    },
    {
      "cell_type": "code",
      "metadata": {
        "id": "41rt6YRylaAm",
        "colab_type": "code",
        "colab": {}
      },
      "source": [
        "# WHERE METHOD\n",
        "\n",
        "# Create an array\n",
        "import numpy as np\n",
        "arr_rand = np.array([8, 8, 3, 7, 7, 0, 4, 2, 5, 2])\n",
        "print(\"Array: \", arr_rand)\n",
        "\n",
        "# Positions where value > 5\n",
        "index_gt5 = np.where(arr_rand > 5)\n",
        "print(\"Positions where value > 5: \", index_gt5)"
      ],
      "execution_count": 0,
      "outputs": []
    },
    {
      "cell_type": "code",
      "metadata": {
        "id": "bZMvnPvcE-Uj",
        "colab_type": "code",
        "colab": {}
      },
      "source": [
        "a = np.arange(9).reshape((3, 3))\n",
        "print(a)\n",
        "\n",
        "print(np.where(a < 4, -1, 100))"
      ],
      "execution_count": 0,
      "outputs": []
    },
    {
      "cell_type": "code",
      "metadata": {
        "id": "so_lNCjolm73",
        "colab_type": "code",
        "colab": {}
      },
      "source": [
        "# Take items at given index\n",
        "arr_rand.take(index_gt5)"
      ],
      "execution_count": 0,
      "outputs": []
    },
    {
      "cell_type": "code",
      "metadata": {
        "id": "ChupEhccltv3",
        "colab_type": "code",
        "colab": {}
      },
      "source": [
        "# If value > 5, then yield 'gt5' else 'le5'\n",
        "np.where(arr_rand > 5, 'gt5', 'le5')"
      ],
      "execution_count": 0,
      "outputs": []
    },
    {
      "cell_type": "code",
      "metadata": {
        "id": "SvEzwWmPlyu7",
        "colab_type": "code",
        "colab": {}
      },
      "source": [
        "# Location of the max\n",
        "print('Position of max value: ', np.argmax(arr_rand))  \n",
        "\n",
        "# Location of the min\n",
        "print('Position of min value: ', np.argmin(arr_rand)) "
      ],
      "execution_count": 0,
      "outputs": []
    },
    {
      "cell_type": "code",
      "metadata": {
        "id": "QOik9zw3saVM",
        "colab_type": "code",
        "colab": {}
      },
      "source": [
        "# Find Location isNan\n",
        "x = np.array([[1,2,3,4],\n",
        "              [2,3,np.nan,5],\n",
        "              [np.nan,5,2,3]])\n",
        "\n",
        "np.argwhere(np.isnan(x))"
      ],
      "execution_count": 0,
      "outputs": []
    },
    {
      "cell_type": "code",
      "metadata": {
        "id": "gEsfckEPs4gQ",
        "colab_type": "code",
        "colab": {}
      },
      "source": [
        "# Find Location Non Zero\n",
        "y = np.array([[1,2,3,4],\n",
        "              [2,3,0,5],\n",
        "              [np.nan,5,2,3]])\n",
        "\n",
        "np.count_nonzero(y)"
      ],
      "execution_count": 0,
      "outputs": []
    },
    {
      "cell_type": "code",
      "metadata": {
        "id": "ZDBGxSsSs1EI",
        "colab_type": "code",
        "colab": {}
      },
      "source": [
        "np.count_nonzero(~np.isnan(x))"
      ],
      "execution_count": 0,
      "outputs": []
    },
    {
      "cell_type": "code",
      "metadata": {
        "id": "i4cEmrXVl4r6",
        "colab_type": "code",
        "colab": {}
      },
      "source": [
        "# CONCATENATE\n",
        "\n",
        "# There are 3 different ways of concatenating two or more numpy arrays.\n",
        "\n",
        "# Method 1: np.concatenate by changing the axis parameter to 0 and 1\n",
        "# Method 2: np.vstack and np.hstack\n",
        "# Method 3: np.r_ and np.c_\n",
        "\n",
        "a = np.zeros([4, 4])\n",
        "b = np.ones([4, 4])\n",
        "\n",
        "# Vertical Stack Equivalents (Row wise)\n",
        "np.concatenate([a, b], axis=0)  \n",
        "np.vstack([a,b])  \n",
        "np.r_[a,b]  "
      ],
      "execution_count": 0,
      "outputs": []
    },
    {
      "cell_type": "code",
      "metadata": {
        "id": "pthpcpGAmrhy",
        "colab_type": "code",
        "colab": {}
      },
      "source": [
        "# Horizontal Stack Equivalents (Coliumn wise)\n",
        "np.concatenate([a, b], axis=1) \n",
        "np.hstack([a,b])  \n",
        "np.c_[a,b]"
      ],
      "execution_count": 0,
      "outputs": []
    },
    {
      "cell_type": "code",
      "metadata": {
        "id": "7YU_Om6JmuYV",
        "colab_type": "code",
        "colab": {}
      },
      "source": [
        "# SORTING\n",
        "\n",
        "arr = np.random.randint(1,6, size=[8, 4])\n",
        "arr"
      ],
      "execution_count": 0,
      "outputs": []
    },
    {
      "cell_type": "code",
      "metadata": {
        "id": "klyVb150m0Y0",
        "colab_type": "code",
        "colab": {}
      },
      "source": [
        "# Sort each columns of arr\n",
        "np.sort(arr, axis=0)"
      ],
      "execution_count": 0,
      "outputs": []
    },
    {
      "cell_type": "code",
      "metadata": {
        "id": "BlLgvpUlm2oq",
        "colab_type": "code",
        "colab": {}
      },
      "source": [
        "# Argsort the first column\n",
        "sorted_index_1stcol = arr[:, 0].argsort()\n",
        "\n",
        "# Sort 'arr' by first column without disturbing the integrity of rows\n",
        "arr[sorted_index_1stcol]"
      ],
      "execution_count": 0,
      "outputs": []
    },
    {
      "cell_type": "code",
      "metadata": {
        "id": "NK43U_vUnTPq",
        "colab_type": "code",
        "colab": {}
      },
      "source": [
        "# Descending sort\n",
        "arr[sorted_index_1stcol[::-1]]"
      ],
      "execution_count": 0,
      "outputs": []
    },
    {
      "cell_type": "code",
      "metadata": {
        "id": "IvIgwg4jngL6",
        "colab_type": "code",
        "colab": {}
      },
      "source": [
        "# Sort by column 0, then by column 1\n",
        "lexsorted_index = np.lexsort((arr[:, 1], arr[:, 0])) \n",
        "arr[lexsorted_index]"
      ],
      "execution_count": 0,
      "outputs": []
    },
    {
      "cell_type": "code",
      "metadata": {
        "id": "HPfh49GcnoMH",
        "colab_type": "code",
        "colab": {}
      },
      "source": [
        "# Define a scalar function\n",
        "def foo(x):\n",
        "    if x % 2 == 1:\n",
        "        return x**2\n",
        "    else:\n",
        "        return x/2\n",
        "\n",
        "# On a scalar\n",
        "print('x = 10 returns ', foo(10))\n",
        "print('x = 11 returns ', foo(11))"
      ],
      "execution_count": 0,
      "outputs": []
    },
    {
      "cell_type": "code",
      "metadata": {
        "id": "vEhmWBOmoNg5",
        "colab_type": "code",
        "colab": {}
      },
      "source": [
        "# Vectorize foo(). Make it work on vectors.\n",
        "foo_v = np.vectorize(foo, otypes=[float])\n",
        "\n",
        "print('x = [10, 11, 12] returns ', foo_v([10, 11, 12]))\n",
        "print('x = [[10, 11, 12], [1, 2, 3]] returns ', foo_v([[10, 11, 12], [1, 2, 3]]))"
      ],
      "execution_count": 0,
      "outputs": []
    },
    {
      "cell_type": "code",
      "metadata": {
        "id": "2zqkWoueoZGd",
        "colab_type": "code",
        "colab": {}
      },
      "source": [
        "# Create a 4x10 random array\n",
        "np.random.seed(100)\n",
        "arr_x = np.random.randint(1,10,size=[4,10])\n",
        "print(arr_x)\n",
        "\n",
        "# Define func1d\n",
        "def max_minus_min(x):\n",
        "    return np.max(x) - np.min(x)\n",
        "\n",
        "# Apply along the rows\n",
        "print('Row wise: ', np.apply_along_axis(max_minus_min, 1, arr=arr_x))\n",
        "\n",
        "# Apply along the columns\n",
        "print('Column wise: ', np.apply_along_axis(max_minus_min, 0, arr=arr_x))"
      ],
      "execution_count": 0,
      "outputs": []
    },
    {
      "cell_type": "code",
      "metadata": {
        "id": "jiKoPE2aomtS",
        "colab_type": "code",
        "colab": {}
      },
      "source": [
        "# Create a 1D array\n",
        "x = np.arange(5)\n",
        "print('Original array: ', x)\n",
        "\n",
        "# Introduce a new column axis\n",
        "x_col = x[:, np.newaxis]\n",
        "print('x_col shape: ', x_col.shape)\n",
        "print(x_col)\n",
        "\n",
        "# Introduce a new row axis\n",
        "x_row = x[np.newaxis, :]\n",
        "print('x_row shape: ', x_row.shape)\n",
        "print(x_row)"
      ],
      "execution_count": 0,
      "outputs": []
    },
    {
      "cell_type": "code",
      "metadata": {
        "id": "m59WdoehpBqR",
        "colab_type": "code",
        "colab": {}
      },
      "source": [
        "# Create the array and bins\n",
        "x = np.arange(10)\n",
        "bins = np.array([0, 3, 6, 9])\n",
        "print(x)\n",
        "\n",
        "# Get bin allotments\n",
        "np.digitize(x, bins)"
      ],
      "execution_count": 0,
      "outputs": []
    },
    {
      "cell_type": "code",
      "metadata": {
        "id": "n64rCr4i7s-X",
        "colab_type": "code",
        "colab": {}
      },
      "source": [
        "# Matrix Multiplication - Row into column\n",
        "\n",
        "# input two matrices \n",
        "mat1 = ([1, 6, 5],[3 ,4, 8],[2, 12, 3]) \n",
        "mat2 = ([3, 4, 6],[5, 6, 7],[6,56, 7]) \n",
        "  \n",
        "# This will return dot product \n",
        "res = np.dot(mat1,mat2) \n",
        "  \n",
        "# print resulted matrix \n",
        "print(res) "
      ],
      "execution_count": 0,
      "outputs": []
    },
    {
      "cell_type": "code",
      "metadata": {
        "id": "2sacCDqtBtiE",
        "colab_type": "code",
        "colab": {}
      },
      "source": [
        "# Percentile\n",
        "\n",
        "a = np.array([[30,40,70],[80,20,10],[50,90,60]]) \n",
        "\n",
        "print('Our array is:')\n",
        "print(a) \n",
        "print('\\n')  \n",
        "      \n",
        "print('Applying percentile() function:')\n",
        "print(np.percentile(a,50) )\n",
        "print('\\n')  \n",
        "      \n",
        "print('Applying percentile() function along axis 1:' )\n",
        "print(np.percentile(a,50, axis = 1) )\n",
        "print('\\n') \n",
        "\n",
        "print('Applying percentile() function along axis 0:' )\n",
        "print(np.percentile(a,50, axis = 0))"
      ],
      "execution_count": 0,
      "outputs": []
    }
  ]
}