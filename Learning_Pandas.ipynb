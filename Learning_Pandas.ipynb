{
  "nbformat": 4,
  "nbformat_minor": 0,
  "metadata": {
    "colab": {
      "name": "Learning Pandas.ipynb",
      "provenance": [],
      "private_outputs": true,
      "collapsed_sections": [
        "RjG1Mbdm5VyG",
        "3w1Mb42XIzgS",
        "rxu4zCodmcuj",
        "nIMx3WKcmXlc",
        "4O0ynt9wmhx8",
        "gnMhRkFJv-Em",
        "odFK9Xv_zwee",
        "tAkgjmBHEQ25",
        "aZnwd9N3GarE",
        "nuSzvb8rIAZI",
        "TsMhBPmhKiGg",
        "Pcb39g20VeV3",
        "QZfrBCOCW5Ik"
      ],
      "toc_visible": true
    },
    "kernelspec": {
      "name": "python3",
      "display_name": "Python 3"
    }
  },
  "cells": [
    {
      "cell_type": "markdown",
      "metadata": {
        "id": "RjG1Mbdm5VyG",
        "colab_type": "text"
      },
      "source": [
        "### WHAT IS PANDAS?"
      ]
    },
    {
      "cell_type": "markdown",
      "metadata": {
        "id": "EwVGjhrT5ZZM",
        "colab_type": "text"
      },
      "source": [
        "*Data is an integral part of our current world. It helps us predict various events and gives a certain direction to our lives. Pandas help us control and manipulate such data. Thus without a grasp over the knowledge of Pandas, you can completely forget about trying to become a Data Scientist or Data Analyst. Pandas are an essential tool for a beginners journey to work with data.*\n",
        "\n",
        "*Pandas provide essential data structures like series, dataframes, and panels which help in manipulating data sets and time series.*\n",
        "\n",
        "*It is free to use and an open source library, making it one of the most widely used data science libraries in the world.*\n",
        "\n",
        "*Pandas possess the power to perform various tasks. Whether it is computing tasks like finding the mean, median and mode of data, or a task of handling large CSV files and manipulating the contents according to our will, Pandas can do it all. In short, to master data science, you must be skillful in Pandas.*\n",
        "\n",
        "*Pandas is used for data manipulation, analysis and cleaning. Python pandas is well suited for different kinds of data, such as:*\n",
        "\n",
        "1. *Tabular data with heterogeneously-typed columns*\n",
        "2. *Ordered and unordered time series data*\n",
        "3. *Arbitrary matrix data with row & column labels*\n",
        "4. *Unlabelled data*\n",
        "5. *Any other form of observational or statistical data sets*"
      ]
    },
    {
      "cell_type": "code",
      "metadata": {
        "id": "4teOM3sq9WXn",
        "colab_type": "code",
        "colab": {}
      },
      "source": [
        "# import pandas as pd\n",
        "import pandas as pd"
      ],
      "execution_count": 0,
      "outputs": []
    },
    {
      "cell_type": "markdown",
      "metadata": {
        "id": "pnE-jXncIMQS",
        "colab_type": "text"
      },
      "source": [
        "_Pandas deals with the following three data structures −_\n",
        "\n",
        "1. _**Series**: 1D labeled homogeneous array, sizeimmutable._ \n",
        "2. _**DataFrame**: General 2D labeled, size-mutable tabular structure with potentially heterogeneously typed columns._\n",
        "3. _Panel: General 3D labeled, size-mutable array._\n",
        "\n",
        "_These data structures are built on top of Numpy array, which means they are fast._\n"
      ]
    },
    {
      "cell_type": "markdown",
      "metadata": {
        "id": "3w1Mb42XIzgS",
        "colab_type": "text"
      },
      "source": [
        "### pandas.Series\n",
        "\n",
        "_Series is a one-dimensional labeled array capable of holding data of any type (integer, string, float, python objects, etc.). The axis labels are collectively called index._\n"
      ]
    },
    {
      "cell_type": "markdown",
      "metadata": {
        "id": "DHoh4rYwJFaA",
        "colab_type": "text"
      },
      "source": [
        "\n",
        "\n",
        "```\n",
        "pandas.Series( data, index, dtype, copy)\n",
        "\n",
        "data: data takes various forms like ndarray, list, constants\n",
        "index: Index values must be unique and hashable, same length as data. Default np.arrange(n) if no index is passed.\n",
        "dtype: dtype is for data type. If None, data type will be inferred\n",
        "copy: Copy data. Default False\n",
        "```\n"
      ]
    },
    {
      "cell_type": "code",
      "metadata": {
        "id": "BcXG70BaINkT",
        "colab_type": "code",
        "colab": {}
      },
      "source": [
        "# Empty Series\n",
        "\n",
        "s = pd.Series()\n",
        "print (s)"
      ],
      "execution_count": 0,
      "outputs": []
    },
    {
      "cell_type": "code",
      "metadata": {
        "id": "8ECXoVi-KB6W",
        "colab_type": "code",
        "colab": {}
      },
      "source": [
        "import numpy as np\n",
        "data = np.array(['a','b','c','d'])\n",
        "s = pd.Series(data)\n",
        "print (s)"
      ],
      "execution_count": 0,
      "outputs": []
    },
    {
      "cell_type": "code",
      "metadata": {
        "id": "YPXxtksPKGJf",
        "colab_type": "code",
        "colab": {}
      },
      "source": [
        "# Series from Numpy Array\n",
        "data = np.array(['a','b','c','d'])\n",
        "s = pd.Series(data,index=[100,101,102,103])\n",
        "print (s)"
      ],
      "execution_count": 0,
      "outputs": []
    },
    {
      "cell_type": "code",
      "metadata": {
        "id": "sEOM1WnOKKQJ",
        "colab_type": "code",
        "colab": {}
      },
      "source": [
        "# Series from Dictionary\n",
        "data = {'a' : 0., 'b' : 1., 'c' : 2.}\n",
        "s = pd.Series(data)\n",
        "print (s)"
      ],
      "execution_count": 0,
      "outputs": []
    },
    {
      "cell_type": "code",
      "metadata": {
        "id": "njCWDSf-KPP5",
        "colab_type": "code",
        "colab": {}
      },
      "source": [
        "# Series from Indexed Dictionary\n",
        "data = {'a' : 'Piyush', 'b' : 'Sneha', 'c' : 'Singla','f':'Singla'}\n",
        "s = pd.Series(data,index=['b','c','d','a','f'],name = 'SeriesWithNames')\n",
        "print (s)"
      ],
      "execution_count": 0,
      "outputs": []
    },
    {
      "cell_type": "markdown",
      "metadata": {
        "id": "ISZxFhHNPasD",
        "colab_type": "text"
      },
      "source": [
        "#### SERIES INDEXING "
      ]
    },
    {
      "cell_type": "code",
      "metadata": {
        "id": "rwc9mWgJKaC5",
        "colab_type": "code",
        "colab": {}
      },
      "source": [
        "# Access the first element\n",
        "print (s[0])\n",
        "\n",
        "#retrieve the first three element\n",
        "print (s[:3])\n",
        "\n",
        "#retrieve the last three element\n",
        "print (s[-3:])\n",
        "\n",
        "#retrieve a single element using index\n",
        "print (s['a'])\n",
        "\n",
        "#retrieve multiple elements using index\n",
        "print (s[['a','c','d']])\n",
        "\n",
        "# Get values from Series\n",
        "print(s.values)\n",
        "\n",
        "# Get Value at index from Series\n",
        "print(s.values[0])"
      ],
      "execution_count": 0,
      "outputs": []
    },
    {
      "cell_type": "markdown",
      "metadata": {
        "id": "kKzzEIhwPX7q",
        "colab_type": "text"
      },
      "source": [
        "#### SERIES METHODS"
      ]
    },
    {
      "cell_type": "code",
      "metadata": {
        "id": "88Ocgr-xKexZ",
        "colab_type": "code",
        "colab": {}
      },
      "source": [
        "# Count of Elements in Series: Returns number of non-NA/null observations in the Series\n",
        "print(s.count())\n",
        "\n",
        "# Gets Size of Series: Returns the number of elements in the underlying data\n",
        "print(s.size)\n",
        "\n",
        "# Name of Series\n",
        "print(s.name)\n",
        "\n",
        "# Checks if all elements in Series are Unique\n",
        "print(s.is_unique)\n",
        "\n",
        "# Sorts Series : Method is called on a Series to sort the values in ascending or descending order\n",
        "print(s.sort_values(ascending = False))\n",
        "\n",
        "# Sort index : Method is called on a pandas Series to sort it by the index instead of its values\n",
        "print(s.sort_index(ascending = False))\n",
        "\n",
        "# prints first 4\n",
        "print(s.head())\n",
        "\n",
        "# prints last 4\n",
        "print(s.tail(4))\n",
        "\n",
        "# Prints unique elements in Series : unique() is used to see the unique values in a particular column\n",
        "print(s.unique())\n",
        "\n",
        "# Prints no of unique elements in Series :  Pandas nunique() is used to get a count of unique values\n",
        "print(s.nunique(dropna = True))\n",
        "\n",
        "# Prints count of each  elements in Series :  Method to count the number of the times each unique value occurs in a Series\n",
        "print(s.value_counts())\n",
        "\n",
        "# Series from Dictionary\n",
        "data = {'a' : 0., 'b' : 1., 'c' : 2.}\n",
        "s = pd.Series(data)\n",
        "print (s)\n",
        "\n",
        "#idxmax()\tMethod to extract the index positions of the highest values in a Series\n",
        "print(s.idxmax())\n",
        "\n",
        "#idxmin()\tMethod to extract the index positions of the lowest values in a Series\n",
        "print(s.idxmin())\n",
        "\n",
        "#astype()\tMethod is used to change data type of a series\n",
        "print(s.astype(np.int))\n",
        "\n",
        "#tolist()\tMethod is used to convert a series to list\n",
        "print(s.tolist())\n",
        "\n",
        "#to_numpy() to convert to array\n",
        "print(s.to_numpy())"
      ],
      "execution_count": 0,
      "outputs": []
    },
    {
      "cell_type": "code",
      "metadata": {
        "id": "ECvSjHGNtrvr",
        "colab_type": "code",
        "colab": {}
      },
      "source": [
        "# creating a series\n",
        "data = pd.Series([5, 2, 3,7], index=['a', 'b', 'c', 'd'])\n",
        "data1 = pd.Series([1, 6, 3, 9], index=['a', 'b', 'd', 'e'])\n",
        "\n",
        "#le()\tUsed to compare every element of Caller series with passed series.It returns True for every element which is Less than or Equal to the element in passed series\n",
        "print(data.le(data1))\n",
        "\n",
        "#ne()\tUsed to compare every element of Caller series with passed series. It returns True for every element which is Not Equal to the element in passed series\n",
        "print(data.ne(data1))\n",
        "\n",
        "#ge()\tUsed to compare every element of Caller series with passed series. It returns True for every element which is Greater than or Equal to the element in passed series\n",
        "print(data.ge(data1))\n",
        "\n",
        "#eq()\tUsed to compare every element of Caller series with passed series. It returns True for every element which is Equal to the element in passed series\n",
        "print(data.eq(data1))\n",
        "\n",
        "#gt()\tUsed to compare two series and return Boolean value for every respective element\n",
        "print(data.gt(data1))\n",
        "\n",
        "#lt()\tUsed to compare two series and return Boolean value for every respective element\n",
        "print(data.lt(data1))"
      ],
      "execution_count": 0,
      "outputs": []
    },
    {
      "cell_type": "code",
      "metadata": {
        "id": "mF3QbZ8Nutxy",
        "colab_type": "code",
        "colab": {}
      },
      "source": [
        "# add()\tMethod is used to add series or list like objects with same length to the caller series\n",
        "print(data.add(data1))\n",
        "\n",
        "# sub()\tMethod is used to subtract series or list like objects with same length from the caller series\n",
        "print(data.sub(data1))\n",
        "\n",
        "# mul()\tMethod is used to multiply series or list like objects with same length with the caller series\n",
        "print(data.mul(data1))\n",
        "\n",
        "# div()\tMethod is used to divide series or list like objects with same length by the caller series\n",
        "print(data.div(data1))\n",
        "\n",
        "# sum()\tReturns the sum of the values for the requested axis\n",
        "print(data.sum())\n",
        "\n",
        "# prod() Returns the product of the values for the requested axis\n",
        "print(data.prod())\n",
        "\n",
        "# mean() Returns the mean of the values for the requested axis\n",
        "print(data.mean())\n",
        "\n",
        "# pow()\tMethod is used to put each element of passed series as exponential power of caller series and returned the results\n",
        "print(data.pow(data1))\n",
        "\n",
        "# abs()\tMethod is used to get the absolute numeric value of each element in Series/DataFrame\n",
        "print(data.sub(data1).abs())\n",
        "\n",
        "# cov()\tMethod is used to find covariance of two series\n",
        "print(data.cov(data1))"
      ],
      "execution_count": 0,
      "outputs": []
    },
    {
      "cell_type": "code",
      "metadata": {
        "id": "t6oGeXwUvKRZ",
        "colab_type": "code",
        "colab": {}
      },
      "source": [
        "# Pandas combine_first() method is used to combine two series into one. The result is union of the two series that is in case of Null value in caller series, the value from passed series is taken.\n",
        "# In case of both null values at the same index, null is returned at that index.\n",
        "\n",
        "# creating series 1  \n",
        "series1 = pd.Series([70, 5, 0, 225, 1, 16, np.nan, 10, np.nan])  \n",
        "    \n",
        "# creating series 2  \n",
        "series2 = pd.Series([27, np.nan, 2, 23, 1, 95, 53, 10, 5])  \n",
        "  \n",
        "# combining and returning results to variable \n",
        "# calling on series1 \n",
        "result1 = series1.combine_first(series2)   \n",
        "# calling on series2 \n",
        "result2 = series2.combine_first(series1) \n",
        "  \n",
        "# printing result \n",
        "print('Result 1:\\n', result1, '\\n\\nResult 2:\\n', result2) "
      ],
      "execution_count": 0,
      "outputs": []
    },
    {
      "cell_type": "markdown",
      "metadata": {
        "id": "aKOV2WLPyEcD",
        "colab_type": "text"
      },
      "source": [
        "### pandas.DataFrame\n",
        "\n",
        "_A Data frame is a two-dimensional data structure, i.e., data is aligned in a tabular fashion in rows and columns._"
      ]
    },
    {
      "cell_type": "markdown",
      "metadata": {
        "id": "rxu4zCodmcuj",
        "colab_type": "text"
      },
      "source": [
        "#### CREATING DATAFRAME"
      ]
    },
    {
      "cell_type": "code",
      "metadata": {
        "id": "tbp5gwACxdHJ",
        "colab_type": "code",
        "colab": {}
      },
      "source": [
        "# Empty DataFrame\n",
        "\n",
        "df = pd.DataFrame()\n",
        "print (df)"
      ],
      "execution_count": 0,
      "outputs": []
    },
    {
      "cell_type": "code",
      "metadata": {
        "id": "j5Z1ZKHkyZxc",
        "colab_type": "code",
        "colab": {}
      },
      "source": [
        "# Dataframe from List\n",
        "\n",
        "data = [['Piyush',28],['Sneha',28],['Ruchi',24]]\n",
        "df = pd.DataFrame(data,columns=['Name','Age'])\n",
        "print (df)"
      ],
      "execution_count": 0,
      "outputs": []
    },
    {
      "cell_type": "code",
      "metadata": {
        "id": "T09waTiXwlJF",
        "colab_type": "code",
        "colab": {}
      },
      "source": [
        "# Creating a DF with Randomm numbers\n",
        "\n",
        "pd.DataFrame(np.random.rand(4,3)) "
      ],
      "execution_count": 0,
      "outputs": []
    },
    {
      "cell_type": "code",
      "metadata": {
        "id": "vNZDhH2Syg8C",
        "colab_type": "code",
        "colab": {}
      },
      "source": [
        "# Dataframe from Dictionary\n",
        "\n",
        "data = {'Name':['Piyush', 'Sneha', 'Ruchi', 'Rishabh'],'Age':[28,34,29,42]}\n",
        "df = pd.DataFrame(data, index=['P1','P2','P3','P4'])\n",
        "print (df)"
      ],
      "execution_count": 0,
      "outputs": []
    },
    {
      "cell_type": "code",
      "metadata": {
        "id": "6wPeLXS6zOGg",
        "colab_type": "code",
        "colab": {}
      },
      "source": [
        "# Define a dictionary containing employee data\n",
        "data = {'Name':['Piyush', 'Ruchika', 'Sneha', 'Seema','Sandeep','Abhishek','Shivi','Rohit','Sunny','Mihir','Kirti','Sachin'],\n",
        "        'Age':[27, 24, 22, 32,45,32,31,34,33,21,22,47],\n",
        "        'Address':['Chandigarh', 'Gurgaon', 'Delhi', 'Delhi', 'Chandigarh','Lucknow','Delhi','Ambala','Delhi','Kolkata','Indore','Nagpur'],\n",
        "        'Qualification':['BTECH', 'CA', 'BCOM', 'MA', 'BE','MTECH','MBA','MCOM','PHD','CA','MBA','ARTS'],\n",
        "        'Rating':[5,4.5,2,3,4,3.5,5,2,1.5,4,3,3]}\n",
        " \n",
        "# Convert the dictionary into DataFrame \n",
        "df = pd.DataFrame(data, dtype = 'float')\n",
        " \n",
        "# select two columns\n",
        "print(df[['Name', 'Qualification']])"
      ],
      "execution_count": 0,
      "outputs": []
    },
    {
      "cell_type": "code",
      "metadata": {
        "id": "z5TwvISQ0T9Z",
        "colab_type": "code",
        "colab": {}
      },
      "source": [
        "# Column Addition \n",
        "df['Job'] = ['IT','CA','Audit','Teacher','IT','CA','Audit','Teacher','IT','CA','Audit','Teacher']\n",
        "\n",
        "print(df[['Name','Job']])"
      ],
      "execution_count": 0,
      "outputs": []
    },
    {
      "cell_type": "code",
      "metadata": {
        "id": "FphxNBdFdUsg",
        "colab_type": "code",
        "colab": {}
      },
      "source": [
        "# Column Deletion \n",
        "del df['Address']\n",
        "\n",
        "# Deletion of Row\n",
        "df.drop(3, inplace = True)"
      ],
      "execution_count": 0,
      "outputs": []
    },
    {
      "cell_type": "code",
      "metadata": {
        "id": "JoE_lhfNsbjS",
        "colab_type": "code",
        "colab": {}
      },
      "source": [
        "# set index\n",
        "df.index = range(0,11) "
      ],
      "execution_count": 0,
      "outputs": []
    },
    {
      "cell_type": "markdown",
      "metadata": {
        "id": "d16JDhO9e9jw",
        "colab_type": "text"
      },
      "source": [
        "\n",
        "\n",
        "```\n",
        "DataFrame − “index” (axis=0, default), “columns” (axis=1)\n",
        "```\n",
        "\n"
      ]
    },
    {
      "cell_type": "markdown",
      "metadata": {
        "id": "nIMx3WKcmXlc",
        "colab_type": "text"
      },
      "source": [
        "#### FUNCTIONS"
      ]
    },
    {
      "cell_type": "code",
      "metadata": {
        "id": "eZgippwclutu",
        "colab_type": "code",
        "colab": {}
      },
      "source": [
        "# information about the DF\n",
        "print(df.info())"
      ],
      "execution_count": 0,
      "outputs": []
    },
    {
      "cell_type": "code",
      "metadata": {
        "id": "jp6naT0Vu6WM",
        "colab_type": "code",
        "colab": {}
      },
      "source": [
        "# Count of Rows and Columns\n",
        "df.shape "
      ],
      "execution_count": 0,
      "outputs": []
    },
    {
      "cell_type": "code",
      "metadata": {
        "id": "4pNH_empvAeF",
        "colab_type": "code",
        "colab": {}
      },
      "source": [
        "# Returns 1 if Series and 2 if DataFrame\n",
        "df.ndim "
      ],
      "execution_count": 0,
      "outputs": []
    },
    {
      "cell_type": "code",
      "metadata": {
        "id": "QXVFUYchsmBP",
        "colab_type": "code",
        "colab": {}
      },
      "source": [
        "# Checking Index : returns index (row labels) of the DataFrame \n",
        "df.index"
      ],
      "execution_count": 0,
      "outputs": []
    },
    {
      "cell_type": "code",
      "metadata": {
        "id": "5pPPPZFcs3S-",
        "colab_type": "code",
        "colab": {}
      },
      "source": [
        "# return numpy array of dataframe\n",
        "df.values"
      ],
      "execution_count": 0,
      "outputs": []
    },
    {
      "cell_type": "code",
      "metadata": {
        "id": "W_IvRDwOoHyL",
        "colab_type": "code",
        "colab": {}
      },
      "source": [
        "# Print column names\n",
        "print(df.columns)"
      ],
      "execution_count": 0,
      "outputs": []
    },
    {
      "cell_type": "code",
      "metadata": {
        "id": "QamKyOktqejW",
        "colab_type": "code",
        "colab": {}
      },
      "source": [
        "# renaming columns\n",
        "df.columns = ['name','age','qualification','rating','job'] "
      ],
      "execution_count": 0,
      "outputs": []
    },
    {
      "cell_type": "code",
      "metadata": {
        "id": "-cDlZ_jiqpFE",
        "colab_type": "code",
        "colab": {}
      },
      "source": [
        " # rename columns\n",
        "df.rename(columns = {'name':'Name','age':'Age','qualification':'Qualification','rating':'Rating','job':'Job'}, inplace = True)"
      ],
      "execution_count": 0,
      "outputs": []
    },
    {
      "cell_type": "code",
      "metadata": {
        "id": "A85jOo2NdrSX",
        "colab_type": "code",
        "colab": {}
      },
      "source": [
        "print(df.count())\t # count()\tNumber of non-null observations\n",
        "\n",
        "print(df.sum()) # sum()\tSum of values\n",
        "print(df.sum(axis = 1))\n",
        "print(df['Age'].sum())\n",
        "\n",
        "print(df.mean()) # mean()\tMean of Values\n",
        "\n",
        "print(df.median()) # median()\tMedian of Values\n",
        "\n",
        "print(df.mode()) # mode()\tMode of values\n",
        "\n",
        "print(df.std()) # std()\tStandard Deviation of the Values\n",
        "\n",
        "print(df.min()) # min()\tMinimum Value\n",
        "\n",
        "print(df.max()) # max()\tMaximum Value"
      ],
      "execution_count": 0,
      "outputs": []
    },
    {
      "cell_type": "code",
      "metadata": {
        "id": "UPfT7YcwsHg7",
        "colab_type": "code",
        "colab": {}
      },
      "source": [
        "print(df['Age'].nlargest())\n",
        "print(df['Age'].nsmallest())"
      ],
      "execution_count": 0,
      "outputs": []
    },
    {
      "cell_type": "code",
      "metadata": {
        "id": "_RqTpzr6mppC",
        "colab_type": "code",
        "colab": {}
      },
      "source": [
        "# Summary of Statistics\n",
        "print(df.describe()) "
      ],
      "execution_count": 0,
      "outputs": []
    },
    {
      "cell_type": "code",
      "metadata": {
        "id": "7c7S7UX9m5jE",
        "colab_type": "code",
        "colab": {}
      },
      "source": [
        "print (df.describe(include=['object']))"
      ],
      "execution_count": 0,
      "outputs": []
    },
    {
      "cell_type": "code",
      "metadata": {
        "id": "AcvkqGAHnIaV",
        "colab_type": "code",
        "colab": {}
      },
      "source": [
        "print(df['Age'].dtype) # Check Data Type"
      ],
      "execution_count": 0,
      "outputs": []
    },
    {
      "cell_type": "code",
      "metadata": {
        "id": "kUf11WSOn3nt",
        "colab_type": "code",
        "colab": {}
      },
      "source": [
        "# Check between Range\n",
        "print(df['Age'].between(20,30))"
      ],
      "execution_count": 0,
      "outputs": []
    },
    {
      "cell_type": "code",
      "metadata": {
        "id": "Ivoo5Ii9tZfM",
        "colab_type": "code",
        "colab": {}
      },
      "source": [
        "df[df.Age.isin([22])] # .isin([]) : extracts rows from a DataFrame where a column value exists in a predefined collection"
      ],
      "execution_count": 0,
      "outputs": []
    },
    {
      "cell_type": "code",
      "metadata": {
        "id": "ALrqffsSt1ls",
        "colab_type": "code",
        "colab": {}
      },
      "source": [
        "df.loc[:,df.columns.isin(['Age'])] # Check if column is there"
      ],
      "execution_count": 0,
      "outputs": []
    },
    {
      "cell_type": "code",
      "metadata": {
        "id": "X4HF0gCYuKtL",
        "colab_type": "code",
        "colab": {}
      },
      "source": [
        "df.loc[:,~df.columns.isin(['Age'])] # gets if column is not there"
      ],
      "execution_count": 0,
      "outputs": []
    },
    {
      "cell_type": "code",
      "metadata": {
        "id": "GUYFXzoAuT_h",
        "colab_type": "code",
        "colab": {}
      },
      "source": [
        "df.sort_values('Age',ascending= False) # sorts df by Age column"
      ],
      "execution_count": 0,
      "outputs": []
    },
    {
      "cell_type": "code",
      "metadata": {
        "id": "Xxe7O7AlufIu",
        "colab_type": "code",
        "colab": {}
      },
      "source": [
        "df.sort_index(ascending = False) # Sort DF by index"
      ],
      "execution_count": 0,
      "outputs": []
    },
    {
      "cell_type": "code",
      "metadata": {
        "id": "WImI8kdIvOYv",
        "colab_type": "code",
        "colab": {}
      },
      "source": [
        "df.reset_index() # resets the index of DF and makes it as column"
      ],
      "execution_count": 0,
      "outputs": []
    },
    {
      "cell_type": "code",
      "metadata": {
        "id": "LVhn6XAQvVJh",
        "colab_type": "code",
        "colab": {}
      },
      "source": [
        "df.reset_index(drop= True) # resets index and drop the column added"
      ],
      "execution_count": 0,
      "outputs": []
    },
    {
      "cell_type": "markdown",
      "metadata": {
        "id": "4O0ynt9wmhx8",
        "colab_type": "text"
      },
      "source": [
        "#### NULL CHECKS"
      ]
    },
    {
      "cell_type": "code",
      "metadata": {
        "id": "91Ig5aAmkPac",
        "colab_type": "code",
        "colab": {}
      },
      "source": [
        "# CHECKING FOR NULLS\n",
        "\n",
        "print(df.isnull()) # check for nulls\n",
        "\n",
        "print(df['Age'].isnull()) # column based null check\n",
        "\n",
        "print(df.notnull()) # check not null"
      ],
      "execution_count": 0,
      "outputs": []
    },
    {
      "cell_type": "code",
      "metadata": {
        "id": "ZsYAc230vuBP",
        "colab_type": "code",
        "colab": {}
      },
      "source": [
        "df.dropna(how='any', axis =0) # Drops Row( axis = 0) for ANY NA Value\n",
        "df.dropna(how='all', axis =1) # Drops Column( axis = 1) for ALL NA Value "
      ],
      "execution_count": 0,
      "outputs": []
    },
    {
      "cell_type": "code",
      "metadata": {
        "id": "cvj0pGBOvzlq",
        "colab_type": "code",
        "colab": {}
      },
      "source": [
        "df.fillna(value=0) # Fills Na value with value\n",
        "\n",
        "#method='ffill': Ffill or forward-fill propagates the last observed non-null value forward until another non-null value is encountered.\n",
        "#method='bfill': Bfill or backward-fill propagates the first observed non-null value backward until another non-null value is met."
      ],
      "execution_count": 0,
      "outputs": []
    },
    {
      "cell_type": "code",
      "metadata": {
        "id": "mZlh6F0Gv3N1",
        "colab_type": "code",
        "colab": {}
      },
      "source": [
        "pd.isna(df) # Check if NA in dataframe"
      ],
      "execution_count": 0,
      "outputs": []
    },
    {
      "cell_type": "markdown",
      "metadata": {
        "id": "gnMhRkFJv-Em",
        "colab_type": "text"
      },
      "source": [
        "#### INDEXING AND SELECTION"
      ]
    },
    {
      "cell_type": "markdown",
      "metadata": {
        "id": "qMEOeRkZxYuX",
        "colab_type": "text"
      },
      "source": [
        "\n",
        "\n",
        "```\n",
        ".loc() : Label based\n",
        "\n",
        ".iloc() : Integer based\n",
        "```\n",
        "\n"
      ]
    },
    {
      "cell_type": "code",
      "metadata": {
        "id": "aetFouWWv9Xd",
        "colab_type": "code",
        "colab": {}
      },
      "source": [
        "# Selecting Column - Will Give Series\n",
        "\n",
        "df['Age']"
      ],
      "execution_count": 0,
      "outputs": []
    },
    {
      "cell_type": "code",
      "metadata": {
        "id": "7JcPw365yHNX",
        "colab_type": "code",
        "colab": {}
      },
      "source": [
        "# Selecting Multiple Columns\n",
        "\n",
        "df[['Name','Age']]"
      ],
      "execution_count": 0,
      "outputs": []
    },
    {
      "cell_type": "code",
      "metadata": {
        "id": "779G-nLyzIRD",
        "colab_type": "code",
        "colab": {}
      },
      "source": [
        "# Selecting Rows\n",
        "\n",
        "df[0:2]"
      ],
      "execution_count": 0,
      "outputs": []
    },
    {
      "cell_type": "code",
      "metadata": {
        "id": "IVDWKDNvyTIS",
        "colab_type": "code",
        "colab": {}
      },
      "source": [
        "# Selecting Columns based on Labels\n",
        "\n",
        "df.loc[:,['Age','Rating']]"
      ],
      "execution_count": 0,
      "outputs": []
    },
    {
      "cell_type": "code",
      "metadata": {
        "id": "zIT-0gh-ygEs",
        "colab_type": "code",
        "colab": {}
      },
      "source": [
        "# Selecting Columns based on Labels\n",
        "\n",
        "df.loc[:5,['Age','Rating']]"
      ],
      "execution_count": 0,
      "outputs": []
    },
    {
      "cell_type": "code",
      "metadata": {
        "id": "TLJj6Azgyj7l",
        "colab_type": "code",
        "colab": {}
      },
      "source": [
        "# Selecting on basis of index \n",
        "\n",
        "df.iloc[:4,:2]"
      ],
      "execution_count": 0,
      "outputs": []
    },
    {
      "cell_type": "markdown",
      "metadata": {
        "id": "odFK9Xv_zwee",
        "colab_type": "text"
      },
      "source": [
        "#### FILTERING"
      ]
    },
    {
      "cell_type": "code",
      "metadata": {
        "id": "J32jZeodzz8w",
        "colab_type": "code",
        "colab": {}
      },
      "source": [
        "# Conditional Filtering \n",
        "\n",
        "filter1 = df[\"Age\"] > 25\n",
        "filtered_review = df[filter1]\n",
        "filtered_review"
      ],
      "execution_count": 0,
      "outputs": []
    },
    {
      "cell_type": "code",
      "metadata": {
        "id": "39DgoBai0BDY",
        "colab_type": "code",
        "colab": {}
      },
      "source": [
        "filter2 = (df[\"Age\"] > 25) & (df[\"Rating\"] > 3)\n",
        "filtered_review1 = df[filter2]\n",
        "filtered_review1"
      ],
      "execution_count": 0,
      "outputs": []
    },
    {
      "cell_type": "code",
      "metadata": {
        "id": "6_W1_-pksV2r",
        "colab_type": "code",
        "colab": {}
      },
      "source": [
        "df[df['Age']>30] # Direct Filtering"
      ],
      "execution_count": 0,
      "outputs": []
    },
    {
      "cell_type": "code",
      "metadata": {
        "id": "jVMGsIaMDT9d",
        "colab_type": "code",
        "colab": {}
      },
      "source": [
        "df.filter(items=['Rating', 'Job']) # filters columns"
      ],
      "execution_count": 0,
      "outputs": []
    },
    {
      "cell_type": "code",
      "metadata": {
        "id": "gIdzbjbFDh1l",
        "colab_type": "code",
        "colab": {}
      },
      "source": [
        "df.filter(regex='e$', axis=1) # fIlters Columns with e"
      ],
      "execution_count": 0,
      "outputs": []
    },
    {
      "cell_type": "code",
      "metadata": {
        "id": "AYnirSOYDqLn",
        "colab_type": "code",
        "colab": {}
      },
      "source": [
        "df.filter(like='N', axis=1) # Filters columns with N"
      ],
      "execution_count": 0,
      "outputs": []
    },
    {
      "cell_type": "code",
      "metadata": {
        "id": "AELK0_MAKSPN",
        "colab_type": "code",
        "colab": {}
      },
      "source": [
        "# where()\tIt is used to check a DataFrame for one or more condition and return the result accordingly\n",
        "\n",
        "df.where(filter1)"
      ],
      "execution_count": 0,
      "outputs": []
    },
    {
      "cell_type": "code",
      "metadata": {
        "id": "I__CL9kD0Mam",
        "colab_type": "code",
        "colab": {}
      },
      "source": [
        "df[df['Name'].str.contains('P')] # Column Contains"
      ],
      "execution_count": 0,
      "outputs": []
    },
    {
      "cell_type": "code",
      "metadata": {
        "id": "PMOPvnC70loL",
        "colab_type": "code",
        "colab": {}
      },
      "source": [
        "df[df['Name'].str.startswith('K')] # Column Value starts with "
      ],
      "execution_count": 0,
      "outputs": []
    },
    {
      "cell_type": "code",
      "metadata": {
        "id": "SK98QoWv0v3U",
        "colab_type": "code",
        "colab": {}
      },
      "source": [
        "df.replace('Sunny','Sneha',inplace = True) # Replace Value \n",
        "df"
      ],
      "execution_count": 0,
      "outputs": []
    },
    {
      "cell_type": "code",
      "metadata": {
        "id": "ulONYJFYFbbK",
        "colab_type": "code",
        "colab": {}
      },
      "source": [
        "# Taking Sample of DataFrame \n",
        "\n",
        "df.sample(n= 5, random_state = 2)  # It pulls out a random sample of rows or columns from a DataFrame "
      ],
      "execution_count": 0,
      "outputs": []
    },
    {
      "cell_type": "markdown",
      "metadata": {
        "id": "tAkgjmBHEQ25",
        "colab_type": "text"
      },
      "source": [
        "#### APPENDING TO DATAFRAME"
      ]
    },
    {
      "cell_type": "code",
      "metadata": {
        "id": "vNC_0L9WtCws",
        "colab_type": "code",
        "colab": {}
      },
      "source": [
        "# Adding Row Data to DF\n",
        "\n",
        "modDf = df.append({'Name' : 'Sahil' , 'Age' : 22, 'Qualification':'CA', 'Rating' : 2.5, 'Job': 'Audit'} , ignore_index=True)\n",
        "modDf"
      ],
      "execution_count": 0,
      "outputs": []
    },
    {
      "cell_type": "code",
      "metadata": {
        "id": "ZVqLiaCBwcml",
        "colab_type": "code",
        "colab": {}
      },
      "source": [
        "# Add List of Series\n",
        "\n",
        "listOfSeries = [pd.Series(['Raju', 21, 'BTECH', 2, 'Operator'], index=df.columns) ,\n",
        "                pd.Series(['Sam', 22, 'CA', 5, 'Security'], index=df.columns) , \n",
        "                pd.Series(['Rocky', 23, 'BCOM', 1,'Entry'], index=df.columns) ]\n",
        "\n",
        "modDf = modDf.append(listOfSeries, ignore_index = True, sort = False)\n",
        "modDf"
      ],
      "execution_count": 0,
      "outputs": []
    },
    {
      "cell_type": "code",
      "metadata": {
        "id": "FVp37gZktxz1",
        "colab_type": "code",
        "colab": {}
      },
      "source": [
        "# Appending Data Frames\n",
        "\n",
        "data1 = {'Name':['Piyush', 'Ruchika', 'Sunny','Mihir','Kirti','Sachin'],\n",
        "        'Age':[27, 24, 22, 32,45,32],\n",
        "        'Qualification':['BTECH', 'CA', 'BCOM', 'MA', 'BE','MTECH'],\n",
        "        'Rating':[5,4.5,2,3,4,3.5],\n",
        "         'Job': ['CA','IT','Pharma','Repairs','IT',np.nan]}\n",
        "\n",
        "data1 = pd.DataFrame(data1)\n",
        "\n",
        "modDf = modDf.append(data1, ignore_index = True, sort = False)\n",
        "modDf"
      ],
      "execution_count": 0,
      "outputs": []
    },
    {
      "cell_type": "code",
      "metadata": {
        "id": "PocZaNXYFWj-",
        "colab_type": "code",
        "colab": {}
      },
      "source": [
        "# Concatenate Data Frames\n",
        "\n",
        "data1 = {'Name':['Akshay', 'Jordi', 'Amit','Kishan','Jagriti','Akriti'],\n",
        "        'Age':[27, 24, 22, 32,45,32],\n",
        "        'Qualification':['BTECH', 'CA', 'BCOM', 'MA', 'BE','MTECH'],\n",
        "        'Rating':[5,4.5,2,3,4,3.5],\n",
        "         'Job': ['CA','IT','Pharma','Repairs','IT',np.nan]}\n",
        "\n",
        "data1 = pd.DataFrame(data1)\n",
        "\n",
        "modDf = pd.concat([modDf,data1])\n",
        "modDf = modDf.reset_index(drop = True)\n",
        "\n",
        "modDf"
      ],
      "execution_count": 0,
      "outputs": []
    },
    {
      "cell_type": "markdown",
      "metadata": {
        "id": "aZnwd9N3GarE",
        "colab_type": "text"
      },
      "source": [
        "#### TREATING DUPLICATES"
      ]
    },
    {
      "cell_type": "code",
      "metadata": {
        "id": "V5IHc8w5GgWR",
        "colab_type": "code",
        "colab": {}
      },
      "source": [
        "modDf.duplicated() #It creates a Boolean Series and uses it to extract rows that have a duplicate value"
      ],
      "execution_count": 0,
      "outputs": []
    },
    {
      "cell_type": "code",
      "metadata": {
        "id": "T3nJRHmgHd9G",
        "colab_type": "code",
        "colab": {}
      },
      "source": [
        "modDf['Name'].drop_duplicates(keep ='first')\n",
        "\n",
        "# keep = 'first' - removes all occurance except first\n",
        "# keep = 'last' - removes all occurance except last\n",
        "# keep = False - removes all duplicate rows"
      ],
      "execution_count": 0,
      "outputs": []
    },
    {
      "cell_type": "markdown",
      "metadata": {
        "id": "nuSzvb8rIAZI",
        "colab_type": "text"
      },
      "source": [
        "#### CREATING COPY"
      ]
    },
    {
      "cell_type": "code",
      "metadata": {
        "id": "wcyUcEXFH9R3",
        "colab_type": "code",
        "colab": {}
      },
      "source": [
        "# copy()\tIt creates an independent copy of pandas object\n",
        "\n",
        "modDf2 = modDf.copy()\n",
        "modDf2"
      ],
      "execution_count": 0,
      "outputs": []
    },
    {
      "cell_type": "markdown",
      "metadata": {
        "id": "TsMhBPmhKiGg",
        "colab_type": "text"
      },
      "source": [
        "#### INPUT & OUTPUTS"
      ]
    },
    {
      "cell_type": "markdown",
      "metadata": {
        "id": "Q4ZHrXuQKoqs",
        "colab_type": "text"
      },
      "source": [
        "\n",
        "\n",
        "```\n",
        "# OUTPUT\n",
        "df.to_csv(“filename”)\n",
        "df.to_excel(“filename”)\n",
        "df.to_sql(table_name, connection_object)\n",
        "df.to_json(“filename”)\n",
        "\n",
        "# INPUT\n",
        "pd.read_csv(“filename”)\n",
        "pd.read_table(“filename”)\n",
        "pd.read_excel(“filename”)\n",
        "pd.read_sql(query, connection_object)\n",
        "pd.read_json(json_string)\n",
        "```\n",
        "\n"
      ]
    },
    {
      "cell_type": "code",
      "metadata": {
        "id": "utQnXW9RKh10",
        "colab_type": "code",
        "colab": {}
      },
      "source": [
        "# df.to_csv('/content/sample_data/',sep=',',columns = df.columns,header = True, index = True, index_label=df[1], date_format='%Y-%m-%d')"
      ],
      "execution_count": 0,
      "outputs": []
    },
    {
      "cell_type": "code",
      "metadata": {
        "id": "2sn6x_98LKvA",
        "colab_type": "code",
        "colab": {}
      },
      "source": [
        "# pd.read_csv('/content/sample_data/', sep=',', delimiter=None, \n",
        "               # header='infer', names=None, index_col=None,  dtype=None, engine=None, skiprows=None,, na_values=None, keep_default_na=True, \n",
        "               # na_filter=True, verbose=False, parse_dates=False, date_parser=None)"
      ],
      "execution_count": 0,
      "outputs": []
    },
    {
      "cell_type": "code",
      "metadata": {
        "id": "PJrfCxclLw-H",
        "colab_type": "code",
        "colab": {}
      },
      "source": [
        "# write = pd.ExcelWriter(path, date_format=None, datetime_format=None, mode='w')\n",
        "# df.to_excel(writer, sheet_name=familyid)"
      ],
      "execution_count": 0,
      "outputs": []
    },
    {
      "cell_type": "markdown",
      "metadata": {
        "id": "TUiBXdCGOQFU",
        "colab_type": "text"
      },
      "source": [
        "#### TRANSFORMATIONS"
      ]
    },
    {
      "cell_type": "markdown",
      "metadata": {
        "id": "2M7R_5WLTzbS",
        "colab_type": "text"
      },
      "source": [
        "##### GROUPING"
      ]
    },
    {
      "cell_type": "markdown",
      "metadata": {
        "id": "rggnLeDGOgxW",
        "colab_type": "text"
      },
      "source": [
        "\n",
        "\n",
        "```\n",
        "df.groupby(column) – Returns a groupby object for values from one column\n",
        "df.groupby([column1,column2]) – Returns a groupby object values from multiple columns\n",
        "df.groupby(column1)[column2].sum() – Returns the sum of the values in column2, grouped by the values in column1\n",
        "df.groupby(column1)[column2].mean() – Returns the mean of the values in column2, grouped by the values in column1\n",
        "df.groupby(column1)[column2].median() – Returns the mean of the values in column2, grouped by the values in column1\n",
        "```\n",
        "\n"
      ]
    },
    {
      "cell_type": "code",
      "metadata": {
        "id": "D9Qvy_QJwbRT",
        "colab_type": "code",
        "colab": {}
      },
      "source": [
        "modDf.groupby(['Age'])['Rating'].sum()"
      ],
      "execution_count": 0,
      "outputs": []
    },
    {
      "cell_type": "code",
      "metadata": {
        "id": "U7BIWVwvwtHa",
        "colab_type": "code",
        "colab": {}
      },
      "source": [
        "gp = modDf.groupby(['Name'])\n",
        "gp.get_group('Sneha') # gets the group "
      ],
      "execution_count": 0,
      "outputs": []
    },
    {
      "cell_type": "code",
      "metadata": {
        "id": "nh2kuQBWPU-m",
        "colab_type": "code",
        "colab": {}
      },
      "source": [
        "modDf.groupby(['Name','Job'])['Rating'].mean()"
      ],
      "execution_count": 0,
      "outputs": []
    },
    {
      "cell_type": "code",
      "metadata": {
        "id": "8ygvEmRJPyNa",
        "colab_type": "code",
        "colab": {}
      },
      "source": [
        "gf = modDf.groupby(['Name','Job'])\n",
        "gf['Rating','Age'].agg([np.sum, np.mean])"
      ],
      "execution_count": 0,
      "outputs": []
    },
    {
      "cell_type": "code",
      "metadata": {
        "id": "aYVir69nQHk0",
        "colab_type": "code",
        "colab": {}
      },
      "source": [
        "gf.filter(lambda x: sum(x['Age']) >= 35)"
      ],
      "execution_count": 0,
      "outputs": []
    },
    {
      "cell_type": "code",
      "metadata": {
        "id": "sl5Tg7kjQaSs",
        "colab_type": "code",
        "colab": {}
      },
      "source": [
        "gf.agg({'Age':sum,'Rating':sum})"
      ],
      "execution_count": 0,
      "outputs": []
    },
    {
      "cell_type": "markdown",
      "metadata": {
        "id": "pee5YMzyT25i",
        "colab_type": "text"
      },
      "source": [
        "##### PIVOTING"
      ]
    },
    {
      "cell_type": "code",
      "metadata": {
        "id": "CVre4WZ3RTvU",
        "colab_type": "code",
        "colab": {}
      },
      "source": [
        "df_new = pd.DataFrame({'A': ['one', 'one', 'two', 'three'] * 6,\n",
        "                  'B': ['A', 'B', 'C'] * 8,\n",
        "                  'C': ['foo', 'foo', 'foo', 'bar', 'bar', 'bar'] * 4,\n",
        "                  'D': np.random.randn(24),\n",
        "                  'E': np.random.randn(24)})\n",
        "\n",
        "pd.pivot_table(df_new, values='D', index=['B'], columns=['A', 'C'], aggfunc=np.sum)"
      ],
      "execution_count": 0,
      "outputs": []
    },
    {
      "cell_type": "code",
      "metadata": {
        "id": "s7nTtosPRTrH",
        "colab_type": "code",
        "colab": {}
      },
      "source": [
        "pd.pivot_table(df_new, values=['D', 'E'], index=['B'], columns=['A', 'C'], aggfunc=np.sum)"
      ],
      "execution_count": 0,
      "outputs": []
    },
    {
      "cell_type": "code",
      "metadata": {
        "id": "ruKC1jxuRTmI",
        "colab_type": "code",
        "colab": {}
      },
      "source": [
        "df_new.pivot_table(index=['A', 'B'], columns='C', margins=True, aggfunc=np.std) # shows Margins True"
      ],
      "execution_count": 0,
      "outputs": []
    },
    {
      "cell_type": "markdown",
      "metadata": {
        "id": "hc26r2rLWeno",
        "colab_type": "text"
      },
      "source": [
        "##### UNPIVOT/MELT\n",
        "\n",
        "_The top-level melt() function and the corresponding DataFrame.melt() are useful to massage a DataFrame into a format where one or more columns are identifier variables, while all other columns, considered measured variables, are “unpivoted” to the row axis, leaving just two non-identifier columns, “variable” and “value”. The names of those columns can be customized by supplying the var_name and value_name parameters._"
      ]
    },
    {
      "cell_type": "code",
      "metadata": {
        "id": "ReBHNAXn00_-",
        "colab_type": "code",
        "colab": {}
      },
      "source": [
        "cheese = pd.DataFrame({'first': ['John', 'Mary'],\n",
        "                       'last': ['Doe', 'Bo'],\n",
        "                       'height': [5.5, 6.0],\n",
        "                       'weight': [130, 150]})\n",
        "   \n",
        "print(cheese)\n",
        "\n",
        "cheese.melt(id_vars=['first', 'last'])"
      ],
      "execution_count": 0,
      "outputs": []
    },
    {
      "cell_type": "code",
      "metadata": {
        "id": "4fZYh45V00y1",
        "colab_type": "code",
        "colab": {}
      },
      "source": [
        "cheese.melt(id_vars=['first', 'last'], var_name='quantity')"
      ],
      "execution_count": 0,
      "outputs": []
    },
    {
      "cell_type": "markdown",
      "metadata": {
        "id": "x-hPO-fkT50m",
        "colab_type": "text"
      },
      "source": [
        "##### CROSSTAB"
      ]
    },
    {
      "cell_type": "code",
      "metadata": {
        "id": "97Ul1T_WRThT",
        "colab_type": "code",
        "colab": {}
      },
      "source": [
        "df = pd.DataFrame({'A': [1, 2, 2, 2, 2], 'B': [3, 3, 4, 4, 4],'C': [1, 1, np.nan, 1, 1]})"
      ],
      "execution_count": 0,
      "outputs": []
    },
    {
      "cell_type": "code",
      "metadata": {
        "id": "xDNIftv5RTdb",
        "colab_type": "code",
        "colab": {}
      },
      "source": [
        "pd.crosstab(df['A'],df['B'])"
      ],
      "execution_count": 0,
      "outputs": []
    },
    {
      "cell_type": "code",
      "metadata": {
        "id": "a--S_Fq7RTWv",
        "colab_type": "code",
        "colab": {}
      },
      "source": [
        "pd.crosstab(df['A'],df['B'], normalize = True) # normalized values"
      ],
      "execution_count": 0,
      "outputs": []
    },
    {
      "cell_type": "code",
      "metadata": {
        "id": "MHR91rAtRTSM",
        "colab_type": "code",
        "colab": {}
      },
      "source": [
        "pd.crosstab(df['A'], df['B'], normalize='columns') # Normalized at Column Level"
      ],
      "execution_count": 0,
      "outputs": []
    },
    {
      "cell_type": "code",
      "metadata": {
        "id": "xB4j4HQrRTMf",
        "colab_type": "code",
        "colab": {}
      },
      "source": [
        "pd.crosstab(df['A'], df['B'], values=df['C'], aggfunc=np.sum) # Using 3rd Columns as Vlaue and applying the function "
      ],
      "execution_count": 0,
      "outputs": []
    },
    {
      "cell_type": "markdown",
      "metadata": {
        "id": "Pcb39g20VeV3",
        "colab_type": "text"
      },
      "source": [
        "##### AGGREGATE"
      ]
    },
    {
      "cell_type": "code",
      "metadata": {
        "id": "YR3yJ8bzRTFH",
        "colab_type": "code",
        "colab": {}
      },
      "source": [
        "df = pd.DataFrame([[1, 2, 3],\n",
        "                   [4, 5, 6],\n",
        "                   [7, 8, 9],\n",
        "                   [np.nan, np.nan, np.nan]],\n",
        "                  columns=['A', 'B', 'C'])"
      ],
      "execution_count": 0,
      "outputs": []
    },
    {
      "cell_type": "code",
      "metadata": {
        "id": "dBgYTP8fRS-Y",
        "colab_type": "code",
        "colab": {}
      },
      "source": [
        "df.agg({'A' : ['sum', 'min'], 'B' : ['min', 'max']})"
      ],
      "execution_count": 0,
      "outputs": []
    },
    {
      "cell_type": "markdown",
      "metadata": {
        "id": "QZfrBCOCW5Ik",
        "colab_type": "text"
      },
      "source": [
        "##### TRANSFORM"
      ]
    },
    {
      "cell_type": "code",
      "metadata": {
        "id": "7C8sph9-RS4d",
        "colab_type": "code",
        "colab": {}
      },
      "source": [
        "df = pd.DataFrame({'A': range(3), 'B': range(1, 4)})\n",
        "df"
      ],
      "execution_count": 0,
      "outputs": []
    },
    {
      "cell_type": "code",
      "metadata": {
        "id": "_oBI152jRSuU",
        "colab_type": "code",
        "colab": {}
      },
      "source": [
        "df.transform(lambda x: np.sqrt(x))"
      ],
      "execution_count": 0,
      "outputs": []
    },
    {
      "cell_type": "code",
      "metadata": {
        "id": "mRjLqTIQWxHb",
        "colab_type": "code",
        "colab": {}
      },
      "source": [
        "df.transform([np.sqrt, np.exp])"
      ],
      "execution_count": 0,
      "outputs": []
    },
    {
      "cell_type": "markdown",
      "metadata": {
        "id": "A1OM74XTBDrv",
        "colab_type": "text"
      },
      "source": [
        "##### APPLY & MAP\n",
        "\n",
        "_Apply() is used to apply the function on the dataframe or Series._"
      ]
    },
    {
      "cell_type": "markdown",
      "metadata": {
        "id": "FQ0zzrZ9DyVD",
        "colab_type": "text"
      },
      "source": [
        "\n",
        "\n",
        "```\n",
        "First major difference: DEFINITION\n",
        "1. map is defined on Series ONLY\n",
        "2. applymap is defined on DataFrames ONLY\n",
        "3. apply is defined on BOTH\n",
        "\n",
        "Second major difference: INPUT ARGUMENT\n",
        "1. map accepts dicts, Series, or callable\n",
        "2. applymap and apply accept callables only\n",
        "\n",
        "Third major difference: BEHAVIOR\n",
        "1. map is elementwise for Series\n",
        "2. applymap is elementwise for DataFrames\n",
        "3. apply also works elementwise but is suited to more complex operations and aggregation. The behaviour and return value depends on the function.\n",
        "\n",
        "Fourth major difference (the most important one): USE CASE\n",
        "1. map is meant for mapping values from one domain to another, so is optimised for performance (e.g., df['A'].map({1:'a', 2:'b', 3:'c'}))\n",
        "2. applymap is good for elementwise transformations across multiple rows/columns (e.g., df[['A', 'B', 'C']].applymap(str.strip))\n",
        "3. apply is for applying any function that cannot be vectorised (e.g., df['sentences'].apply(nltk.sent_tokenize))\n",
        "```\n",
        "\n"
      ]
    },
    {
      "cell_type": "code",
      "metadata": {
        "id": "Bap4flW1WxAc",
        "colab_type": "code",
        "colab": {}
      },
      "source": [
        "df = pd.DataFrame([[4, 9]] * 3, columns=['A', 'B'])"
      ],
      "execution_count": 0,
      "outputs": []
    },
    {
      "cell_type": "code",
      "metadata": {
        "id": "kIuawNSlWw_H",
        "colab_type": "code",
        "colab": {}
      },
      "source": [
        "df.apply(np.sum, axis=0)"
      ],
      "execution_count": 0,
      "outputs": []
    },
    {
      "cell_type": "code",
      "metadata": {
        "id": "dVMAH9nNWw9t",
        "colab_type": "code",
        "colab": {}
      },
      "source": [
        "df.apply(lambda x: [1, 2], axis=1)"
      ],
      "execution_count": 0,
      "outputs": []
    },
    {
      "cell_type": "code",
      "metadata": {
        "id": "5Y_Te7wHWw5k",
        "colab_type": "code",
        "colab": {}
      },
      "source": [
        "df.apply(lambda x: [1, 2], axis=1, result_type='expand')"
      ],
      "execution_count": 0,
      "outputs": []
    },
    {
      "cell_type": "code",
      "metadata": {
        "id": "nuaYNE4_Bza0",
        "colab_type": "code",
        "colab": {}
      },
      "source": [
        "df.apply(lambda x: pd.Series([1, 2], index=['foo', 'bar']), axis=1)"
      ],
      "execution_count": 0,
      "outputs": []
    },
    {
      "cell_type": "code",
      "metadata": {
        "id": "DDGBkt8pCROW",
        "colab_type": "code",
        "colab": {}
      },
      "source": [
        "df.apply(max, axis=1)"
      ],
      "execution_count": 0,
      "outputs": []
    },
    {
      "cell_type": "code",
      "metadata": {
        "id": "jYBMP7xJC-fX",
        "colab_type": "code",
        "colab": {}
      },
      "source": [
        "s = pd.Series(['cat', 'dog', np.nan, 'rabbit'])\n",
        "\n",
        "s.map({'cat': 'kitten', 'dog': 'puppy'}) # When arg is a dictionary, values in Series that are not in the dictionary (as keys) are converted to NaN. map is used for applying an element-wise function"
      ],
      "execution_count": 0,
      "outputs": []
    },
    {
      "cell_type": "code",
      "metadata": {
        "id": "9F2fn7ISEFv-",
        "colab_type": "code",
        "colab": {}
      },
      "source": [
        "df.applymap(np.sqrt)"
      ],
      "execution_count": 0,
      "outputs": []
    },
    {
      "cell_type": "code",
      "metadata": {
        "id": "a2iRBDEKE2Io",
        "colab_type": "code",
        "colab": {}
      },
      "source": [
        "df.apply(lambda x: x.max() - x.min())"
      ],
      "execution_count": 0,
      "outputs": []
    },
    {
      "cell_type": "code",
      "metadata": {
        "id": "S75S6szVFDjj",
        "colab_type": "code",
        "colab": {}
      },
      "source": [
        "df.applymap(lambda x: x*100)"
      ],
      "execution_count": 0,
      "outputs": []
    },
    {
      "cell_type": "markdown",
      "metadata": {
        "id": "Yntd9FcGBQqz",
        "colab_type": "text"
      },
      "source": [
        "#### MERGE/JOINS"
      ]
    },
    {
      "cell_type": "markdown",
      "metadata": {
        "id": "x0MNyuR9z1ZF",
        "colab_type": "text"
      },
      "source": [
        "\n",
        "\n",
        "```\n",
        "pd.merge(left, right, how='inner', on=None, left_on=None, right_on=None,\n",
        "         left_index=False, right_index=False, sort=True,\n",
        "         suffixes=('_x', '_y'), copy=True, indicator=False,\n",
        "         validate=None)\n",
        "\n",
        "left \n",
        "LEFT OUTER JOIN: Use keys from left frame only\n",
        "\n",
        "right\n",
        "RIGHT OUTER JOIN: Use keys from right frame only\n",
        "\n",
        "outer\n",
        "FULL OUTER JOIN: Use union of keys from both frames\n",
        "\n",
        "inner\n",
        "INNER JOIN: Use intersection of keys from both frames\n",
        "\n",
        "```\n",
        "\n"
      ]
    },
    {
      "cell_type": "code",
      "metadata": {
        "id": "ZBkJl3MBWwxn",
        "colab_type": "code",
        "colab": {}
      },
      "source": [
        "left = pd.DataFrame({'key': ['K0', 'K1', 'K2', 'K3'],\n",
        "                     'key2': ['K0', 'K1', 'K0', 'K1'],\n",
        "                       'A': ['A0', 'A1', 'A2', 'A3'],\n",
        "                         'B': ['B0', 'B1', 'B2', 'B3']})\n",
        "\n",
        "right = pd.DataFrame({'key': ['K0', 'K1', 'K2', 'K3'],\n",
        "                      'key2': ['K0', 'K0', 'K0', 'K0'],\n",
        "                          'C': ['C0', 'C1', 'C2', 'C3'],\n",
        "                          'D': ['D0', 'D1', 'D2', 'D3']})\n",
        "    \n",
        "result = pd.merge(left, right, on=['key', 'key2'])\n",
        "result"
      ],
      "execution_count": 0,
      "outputs": []
    },
    {
      "cell_type": "markdown",
      "metadata": {
        "id": "-kGZGDKh1r20",
        "colab_type": "text"
      },
      "source": [
        "#### ITERATORS\n",
        "\n",
        "_To iterate over the rows of the DataFrame, we can use the following functions −_\n",
        "\n",
        "_**iteritems()** − to iterate over the (key,value) pairs_\n",
        "\n",
        "_iterrows() − iterate over the rows as (index,series) pairs_"
      ]
    },
    {
      "cell_type": "code",
      "metadata": {
        "id": "Q5LSxitHWwvC",
        "colab_type": "code",
        "colab": {}
      },
      "source": [
        "df = pd.DataFrame(np.random.randn(4,3),columns=['col1','col2','col3'])\n",
        "print(df)\n",
        "\n",
        "for key,value in df.iteritems():\n",
        "   print (key,value)"
      ],
      "execution_count": 0,
      "outputs": []
    },
    {
      "cell_type": "code",
      "metadata": {
        "id": "MnwBipUKWwsy",
        "colab_type": "code",
        "colab": {}
      },
      "source": [
        "for row_index,row in df.iterrows():\n",
        "   print (row_index,row)"
      ],
      "execution_count": 0,
      "outputs": []
    },
    {
      "cell_type": "code",
      "metadata": {
        "id": "nXL69GUYWwqJ",
        "colab_type": "code",
        "colab": {}
      },
      "source": [
        "for label, ser in df.items():\n",
        "    print(label)\n",
        "    print(ser)"
      ],
      "execution_count": 0,
      "outputs": []
    },
    {
      "cell_type": "markdown",
      "metadata": {
        "id": "d6ybll-Z3RgK",
        "colab_type": "text"
      },
      "source": [
        "#### CATEGORICAL DATA\n",
        "\n",
        "\n",
        "\n",
        "```\n",
        "pd.Categorical(values, categories, ordered)\n",
        "```\n",
        "\n"
      ]
    },
    {
      "cell_type": "code",
      "metadata": {
        "id": "1cljrXZ-WwnG",
        "colab_type": "code",
        "colab": {}
      },
      "source": [
        "s = pd.Series([\"a\",\"b\",\"c\",\"a\"], dtype=\"category\")\n",
        "print (s)"
      ],
      "execution_count": 0,
      "outputs": []
    },
    {
      "cell_type": "code",
      "metadata": {
        "id": "m_tIDEfC3eS5",
        "colab_type": "code",
        "colab": {}
      },
      "source": [
        "cat=pd.Categorical(['a','b','c','a','b','c','d'], ['c', 'b', 'a'],ordered=True)\n",
        "print (cat)"
      ],
      "execution_count": 0,
      "outputs": []
    },
    {
      "cell_type": "code",
      "metadata": {
        "id": "55ILZjZM6ah7",
        "colab_type": "code",
        "colab": {}
      },
      "source": [
        "# pd.factorize() method helps to get the numeric representation of an array by identifying distinct values.\n",
        "\n",
        "pd.factorize(cat)"
      ],
      "execution_count": 0,
      "outputs": []
    },
    {
      "cell_type": "code",
      "metadata": {
        "id": "MbESdc7q3eOa",
        "colab_type": "code",
        "colab": {}
      },
      "source": [
        "df = pd.DataFrame({'value': np.random.randint(0, 100, 10)})\n",
        "\n",
        "labels = [\"{0} - {1}\".format(i, i + 9) for i in range(0, 100, 10)]\n",
        "df['group'] = pd.cut(df.value, range(0, 105, 10), right=False, labels=labels)\n",
        "\n",
        "df"
      ],
      "execution_count": 0,
      "outputs": []
    },
    {
      "cell_type": "code",
      "metadata": {
        "id": "Ft5lns6W3eIw",
        "colab_type": "code",
        "colab": {}
      },
      "source": [
        "values = np.random.randn(10)\n",
        "print(values)\n",
        "bins = [0, 0.2, 0.4, 0.6, 0.8, 1]\n",
        "pd.get_dummies(pd.cut(values, bins))"
      ],
      "execution_count": 0,
      "outputs": []
    },
    {
      "cell_type": "markdown",
      "metadata": {
        "id": "PfEFYmmk6yKe",
        "colab_type": "text"
      },
      "source": [
        "#### DATE TIME "
      ]
    },
    {
      "cell_type": "markdown",
      "metadata": {
        "id": "RGyDBwtB7Mdt",
        "colab_type": "text"
      },
      "source": [
        "```\n",
        "B\tbusiness day frequency\t\n",
        "BQS\tbusiness quarter start frequency\n",
        "D\tcalendar day frequency\t\n",
        "A\tannual(Year) end frequency\n",
        "W\tweekly frequency\t\n",
        "BA\tbusiness year end frequency\n",
        "M\tmonth end frequency\t\n",
        "BAS\tbusiness year start frequency\n",
        "SM\tsemi-month end frequency\t\n",
        "BH\tbusiness hour frequency\n",
        "BM\tbusiness month end frequency\t\n",
        "H\thourly frequency\n",
        "MS\tmonth start frequency\t\n",
        "T, min\tminutely frequency\n",
        "SMS\tSMS semi month start frequency\t\n",
        "S\tsecondly frequency\n",
        "BMS\tbusiness month start frequency\t\n",
        "L, ms\tmilliseconds\n",
        "Q\tquarter end frequency\t\n",
        "U, us\tmicroseconds\n",
        "BQ\tbusiness quarter end frequency\t\n",
        "N\tnanoseconds\n",
        "QS\tquarter start frequency\n",
        "```\n",
        "\n"
      ]
    },
    {
      "cell_type": "code",
      "metadata": {
        "id": "z00w29rM3eBq",
        "colab_type": "code",
        "colab": {}
      },
      "source": [
        "# Creating Date Range\n",
        "rng = pd.date_range('1/1/2012', periods=10, freq='1M')\n",
        "rng"
      ],
      "execution_count": 0,
      "outputs": []
    },
    {
      "cell_type": "code",
      "metadata": {
        "id": "q0NA4EoI3d9Z",
        "colab_type": "code",
        "colab": {}
      },
      "source": [
        "start = pd.datetime(2011, 1, 1)\n",
        "end = pd.datetime(2011, 1, 5)\n",
        "\n",
        "pd.date_range(start, end)"
      ],
      "execution_count": 0,
      "outputs": []
    },
    {
      "cell_type": "code",
      "metadata": {
        "id": "ZIsYY-xr3d6m",
        "colab_type": "code",
        "colab": {}
      },
      "source": [
        "ts = pd.Series(np.random.randint(0, 10, len(rng)), index=rng)\n",
        "ts.resample('15D').sum()"
      ],
      "execution_count": 0,
      "outputs": []
    },
    {
      "cell_type": "code",
      "metadata": {
        "id": "_btJi8sp3d3e",
        "colab_type": "code",
        "colab": {}
      },
      "source": [
        "rng.to_period('S')"
      ],
      "execution_count": 0,
      "outputs": []
    },
    {
      "cell_type": "code",
      "metadata": {
        "id": "kDAOKnia3dxY",
        "colab_type": "code",
        "colab": {}
      },
      "source": [
        "# Creating Time Data\n",
        "pd.timedelta_range(0, periods=10, freq='H')"
      ],
      "execution_count": 0,
      "outputs": []
    },
    {
      "cell_type": "code",
      "metadata": {
        "id": "q2zOChHY3dpz",
        "colab_type": "code",
        "colab": {}
      },
      "source": [
        "pd.to_datetime(['2018-01-05', '7/8/1952', 'Oct 10, 1995'])"
      ],
      "execution_count": 0,
      "outputs": []
    },
    {
      "cell_type": "code",
      "metadata": {
        "id": "DcPF8jLp3dkI",
        "colab_type": "code",
        "colab": {}
      },
      "source": [
        "# Formating Date\n",
        "df = pd.to_datetime(['2/25/10', '8/6/17', '12/15/12'], format='%m/%d/%y')\n",
        "df"
      ],
      "execution_count": 0,
      "outputs": []
    },
    {
      "cell_type": "code",
      "metadata": {
        "id": "I1UBn3Xk9VeE",
        "colab_type": "code",
        "colab": {}
      },
      "source": [
        "# Extracting Date Features\n",
        "print(df.year)\n",
        "print(df.month)\n",
        "print(df.weekday)\n",
        "print(df.dayofyear)\n",
        "print(df.days_in_month)"
      ],
      "execution_count": 0,
      "outputs": []
    },
    {
      "cell_type": "code",
      "metadata": {
        "id": "L8RhFDOu-Kx5",
        "colab_type": "code",
        "colab": {}
      },
      "source": [
        "df = pd.DataFrame({'Value': np.random.randn(20)}, index = pd.date_range('2020/01/31', periods= 20, freq='D') )"
      ],
      "execution_count": 0,
      "outputs": []
    },
    {
      "cell_type": "code",
      "metadata": {
        "id": "qDJt9GTf-o7o",
        "colab_type": "code",
        "colab": {}
      },
      "source": [
        "df"
      ],
      "execution_count": 0,
      "outputs": []
    },
    {
      "cell_type": "code",
      "metadata": {
        "id": "HFDH7iCo9Vc7",
        "colab_type": "code",
        "colab": {}
      },
      "source": [
        "df.resample('W').mean() # Resampling the Data"
      ],
      "execution_count": 0,
      "outputs": []
    },
    {
      "cell_type": "code",
      "metadata": {
        "id": "J4NQMtAt9VY9",
        "colab_type": "code",
        "colab": {}
      },
      "source": [
        "df['Value'].rolling(window = 7, center = True).mean() # Finding Rolling mean "
      ],
      "execution_count": 0,
      "outputs": []
    },
    {
      "cell_type": "code",
      "metadata": {
        "id": "7Z0gicqY-9f1",
        "colab_type": "code",
        "colab": {}
      },
      "source": [
        "df['Value'].rolling(window = 7).std()  # Finding Rolling Std"
      ],
      "execution_count": 0,
      "outputs": []
    },
    {
      "cell_type": "markdown",
      "metadata": {
        "id": "d5JWW03b_vuy",
        "colab_type": "text"
      },
      "source": [
        "#### VISUALIZATION"
      ]
    },
    {
      "cell_type": "code",
      "metadata": {
        "id": "ofNQnH82_VBP",
        "colab_type": "code",
        "colab": {}
      },
      "source": [
        "df = pd.DataFrame(np.random.randn(10,4),index=pd.date_range('1/1/2000',\n",
        "   periods=10), columns=list('ABCD'))\n",
        "\n",
        "df.plot()"
      ],
      "execution_count": 0,
      "outputs": []
    },
    {
      "cell_type": "code",
      "metadata": {
        "id": "1wCI2jcY_5Kn",
        "colab_type": "code",
        "colab": {}
      },
      "source": [
        "df = pd.DataFrame(np.random.rand(10,4),columns=['a','b','c','d'])\n",
        "df.plot.bar()"
      ],
      "execution_count": 0,
      "outputs": []
    },
    {
      "cell_type": "code",
      "metadata": {
        "id": "O_wpg-DX_75v",
        "colab_type": "code",
        "colab": {}
      },
      "source": [
        "df.plot.bar(stacked=True)"
      ],
      "execution_count": 0,
      "outputs": []
    },
    {
      "cell_type": "code",
      "metadata": {
        "id": "XE5cglwsAC2I",
        "colab_type": "code",
        "colab": {}
      },
      "source": [
        "df.plot.barh(stacked=True)"
      ],
      "execution_count": 0,
      "outputs": []
    },
    {
      "cell_type": "code",
      "metadata": {
        "id": "gaC_aTIwAJNR",
        "colab_type": "code",
        "colab": {}
      },
      "source": [
        "df = pd.DataFrame({'a':np.random.randn(1000)+1,'b':np.random.randn(1000),'c':\n",
        "np.random.randn(1000) - 1})\n",
        "\n",
        "df.plot.hist(bins=20)"
      ],
      "execution_count": 0,
      "outputs": []
    },
    {
      "cell_type": "code",
      "metadata": {
        "id": "fSKOPEYOANNO",
        "colab_type": "code",
        "colab": {}
      },
      "source": [
        "df = pd.DataFrame(np.random.rand(10, 5), columns=['A', 'B', 'C', 'D', 'E'])\n",
        "df.plot.box()"
      ],
      "execution_count": 0,
      "outputs": []
    },
    {
      "cell_type": "code",
      "metadata": {
        "id": "gLNfSSYKAeDW",
        "colab_type": "code",
        "colab": {}
      },
      "source": [
        "df.plot.area()"
      ],
      "execution_count": 0,
      "outputs": []
    },
    {
      "cell_type": "code",
      "metadata": {
        "id": "UeMHzeRTAr5_",
        "colab_type": "code",
        "colab": {}
      },
      "source": [
        "df = pd.DataFrame(np.random.rand(50, 4), columns=['a', 'b', 'c', 'd'])\n",
        "df.plot.scatter(x='a', y='b')"
      ],
      "execution_count": 0,
      "outputs": []
    },
    {
      "cell_type": "markdown",
      "metadata": {
        "id": "gmhFlgDFBEok",
        "colab_type": "text"
      },
      "source": [
        "#### CUSTOMIZATION & OPTIONS"
      ]
    },
    {
      "cell_type": "code",
      "metadata": {
        "id": "ocMwrn30Auvh",
        "colab_type": "code",
        "colab": {}
      },
      "source": [
        "print (pd.get_option(\"display.max_rows\"))\n",
        "print (pd.get_option(\"display.max_columns\"))\n",
        "\n",
        "pd.set_option(\"display.max_rows\",80)\n",
        "pd.set_option(\"display.max_columns\",80)\n",
        "\n",
        "print (pd.get_option(\"display.max_rows\"))\n",
        "print (pd.get_option(\"display.max_columns\"))"
      ],
      "execution_count": 0,
      "outputs": []
    }
  ]
}