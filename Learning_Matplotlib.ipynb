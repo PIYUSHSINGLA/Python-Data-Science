{
  "nbformat": 4,
  "nbformat_minor": 0,
  "metadata": {
    "colab": {
      "name": "Learning Matplotlib.ipynb",
      "provenance": [],
      "private_outputs": true,
      "collapsed_sections": [],
      "toc_visible": true
    },
    "kernelspec": {
      "name": "python3",
      "display_name": "Python 3"
    }
  },
  "cells": [
    {
      "cell_type": "markdown",
      "metadata": {
        "id": "IHikfjdrDVZM",
        "colab_type": "text"
      },
      "source": [
        "# WHAT IS MATPLOTLIB?\n",
        "\n",
        "_Matplotlib is an amazing visualization library in Python for 2D plots of arrays. Matplotlib is a multi-platform data visualization library built on NumPy arrays and designed to work with the broader SciPy stack. It was introduced by John Hunter in the year 2002._\n",
        "\n",
        "_One of the greatest benefits of visualization is that it allows us visual access to huge amounts of data in easily digestible visuals. Matplotlib consists of several plots like line, bar, scatter, histogram etc._\n"
      ]
    },
    {
      "cell_type": "markdown",
      "metadata": {
        "id": "sr9ecAd2Eclh",
        "colab_type": "text"
      },
      "source": [
        "#### BASICS"
      ]
    },
    {
      "cell_type": "markdown",
      "metadata": {
        "id": "aGK6puQbEf1d",
        "colab_type": "text"
      },
      "source": [
        "A Matplotlib figure can be categorized into several parts as below:_\n",
        "1. _**Figure**: It is a whole figure which may contain one or more than one axes (plots). You can think of a Figure as a canvas which contains plots._\n",
        "\n",
        "2. _**Axes**: It is what we generally think of as a plot. A Figure can contain many Axes. It contains two or three (in the case of 3D) Axis objects. Each Axes has a title, an x-label and a y-label._\n",
        "\n",
        "3. _**Axis**: They are the number line like objects and take care of generating the graph limits._\n",
        "\n",
        "4. _Artist: Everything which one can see on the figure is an artist like Text objects, Line2D objects, collection objects. Most Artists are tied to Axes._"
      ]
    },
    {
      "cell_type": "code",
      "metadata": {
        "id": "NVBIU-uDC0MX",
        "colab_type": "code",
        "colab": {}
      },
      "source": [
        "from matplotlib import pyplot as plt\n",
        "%matplotlib inline  # magic line command : the %matplotlib inline will make your plot outputs appear and be stored within the notebook.\n",
        "# or\n",
        "\n",
        "#import matplotlib.pyplot as plt "
      ],
      "execution_count": 0,
      "outputs": []
    },
    {
      "cell_type": "markdown",
      "metadata": {
        "id": "5GpLs_IXFLh3",
        "colab_type": "text"
      },
      "source": [
        "_Pyplot is a module of Matplotlib which provides simple functions to add plot elements like lines, images, text, etc. to the current axes in the current figure._"
      ]
    },
    {
      "cell_type": "markdown",
      "metadata": {
        "id": "0vXpLZ9epxkH",
        "colab_type": "text"
      },
      "source": [
        "![alt text](https://files.realpython.com/media/fig_map.bc8c7cabd823.png)"
      ]
    },
    {
      "cell_type": "markdown",
      "metadata": {
        "id": "JqaXQWLLqXuV",
        "colab_type": "text"
      },
      "source": [
        "![alt text](https://files.realpython.com/media/anatomy.7d033ebbfbc8.png)"
      ]
    },
    {
      "cell_type": "code",
      "metadata": {
        "id": "EpoFxjKX-bSS",
        "colab_type": "code",
        "colab": {}
      },
      "source": [
        "x = [1,2,3]\n",
        "y = [5,7,4]\n",
        "\n",
        "x2 = [1,2,3]\n",
        "y2 = [10,14,12]"
      ],
      "execution_count": 0,
      "outputs": []
    },
    {
      "cell_type": "markdown",
      "metadata": {
        "id": "6YQTWUvF_7Bc",
        "colab_type": "text"
      },
      "source": [
        "#### LINE GRAPH"
      ]
    },
    {
      "cell_type": "code",
      "metadata": {
        "id": "glydq0NAqPa3",
        "colab_type": "code",
        "colab": {}
      },
      "source": [
        "font = {'family': 'verdana',\n",
        "        'color':  'white',\n",
        "        'weight': 'normal',\n",
        "        'size': 10,\n",
        "        }  # defining Font dictionary\n",
        "\n",
        "plt.plot(x, y, label='First Line', linewidth = 5, color = 'green',linestyle = 'dashed', marker = 'o', markersize = 15) \n",
        "# controlling Linewidth, linestyle, color and markers\n",
        "plt.plot(x2, y2, label='Second Line')\n",
        "plt.xlabel('Plot Number', fontdict= font)\n",
        "plt.ylabel('Important var')\n",
        "plt.title('Line Plot',fontdict= font, loc = 'right')\n",
        "# applying Font dictionary and controlling location of title\n",
        "plt.legend(labels= ('Line 1','Line 2'),loc= 'best',fontsize = 'x-small') \n",
        "# Controlling Labels in Legend, location and font size\n",
        "plt.show()"
      ],
      "execution_count": 0,
      "outputs": []
    },
    {
      "cell_type": "markdown",
      "metadata": {
        "id": "I9RSVxsC_97R",
        "colab_type": "text"
      },
      "source": [
        "#### BAR GRAPH"
      ]
    },
    {
      "cell_type": "code",
      "metadata": {
        "id": "98LjOcys_Rd7",
        "colab_type": "code",
        "colab": {}
      },
      "source": [
        "plt.bar([1,3,5,7,9],[5,2,7,8,2], label=\"Example one\", width = 0.6, align ='edge')\n",
        "# Controlling Width and alignment of bar chart\n",
        "plt.bar([2,4,6,8,10],[8,6,2,5,6], label=\"Example two\", color='g')\n",
        "plt.xlabel('Bar number')\n",
        "plt.ylabel('Bar height')\n",
        "plt.title('Bar Graph')\n",
        "plt.legend()\n",
        "plt.show()"
      ],
      "execution_count": 0,
      "outputs": []
    },
    {
      "cell_type": "code",
      "metadata": {
        "id": "shVU0vhz45Pi",
        "colab_type": "code",
        "colab": {}
      },
      "source": [
        "plt.barh([1,3,5,7,9],[5,2,7,8,2], label=\"Example one\")\n",
        "plt.barh([2,4,6,8,10],[8,6,2,5,6], label=\"Example two\", color='g')\n",
        "plt.xlabel('Bar number')\n",
        "plt.ylabel('Bar height')\n",
        "plt.title('Bar Graph')\n",
        "plt.legend()\n",
        "plt.show()"
      ],
      "execution_count": 0,
      "outputs": []
    },
    {
      "cell_type": "markdown",
      "metadata": {
        "id": "i10nHgZs3LI8",
        "colab_type": "text"
      },
      "source": [
        "#### HISTOGRAM"
      ]
    },
    {
      "cell_type": "code",
      "metadata": {
        "id": "TCGuwafZ_vd5",
        "colab_type": "code",
        "colab": {}
      },
      "source": [
        "population_ages = [22,55,62,45,21,22,34,42,42,4,47,54,32,33,12,4,7,77,80,75,65,54,44,43,42,48]\n",
        "\n",
        "bins = [0,10,20,30,40,50,60,70,80,90]\n",
        "\n",
        "plt.hist(population_ages, bins, histtype='bar', rwidth=0.6, align = 'left', orientation= 'vertical')\n",
        "# Controlling bins, type, width, alignment, and orientation\n",
        "plt.xlabel('Ages')\n",
        "plt.ylabel('Frequency')\n",
        "plt.title('Histogram Graph')\n",
        "plt.axis([-10,100,0,10]) # Set Axis limits\n",
        "plt.show()"
      ],
      "execution_count": 0,
      "outputs": []
    },
    {
      "cell_type": "markdown",
      "metadata": {
        "id": "vKbByZp0DSlG",
        "colab_type": "text"
      },
      "source": [
        "\n",
        "#### BOX PLOT"
      ]
    },
    {
      "cell_type": "code",
      "metadata": {
        "id": "N577VKYODVVF",
        "colab_type": "code",
        "colab": {}
      },
      "source": [
        "# Fixing random state for reproducibility\n",
        "np.random.seed(20)\n",
        "\n",
        "# fake up some data\n",
        "spread = np.random.rand(50) * 100\n",
        "center = np.ones(25) * 50\n",
        "flier_high = np.random.rand(10) * 100 + 100\n",
        "flier_low = np.random.rand(10) * -100\n",
        "data = np.concatenate((spread, center, flier_high, flier_low))\n",
        "\n",
        "fig1, ax1 = plt.subplots() # creates subplot and returns figure and axes\n",
        "ax1.set_title('Basic Plot') # setting axes  title\n",
        "ax1.boxplot(data)\n",
        "\n",
        "fig2, ax2 = plt.subplots()\n",
        "ax2.set_title('Notched boxes')\n",
        "ax2.boxplot(data, notch=True)\n",
        "\n",
        "green_diamond = dict(markerfacecolor='g', marker='D')\n",
        "fig3, ax3 = plt.subplots()\n",
        "ax3.set_title('Changed Outlier Symbols')\n",
        "ax3.boxplot(data, flierprops=green_diamond)\n",
        "\n",
        "fig4, ax4 = plt.subplots()\n",
        "ax4.set_title('Hide Outlier Points')\n",
        "ax4.text(0.75,40,'This is box plot') # adds text to plot\n",
        "ax4.boxplot(data, showfliers=False)\n",
        "\n",
        "plt.show()"
      ],
      "execution_count": 0,
      "outputs": []
    },
    {
      "cell_type": "markdown",
      "metadata": {
        "id": "2iaR_cyk3Nw3",
        "colab_type": "text"
      },
      "source": [
        "#### SCATTER PLOT"
      ]
    },
    {
      "cell_type": "code",
      "metadata": {
        "id": "JWwWPBmz2vba",
        "colab_type": "code",
        "colab": {}
      },
      "source": [
        "plt.scatter(x,y, label='skitscat', color='red', s=30, marker=\"<\", linewidths= 5, edgecolors= 'g')\n",
        "# Controlling Label, color, size, marker, edgecolor and width\n",
        "\n",
        "plt.xlabel('x')\n",
        "plt.ylabel('y')\n",
        "plt.title('Scatter Plot')\n",
        "plt.legend()\n",
        "plt.grid(True, which = 'major',axis = 'x') # Shows grid for major points and for x-axis\n",
        "plt.axhline(y=5,xmin=0.5) #Adds horizontal line starting from y = 5 and 50% of x\n",
        "plt.axvline(x = 2, ymin = 0.25)\n",
        "plt.show()"
      ],
      "execution_count": 0,
      "outputs": []
    },
    {
      "cell_type": "markdown",
      "metadata": {
        "id": "zw90Wixa3guL",
        "colab_type": "text"
      },
      "source": [
        "#### STACK PLOT"
      ]
    },
    {
      "cell_type": "code",
      "metadata": {
        "id": "O8sORCvJ26YQ",
        "colab_type": "code",
        "colab": {}
      },
      "source": [
        "days = [1,2,3,4,5]\n",
        "\n",
        "sleeping = [7,8,6,11,7]\n",
        "eating =   [2,3,4,3,2]\n",
        "working =  [7,8,7,2,2]\n",
        "playing =  [8,5,7,8,13]\n",
        "\n",
        "#plt.stackplot(days, sleeping,eating,working,playing, colors=['m','c','r','b'])\n",
        "\n",
        "plt.stackplot(days,sleeping,eating, colors=['m','c'])\n",
        "\n",
        "plt.xlabel('x')\n",
        "plt.ylabel('y')\n",
        "plt.title('Stack Plot')\n",
        "plt.show()"
      ],
      "execution_count": 0,
      "outputs": []
    },
    {
      "cell_type": "markdown",
      "metadata": {
        "id": "0sPgbEBk3xo9",
        "colab_type": "text"
      },
      "source": [
        "#### PIE CHART"
      ]
    },
    {
      "cell_type": "code",
      "metadata": {
        "id": "7WLmP_VB3uuH",
        "colab_type": "code",
        "colab": {}
      },
      "source": [
        "slices = [7,2,2,13]\n",
        "activities = ['sleeping','eating','working','playing']\n",
        "cols = ['c','m','r','b']\n",
        "\n",
        "plt.pie(slices,\n",
        "        labels=activities,\n",
        "        colors=cols,\n",
        "        startangle=90,\n",
        "        shadow= True,\n",
        "        explode=(0,0.1,0,0),\n",
        "        autopct='%1.1f%%')\n",
        "\n",
        "plt.title('Pie Chart')\n",
        "plt.show()"
      ],
      "execution_count": 0,
      "outputs": []
    },
    {
      "cell_type": "markdown",
      "metadata": {
        "id": "1ukGO4RU5Wc6",
        "colab_type": "text"
      },
      "source": [
        "#### CUSTOMIZATIONS"
      ]
    },
    {
      "cell_type": "code",
      "metadata": {
        "id": "lq20mLZ_3wvQ",
        "colab_type": "code",
        "colab": {}
      },
      "source": [
        "names = ['group_a', 'group_b', 'group_c']\n",
        "values = [1, 10, 100]\n",
        "\n",
        "plt.figure(figsize=(9,3), dpi= 100) # Defines Figure Size and resolution(dpi)\n",
        "\n",
        "plt.subplot(131) # Defines Subplot - Row ,Column ,Chart Number or Use Subplots\n",
        "plt.bar(names, values)\n",
        "plt.subplot(132)\n",
        "plt.scatter(names, values)\n",
        "plt.subplot(133)\n",
        "plt.plot(names, values)\n",
        "plt.suptitle('Categorical Plotting') # Adds Common Title in Center\n",
        "plt.show()"
      ],
      "execution_count": 0,
      "outputs": []
    },
    {
      "cell_type": "code",
      "metadata": {
        "id": "EpClIYUQ5cS9",
        "colab_type": "code",
        "colab": {}
      },
      "source": [
        "import numpy as np\n",
        "\n",
        "ax = plt.subplot(111)\n",
        "\n",
        "t = np.arange(0.0, 5.0, 0.01)\n",
        "s = np.cos(2*np.pi*t)\n",
        "line, = plt.plot(t, s, lw=2)\n",
        "\n",
        "plt.annotate('local max', xy=(2, 1), xytext=(3, 1.5),\n",
        "             arrowprops=dict(facecolor='black', shrink=0.05),\n",
        "             )\n",
        "\n",
        "plt.ylim(-2, 2)\n",
        "plt.show()"
      ],
      "execution_count": 0,
      "outputs": []
    },
    {
      "cell_type": "code",
      "metadata": {
        "id": "xzJKlmQ65-QT",
        "colab_type": "code",
        "colab": {}
      },
      "source": [
        "men_means, men_std = (20, 35, 30, 35, 27), (2, 3, 4, 1, 2)\n",
        "women_means, women_std = (25, 32, 34, 20, 25), (3, 5, 2, 3, 3)\n",
        "\n",
        "ind = np.arange(len(men_means))  # the x locations for the groups\n",
        "width = 0.35  # the width of the bars\n",
        "\n",
        "fig, ax = plt.subplots()\n",
        "rects1 = ax.bar(ind - width/2, men_means, width, yerr=men_std,\n",
        "                label='Men')\n",
        "rects2 = ax.bar(ind + width/2, women_means, width, yerr=women_std,\n",
        "                label='Women')\n",
        "\n",
        "# Add some text for labels, title and custom x-axis tick labels, etc.\n",
        "ax.set_ylabel('Scores')\n",
        "ax.set_title('Scores by group and gender')\n",
        "ax.set_xticks(ind) # setting x ticks\n",
        "ax.set_xticklabels(('G1', 'G2', 'G3', 'G4', 'G5')) # labelling xticks\n",
        "ax.tick_params(direction='out', length=6, width=2, colors='r',\n",
        "               grid_color='r', grid_alpha=0.5) # Set Tick Parameter\n",
        "ax.legend()\n",
        "\n",
        "\n",
        "def autolabel(rects, xpos='center'):\n",
        "    \"\"\"\n",
        "    Attach a text label above each bar in *rects*, displaying its height.\n",
        "\n",
        "    *xpos* indicates which side to place the text w.r.t. the center of\n",
        "    the bar. It can be one of the following {'center', 'right', 'left'}.\n",
        "    \"\"\"\n",
        "\n",
        "    ha = {'center': 'center', 'right': 'left', 'left': 'right'}\n",
        "    offset = {'center': 0, 'right': 1, 'left': -1}\n",
        "\n",
        "    for rect in rects:\n",
        "        height = rect.get_height()\n",
        "        ax.annotate('{}'.format(height),\n",
        "                    xy=(rect.get_x() + rect.get_width() / 2, height),\n",
        "                    xytext=(offset[xpos]*3, 3),  # use 3 points offset\n",
        "                    textcoords=\"offset points\",  # in both directions\n",
        "                    ha=ha[xpos], va='bottom')\n",
        "\n",
        "\n",
        "autolabel(rects1, \"left\")\n",
        "autolabel(rects2, \"right\")\n",
        "\n",
        "fig.tight_layout()\n",
        "\n",
        "plt.show()"
      ],
      "execution_count": 0,
      "outputs": []
    },
    {
      "cell_type": "code",
      "metadata": {
        "id": "FTJoQXe_HKoq",
        "colab_type": "code",
        "colab": {}
      },
      "source": [
        "fig, axes = plt.subplots(nrows=4, ncols=4)\n",
        "\n",
        "for i, ax in enumerate(axes.flat, start=1):\n",
        "    ax.set_title('Test Axes {}'.format(i))\n",
        "    ax.set_xlabel('X axis')\n",
        "    ax.set_ylabel('Y axis')\n",
        "\n",
        "plt.show()"
      ],
      "execution_count": 0,
      "outputs": []
    },
    {
      "cell_type": "code",
      "metadata": {
        "id": "HlseXmPwG7OT",
        "colab_type": "code",
        "colab": {}
      },
      "source": [
        "fig, axes = plt.subplots(nrows=4, ncols=4)\n",
        "\n",
        "for i, ax in enumerate(axes.flat, start=1):\n",
        "    ax.set_title('Test Axes {}'.format(i))\n",
        "    ax.set_xlabel('X axis')\n",
        "    ax.set_ylabel('Y axis')\n",
        "\n",
        "fig.tight_layout()\n",
        "# All tight_layout does is calculate parameters for subplots_adjust, so tight_layout only works with subplots. \n",
        "plt.show()"
      ],
      "execution_count": 0,
      "outputs": []
    },
    {
      "cell_type": "code",
      "metadata": {
        "id": "Nq_A7qY_jzd5",
        "colab_type": "code",
        "colab": {}
      },
      "source": [
        "data = np.arange(100, 0, -1).reshape(10, 10)\n",
        "\n",
        "print(data)\n",
        "fig, ax = plt.subplots()\n",
        "#cax = fig.add_axes([0.27, 0.8, 0.5, 0.05])\n",
        "\n",
        "im = ax.imshow(data, cmap='gist_earth') #cmap puts in the color (can be checked on the web), imshow shows image\n",
        "\n",
        "fig.colorbar(im, orientation='horizontal') #adds colobar\n",
        "plt.show()"
      ],
      "execution_count": 0,
      "outputs": []
    },
    {
      "cell_type": "code",
      "metadata": {
        "id": "MBWSCbE-LPjp",
        "colab_type": "code",
        "colab": {}
      },
      "source": [
        "plt.style.use('ggplot')\n",
        "\n",
        "# ['Solarize_Light2', '_classic_test_patch', 'bmh', 'classic', 'dark_background', 'fast', \n",
        "# 'fivethirtyeight', 'ggplot', 'grayscale', 'seaborn', 'seaborn-bright', 'seaborn-colorblind', \n",
        "# 'seaborn-dark', 'seaborn-dark-palette', 'seaborn-darkgrid', 'seaborn-deep', 'seaborn-muted', \n",
        "# 'seaborn-notebook', 'seaborn-paper', 'seaborn-pastel', 'seaborn-poster', 'seaborn-talk', \n",
        "# 'seaborn-ticks', 'seaborn-white', 'seaborn-whitegrid', 'tableau-colorblind10']"
      ],
      "execution_count": 0,
      "outputs": []
    },
    {
      "cell_type": "code",
      "metadata": {
        "id": "f6NNcSk5L1fc",
        "colab_type": "code",
        "colab": {}
      },
      "source": [
        "# Save figure\n",
        "\n",
        "fig.savefig('path/to/save/image/to.png') \n",
        "\n",
        "# or \n",
        "\n",
        "plt.savefig(\"foo.png\", bbox_inches='tight')"
      ],
      "execution_count": 0,
      "outputs": []
    }
  ]
}