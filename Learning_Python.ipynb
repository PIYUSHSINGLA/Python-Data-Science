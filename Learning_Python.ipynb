{
  "nbformat": 4,
  "nbformat_minor": 0,
  "metadata": {
    "colab": {
      "name": "Learning Python.ipynb",
      "provenance": [],
      "collapsed_sections": [],
      "toc_visible": true
    },
    "kernelspec": {
      "name": "python3",
      "display_name": "Python 3"
    }
  },
  "cells": [
    {
      "cell_type": "markdown",
      "metadata": {
        "id": "F2thbIM1zFko",
        "colab_type": "text"
      },
      "source": [
        "### WHAT IS PYTHON?"
      ]
    },
    {
      "cell_type": "markdown",
      "metadata": {
        "id": "lywrdkbGtvWf",
        "colab_type": "text"
      },
      "source": [
        "*Python is a general-purpose programming language that is interpreted, object-oriented and dynamically-typed because it carries out type-checking at runtime.*\n",
        "\n",
        "*The distinctive feature of Python is that it is an interpreted language. The Python IDLE (Integrated Development Environment) executes instructions one line at a time.*\n"
      ]
    },
    {
      "cell_type": "markdown",
      "metadata": {
        "id": "8oRbe9nnzJ2k",
        "colab_type": "text"
      },
      "source": [
        "### WHY PYTHON FOR MACHINE LEARNING?"
      ]
    },
    {
      "cell_type": "markdown",
      "metadata": {
        "id": "GDoz6lhg3scb",
        "colab_type": "text"
      },
      "source": [
        "*Python is currently the most popular programming language for research and development in Machine Learning.*\n",
        "\n",
        "*According to Google Trends, the interest in Python for Machine Learning has spiked to an all-new high with other ML languages such as R, Java, Scala, Julia, etc. lagging far behind.*"
      ]
    },
    {
      "cell_type": "code",
      "metadata": {
        "id": "lNhYX3Wxxwvo",
        "colab_type": "code",
        "outputId": "24885fa9-eac8-4718-8d44-6fe12e811b50",
        "colab": {
          "base_uri": "https://localhost:8080/",
          "height": 443
        }
      },
      "source": [
        "# Press Shift+Enter to Run\n",
        "\n",
        "import IPython\n",
        "IPython.display.HTML('<iframe src=\"https://trends.google.com/trends/embed/explore/TIMESERIES?req=%7B%22comparisonItem%22%3A%5B%7B%22keyword%22%3A%22Python%20Machine%20Learning%22%2C%22geo%22%3A%22%22%2C%22time%22%3A%22today%205-y%22%7D%2C%7B%22keyword%22%3A%22R%20Machine%20Learning%22%2C%22geo%22%3A%22%22%2C%22time%22%3A%22today%205-y%22%7D%2C%7B%22keyword%22%3A%22Java%20Machine%20Learning%22%2C%22geo%22%3A%22%22%2C%22time%22%3A%22today%205-y%22%7D%2C%7B%22keyword%22%3A%22Scala%20Machine%20Learning%22%2C%22geo%22%3A%22%22%2C%22time%22%3A%22today%205-y%22%7D%2C%7B%22keyword%22%3A%22Julia%20Machine%20Learning%22%2C%22geo%22%3A%22%22%2C%22time%22%3A%22today%205-y%22%7D%5D%2C%22category%22%3A0%2C%22property%22%3A%22%22%7D&tz=-330&eq=date%3Dtoday%25205-y%26q%3DPython%2520Machine%2520Learning%2C%20R%2520Machine%2520Learning%2C%20Java%2520Machine%2520Learning%2C%20Scala%2520Machine%2520Learning%2C%20Julia%2520Machine%2520Learning\" width=\"60%\" frameborder=\"0\" scrolling=\"0\" style=\"border-radius: 2px; box-shadow: rgba(0, 0, 0, 0.12) 0px 0px 2px 0px, rgba(0, 0, 0, 0.24) 0px 2px 2px 0px; height: 423px;\"/>') # can't find image "
      ],
      "execution_count": 6,
      "outputs": [
        {
          "output_type": "execute_result",
          "data": {
            "text/html": [
              "<iframe src=\"https://trends.google.com/trends/embed/explore/TIMESERIES?req=%7B%22comparisonItem%22%3A%5B%7B%22keyword%22%3A%22Python%20Machine%20Learning%22%2C%22geo%22%3A%22%22%2C%22time%22%3A%22today%205-y%22%7D%2C%7B%22keyword%22%3A%22R%20Machine%20Learning%22%2C%22geo%22%3A%22%22%2C%22time%22%3A%22today%205-y%22%7D%2C%7B%22keyword%22%3A%22Java%20Machine%20Learning%22%2C%22geo%22%3A%22%22%2C%22time%22%3A%22today%205-y%22%7D%2C%7B%22keyword%22%3A%22Scala%20Machine%20Learning%22%2C%22geo%22%3A%22%22%2C%22time%22%3A%22today%205-y%22%7D%2C%7B%22keyword%22%3A%22Julia%20Machine%20Learning%22%2C%22geo%22%3A%22%22%2C%22time%22%3A%22today%205-y%22%7D%5D%2C%22category%22%3A0%2C%22property%22%3A%22%22%7D&tz=-330&eq=date%3Dtoday%25205-y%26q%3DPython%2520Machine%2520Learning%2C%20R%2520Machine%2520Learning%2C%20Java%2520Machine%2520Learning%2C%20Scala%2520Machine%2520Learning%2C%20Julia%2520Machine%2520Learning\" width=\"60%\" frameborder=\"0\" scrolling=\"0\" style=\"border-radius: 2px; box-shadow: rgba(0, 0, 0, 0.12) 0px 0px 2px 0px, rgba(0, 0, 0, 0.24) 0px 2px 2px 0px; height: 423px;\"/>"
            ],
            "text/plain": [
              "<IPython.core.display.HTML object>"
            ]
          },
          "metadata": {
            "tags": []
          },
          "execution_count": 6
        }
      ]
    },
    {
      "cell_type": "markdown",
      "metadata": {
        "id": "DaXUkgZozQY9",
        "colab_type": "text"
      },
      "source": [
        "#### FEATURES OF PYTHON"
      ]
    },
    {
      "cell_type": "markdown",
      "metadata": {
        "id": "44BvZUIAzb7c",
        "colab_type": "text"
      },
      "source": [
        "1. *Simple and easy to learn*\n",
        "2. *Free and Open Source*\n",
        "3. *Portable*\n",
        "4. *Interpreter Based*\n",
        "5. *Library Support*\n",
        "6. *Supports different programming paradigm*\n",
        "7. *Extensible*"
      ]
    },
    {
      "cell_type": "markdown",
      "metadata": {
        "id": "aXmP5ovu8hk4",
        "colab_type": "text"
      },
      "source": [
        "### INSTALLING & WORKING ON PYTHON"
      ]
    },
    {
      "cell_type": "markdown",
      "metadata": {
        "id": "Bp9rfK6-8oQv",
        "colab_type": "text"
      },
      "source": [
        "_**STEP 1.** Go to www.python.com_\n",
        "\n",
        "_**STEP 2.** Under Downloads tab, select latest version of python for your OS_\n",
        "\n",
        "_**STEP 3.** Installing Jupyter Notebook: https://jupyter.org/install_\n",
        "\n",
        "_**STEP 4:** Running Jupyter Notebook: https://jupyter.readthedocs.io/en/latest/running.html_"
      ]
    },
    {
      "cell_type": "markdown",
      "metadata": {
        "id": "tabKAGd9-zBn",
        "colab_type": "text"
      },
      "source": [
        "### BASICS OF PYTHON"
      ]
    },
    {
      "cell_type": "markdown",
      "metadata": {
        "id": "7fmDtRoxBJQW",
        "colab_type": "text"
      },
      "source": [
        "#### PRINT COMMAND"
      ]
    },
    {
      "cell_type": "code",
      "metadata": {
        "id": "MylpCThb_5SS",
        "colab_type": "code",
        "outputId": "2df45cd1-17be-4d89-f596-2497529df166",
        "colab": {
          "base_uri": "https://localhost:8080/",
          "height": 33
        }
      },
      "source": [
        "# Python code for \"Hello World\" \n",
        "# nothing else to type...see how simple is the syntax. \n",
        "  \n",
        "print(\"Hello World\") "
      ],
      "execution_count": 7,
      "outputs": [
        {
          "output_type": "stream",
          "text": [
            "Hello World\n"
          ],
          "name": "stdout"
        }
      ]
    },
    {
      "cell_type": "code",
      "metadata": {
        "id": "8oqs-iP5AB03",
        "colab_type": "code",
        "outputId": "4af91063-c042-4b6e-ac10-939e538266e7",
        "colab": {
          "base_uri": "https://localhost:8080/",
          "height": 66
        }
      },
      "source": [
        "# Python program to declare variables \n",
        "myNumber = 2\n",
        "print(myNumber) \n",
        "  \n",
        "myNumber2 = 2.5\n",
        "print(myNumber2) \n",
        "  \n",
        "myNumber =\"helloworld\"\n",
        "print(myNumber) "
      ],
      "execution_count": 8,
      "outputs": [
        {
          "output_type": "stream",
          "text": [
            "2\n",
            "2.5\n",
            "helloworld\n"
          ],
          "name": "stdout"
        }
      ]
    },
    {
      "cell_type": "markdown",
      "metadata": {
        "id": "GDNOY6gYBQgo",
        "colab_type": "text"
      },
      "source": [
        "#### INPUT FROM USER"
      ]
    },
    {
      "cell_type": "code",
      "metadata": {
        "id": "ItN-VcUJALp3",
        "colab_type": "code",
        "outputId": "f18234d4-7247-4e4f-fec7-b4b119729f56",
        "colab": {
          "base_uri": "https://localhost:8080/",
          "height": 50
        }
      },
      "source": [
        "# Python program to illustrate getting input from user \n",
        "name = input(\"Enter your name: \") \n",
        "  \n",
        "# user entered the name 'Piyush' \n",
        "print(\"Hello\", name) "
      ],
      "execution_count": 9,
      "outputs": [
        {
          "output_type": "stream",
          "text": [
            "Enter your name: pIYUSH\n",
            "Hello pIYUSH\n"
          ],
          "name": "stdout"
        }
      ]
    },
    {
      "cell_type": "code",
      "metadata": {
        "id": "CQy5W69xAaKH",
        "colab_type": "code",
        "outputId": "cf5e6849-a69b-47f1-9332-1d74c859ccce",
        "colab": {
          "base_uri": "https://localhost:8080/",
          "height": 66
        }
      },
      "source": [
        "# Python program to get input from user accepting only integer from the user \n",
        "num1 = int(input(\"Enter num1: \"))  \n",
        "num2 = int(input(\"Enter num2: \")) \n",
        "  \n",
        "num3 = num1 * num2 \n",
        "print(\"Product is: \", num3) "
      ],
      "execution_count": 10,
      "outputs": [
        {
          "output_type": "stream",
          "text": [
            "Enter num1: 5\n",
            "Enter num2: 5\n",
            "Product is:  25\n"
          ],
          "name": "stdout"
        }
      ]
    },
    {
      "cell_type": "markdown",
      "metadata": {
        "id": "x14h0dW9-ovp",
        "colab_type": "text"
      },
      "source": [
        "#### STATEMENT, INDENTATION AND COMMENTS"
      ]
    },
    {
      "cell_type": "markdown",
      "metadata": {
        "id": "0tgffjBQ_Bh-",
        "colab_type": "text"
      },
      "source": [
        "##### STATEMENTS\n",
        "\n",
        "*Instructions written in the source code for execution are called statements. There are different types of statements in the Python programming language like Assignment statement, Conditional statement, Looping statements etc. These all help the user to get the required output.*\n",
        "\n",
        "_**Multi-Line Statements:** Statements in Python can be extended to one or more lines using parentheses (), braces {}, square brackets [], semi-colon (;), continuation character slash (\\). When the programmer needs to do long calculations and cannot fit his statements into one line, one can make use of these characters._"
      ]
    },
    {
      "cell_type": "code",
      "metadata": {
        "id": "P6STiRI0yAAO",
        "colab_type": "code",
        "colab": {}
      },
      "source": [
        "#Declared using Continuation Character (\\):\n",
        "s = 1 + 2 + 3 + \\\n",
        "    4 + 5 + 6 + \\\n",
        "    7 + 8 + 9\n",
        "\n",
        "#Declared using parentheses () :\n",
        "n = (1 * 2 * 3 + 7 + 8 + 9)\n",
        "\n",
        "#Declared using square brackets [] :\n",
        "footballer = ['MESSI',\n",
        "          'NEYMAR',\n",
        "          'SUAREZ']\n",
        "\n",
        "#Declared using braces {} :\n",
        "x = {1 + 2 + 3 + 4 + 5 + 6 +\n",
        "     7 + 8 + 9}\n",
        "\n",
        "#Declared using semicolons(;) :\n",
        "flag = 2; ropes = 3; pole = 4"
      ],
      "execution_count": 0,
      "outputs": []
    },
    {
      "cell_type": "markdown",
      "metadata": {
        "id": "C-S_UVbNBdrn",
        "colab_type": "text"
      },
      "source": [
        "##### INDENTATION\n",
        "\n",
        "*A block is a combination of all these statements. Block can be regarded as the grouping of statements for a specific purpose. Most of the programming languages like C, C++, Java use braces { } to define a block of code. One of the distinctive features of Python is its use of indentation to highlight the blocks of code. Whitespace is used for indentation in Python. All statements with the same distance to the right belong to the same block of code. If a block has to be more deeply nested, it is simply indented further to the right.*"
      ]
    },
    {
      "cell_type": "code",
      "metadata": {
        "id": "027Wqg1w_fq5",
        "colab_type": "code",
        "outputId": "a66d2722-87c9-4e6c-8ce4-991282d25b6c",
        "colab": {
          "base_uri": "https://localhost:8080/",
          "height": 50
        }
      },
      "source": [
        "# Python program showing indentation \n",
        "  \n",
        "site = 'www.python.org'\n",
        "  \n",
        "if site == 'www.python.org': \n",
        "    print('Redirecting...') \n",
        "else: \n",
        "    print('Check the URL') \n",
        "print('END') "
      ],
      "execution_count": 12,
      "outputs": [
        {
          "output_type": "stream",
          "text": [
            "Redirecting...\n",
            "END\n"
          ],
          "name": "stdout"
        }
      ]
    },
    {
      "cell_type": "markdown",
      "metadata": {
        "id": "pw9x4-srB_73",
        "colab_type": "text"
      },
      "source": [
        "##### COMMENT"
      ]
    },
    {
      "cell_type": "markdown",
      "metadata": {
        "id": "iEjIq9JkCHDy",
        "colab_type": "text"
      },
      "source": [
        "*Single Line Comment*"
      ]
    },
    {
      "cell_type": "code",
      "metadata": {
        "id": "kD_Bb_seB2bM",
        "colab_type": "code",
        "outputId": "b545d03c-a63f-4e6d-a90a-3e71f0884763",
        "colab": {
          "base_uri": "https://localhost:8080/",
          "height": 33
        }
      },
      "source": [
        "a, b = 1, 3 # Declaring two integers \n",
        "sum = a + b # adding two integers \n",
        "print(sum) # displaying the output "
      ],
      "execution_count": 13,
      "outputs": [
        {
          "output_type": "stream",
          "text": [
            "4\n"
          ],
          "name": "stdout"
        }
      ]
    },
    {
      "cell_type": "markdown",
      "metadata": {
        "id": "VnXQciebCK0a",
        "colab_type": "text"
      },
      "source": [
        "*Multi-Line Comment*"
      ]
    },
    {
      "cell_type": "code",
      "metadata": {
        "id": "LSvzhKbGCCeD",
        "colab_type": "code",
        "outputId": "83eced49-e2f1-4e2c-d49e-8a5e46a008b2",
        "colab": {
          "base_uri": "https://localhost:8080/",
          "height": 33
        }
      },
      "source": [
        "\"\"\" \n",
        "This would be a multiline comment in Python that \n",
        "spans several lines and then excutes the \n",
        "statement next to it. \n",
        "\n",
        "\"\"\"\n",
        "print(\"Learning Python.\") "
      ],
      "execution_count": 14,
      "outputs": [
        {
          "output_type": "stream",
          "text": [
            "Learning Python.\n"
          ],
          "name": "stdout"
        }
      ]
    },
    {
      "cell_type": "markdown",
      "metadata": {
        "id": "VhYeRr6vDULz",
        "colab_type": "text"
      },
      "source": [
        "#### VARIABLES\n",
        "\n",
        "*1. There are certain rules to what you can name a variable(called an identifier).*\n",
        "\n",
        "*2. Python variables can only begin with a letter(A-Z/a-z) or an underscore(_).*\n",
        "\n",
        "*3. Python is case-sensitive, and so are Python identifiers. Name and name are two different identifiers.*\n",
        "\n",
        "*4. To assign a value to Python variables, you don’t need to declare its type. Just name it according to the rules, and type the value after the equal sign(=).*\n",
        "\n",
        "*5. You can assign values to multiple Python variables in one statement.*\n"
      ]
    },
    {
      "cell_type": "code",
      "metadata": {
        "id": "eypwunMRCZvK",
        "colab_type": "code",
        "outputId": "1461d863-2346-42e1-c19e-94241b452422",
        "colab": {
          "base_uri": "https://localhost:8080/",
          "height": 98
        }
      },
      "source": [
        "var = 2 # Declaration\n",
        "_var = 3\n",
        "\n",
        "Var = 4 # Case-Sensitive\n",
        "\n",
        "var1,var2 = 'Piyush','Singla' # Multiple Assignment\n",
        "\n",
        "print(var)\n",
        "print(_var)\n",
        "print(Var)\n",
        "print(var1)\n",
        "print(var2)"
      ],
      "execution_count": 15,
      "outputs": [
        {
          "output_type": "stream",
          "text": [
            "2\n",
            "3\n",
            "4\n",
            "Piyush\n",
            "Singla\n"
          ],
          "name": "stdout"
        }
      ]
    },
    {
      "cell_type": "code",
      "metadata": {
        "id": "xuy-RmpXLFc7",
        "colab_type": "code",
        "outputId": "d364defe-899b-49d2-e7bc-da78e8bb3cf4",
        "colab": {
          "base_uri": "https://localhost:8080/",
          "height": 33
        }
      },
      "source": [
        "print(type(var))"
      ],
      "execution_count": 16,
      "outputs": [
        {
          "output_type": "stream",
          "text": [
            "<class 'int'>\n"
          ],
          "name": "stdout"
        }
      ]
    },
    {
      "cell_type": "markdown",
      "metadata": {
        "id": "HtiLu8jVENn6",
        "colab_type": "text"
      },
      "source": [
        "#### INDENTIFIERS\n",
        "\n",
        "```\n",
        "and | def | False | import| not | True| as | del | finally | in | or | try | assert | elif | for | is | pass | while | break | else \n",
        "| from | lambda | print | with | class | except | global | None | raise | yield | continue | exec | if | nonlocal | return\n",
        "```"
      ]
    },
    {
      "cell_type": "markdown",
      "metadata": {
        "id": "yjhC3Z0yGmZc",
        "colab_type": "text"
      },
      "source": [
        "### DATA TYPES"
      ]
    },
    {
      "cell_type": "markdown",
      "metadata": {
        "id": "DyvtJtSHGuu1",
        "colab_type": "text"
      },
      "source": [
        "#### NUMBERS\n",
        "\n",
        "\n",
        "\n",
        "1.   INTEGER\n",
        "2.   FLOAT\n",
        "3.   COMPLEX\n",
        "4.   BOOLEAN (TRUE/FALSE)\n",
        "\n"
      ]
    },
    {
      "cell_type": "code",
      "metadata": {
        "id": "Ee1btnzfD5Tw",
        "colab_type": "code",
        "outputId": "af3c5693-2e6c-4b48-d674-a8663709ac6f",
        "colab": {
          "base_uri": "https://localhost:8080/",
          "height": 82
        }
      },
      "source": [
        "#int\n",
        "#int stands for integer. This Python Data Type holds signed integers. We can use the type() function to find which class it belongs to.\n",
        "#An integer can be of any length, with the only limitation being the available memory.\n",
        "\n",
        "a=-7\n",
        "print(a)\n",
        "\n",
        "b=999999999999999999\n",
        "print(b)\n",
        "\n",
        "#float\n",
        "#This Python Data Type holds floating-point real values. An int can only store the number 3, but float can store 3.25 if you want.\n",
        "\n",
        "c=3.0\n",
        "print(c)\n",
        "\n",
        "#complex\n",
        "#This Python Data type holds a complex number. A complex number looks like this: a+bj Here, a and b are the real parts of the number, and j is imaginary.\n",
        "\n",
        "d=2+3j\n",
        "print(d)"
      ],
      "execution_count": 17,
      "outputs": [
        {
          "output_type": "stream",
          "text": [
            "-7\n",
            "999999999999999999\n",
            "3.0\n",
            "(2+3j)\n"
          ],
          "name": "stdout"
        }
      ]
    },
    {
      "cell_type": "code",
      "metadata": {
        "id": "HJ6jz_ccHH2K",
        "colab_type": "code",
        "outputId": "d80422fb-55b2-470c-b525-811630e66c86",
        "colab": {
          "base_uri": "https://localhost:8080/",
          "height": 50
        }
      },
      "source": [
        "# Use the isinstance() function to tell if Python variables belong to a particular class. It takes two parameters- the variable/value, and the class.\n",
        "\n",
        "print(isinstance(a,complex))\n",
        "print(isinstance(a,int))"
      ],
      "execution_count": 18,
      "outputs": [
        {
          "output_type": "stream",
          "text": [
            "False\n",
            "True\n"
          ],
          "name": "stdout"
        }
      ]
    },
    {
      "cell_type": "code",
      "metadata": {
        "id": "EV9Fn0mTHm6g",
        "colab_type": "code",
        "outputId": "c869b550-45c3-42f8-a255-b89b9dee8c59",
        "colab": {
          "base_uri": "https://localhost:8080/",
          "height": 50
        }
      },
      "source": [
        "# Use the type() function to tell variables class.\n",
        "\n",
        "print(type(a))\n",
        "print(type(d))"
      ],
      "execution_count": 19,
      "outputs": [
        {
          "output_type": "stream",
          "text": [
            "<class 'int'>\n",
            "<class 'complex'>\n"
          ],
          "name": "stdout"
        }
      ]
    },
    {
      "cell_type": "markdown",
      "metadata": {
        "id": "fVUMom1Z_HnK",
        "colab_type": "text"
      },
      "source": [
        "_Type Conversion_\n",
        "\n",
        "_The process of converting the value of one data type (integer, string, float, etc.) to another is called type conversion. Python has two types of type conversion:_\n",
        "\n",
        "_1. Implicit: Implicit conversion doesn't need any user involvement._\n",
        "\n",
        "_2. Explicit: In case of explicit conversion, we convert the datatype of an object to the required data type. We use predefined functions like int(), float(), str() etc. to perform explicit type conversion._"
      ]
    },
    {
      "cell_type": "code",
      "metadata": {
        "id": "mqynE7acH8Vz",
        "colab_type": "code",
        "outputId": "d4a5ad80-dbd0-496d-edc8-82491841f59e",
        "colab": {
          "base_uri": "https://localhost:8080/",
          "height": 66
        }
      },
      "source": [
        "# Type Conversion \n",
        "\n",
        "print(int(c))\n",
        "print(float(a))\n",
        "print(complex(b))"
      ],
      "execution_count": 20,
      "outputs": [
        {
          "output_type": "stream",
          "text": [
            "3\n",
            "-7.0\n",
            "(1e+18+0j)\n"
          ],
          "name": "stdout"
        }
      ]
    },
    {
      "cell_type": "code",
      "metadata": {
        "id": "iKa3sC1KIaKS",
        "colab_type": "code",
        "colab": {}
      },
      "source": [
        "import math"
      ],
      "execution_count": 0,
      "outputs": []
    },
    {
      "cell_type": "code",
      "metadata": {
        "id": "nUI_gT3AIr7W",
        "colab_type": "code",
        "outputId": "e77fcb5f-9b6c-48af-927b-df952a6a083b",
        "colab": {
          "base_uri": "https://localhost:8080/",
          "height": 180
        }
      },
      "source": [
        "print(math.ceil(3.5566754))\n",
        "print(math.exp(3))\n",
        "print(math.factorial(3))\n",
        "print(math.log(2))\n",
        "print(math.sqrt(4))\n",
        "print(math.pi)\n",
        "print(math.isnan(3))\n",
        "print(math.isinf(3))\n",
        "print(math.isnan(math.nan))\n",
        "print(math.isinf(math.inf))\n",
        "\n",
        "# https://docs.python.org/3/library/math.html#"
      ],
      "execution_count": 22,
      "outputs": [
        {
          "output_type": "stream",
          "text": [
            "4\n",
            "20.085536923187668\n",
            "6\n",
            "0.6931471805599453\n",
            "2.0\n",
            "3.141592653589793\n",
            "False\n",
            "False\n",
            "True\n",
            "True\n"
          ],
          "name": "stdout"
        }
      ]
    },
    {
      "cell_type": "code",
      "metadata": {
        "id": "ypEVPoWlJNIw",
        "colab_type": "code",
        "outputId": "a9bdd33c-e57b-4429-b1c8-58d63c670108",
        "colab": {
          "base_uri": "https://localhost:8080/",
          "height": 33
        }
      },
      "source": [
        "bool(4)"
      ],
      "execution_count": 23,
      "outputs": [
        {
          "output_type": "execute_result",
          "data": {
            "text/plain": [
              "True"
            ]
          },
          "metadata": {
            "tags": []
          },
          "execution_count": 23
        }
      ]
    },
    {
      "cell_type": "code",
      "metadata": {
        "id": "aGFwSrXiJ7J0",
        "colab_type": "code",
        "outputId": "9b46fa48-70bc-4552-e0fd-b7cfffab6cdd",
        "colab": {
          "base_uri": "https://localhost:8080/",
          "height": 33
        }
      },
      "source": [
        "bool(0)"
      ],
      "execution_count": 24,
      "outputs": [
        {
          "output_type": "execute_result",
          "data": {
            "text/plain": [
              "False"
            ]
          },
          "metadata": {
            "tags": []
          },
          "execution_count": 24
        }
      ]
    },
    {
      "cell_type": "code",
      "metadata": {
        "id": "OAfGMKLbJ8Y6",
        "colab_type": "code",
        "outputId": "1c88e23c-d0c6-4aaa-8273-311c8e42423d",
        "colab": {
          "base_uri": "https://localhost:8080/",
          "height": 33
        }
      },
      "source": [
        "bool(False)"
      ],
      "execution_count": 25,
      "outputs": [
        {
          "output_type": "execute_result",
          "data": {
            "text/plain": [
              "False"
            ]
          },
          "metadata": {
            "tags": []
          },
          "execution_count": 25
        }
      ]
    },
    {
      "cell_type": "code",
      "metadata": {
        "id": "ogyZfhgCJ989",
        "colab_type": "code",
        "outputId": "106f862e-d8be-4a2c-90ae-fc49133aefa7",
        "colab": {
          "base_uri": "https://localhost:8080/",
          "height": 33
        }
      },
      "source": [
        "bool(0.1)"
      ],
      "execution_count": 26,
      "outputs": [
        {
          "output_type": "execute_result",
          "data": {
            "text/plain": [
              "True"
            ]
          },
          "metadata": {
            "tags": []
          },
          "execution_count": 26
        }
      ]
    },
    {
      "cell_type": "markdown",
      "metadata": {
        "id": "Qyz45fKLKF5d",
        "colab_type": "text"
      },
      "source": [
        "#### STRINGS\n",
        "\n",
        "*A Python string is a sequence of characters. There is a built-in class ‘str’ for handling Python string.*"
      ]
    },
    {
      "cell_type": "code",
      "metadata": {
        "id": "nNSKBcG_KHQo",
        "colab_type": "code",
        "outputId": "01dbe3f9-abb1-4f74-a9a9-f5fc03c17c0d",
        "colab": {
          "base_uri": "https://localhost:8080/",
          "height": 33
        }
      },
      "source": [
        "string1='I am learning Python Programming'\n",
        "print(string1)"
      ],
      "execution_count": 27,
      "outputs": [
        {
          "output_type": "stream",
          "text": [
            "I am learning Python Programming\n"
          ],
          "name": "stdout"
        }
      ]
    },
    {
      "cell_type": "code",
      "metadata": {
        "id": "kC4Xvf83Mic-",
        "colab_type": "code",
        "outputId": "55fedd3d-bfd2-4ee7-ee12-fa2c3d615c7b",
        "colab": {
          "base_uri": "https://localhost:8080/",
          "height": 33
        }
      },
      "source": [
        "string2='I am learning \"Python Programming\"'\n",
        "print(string2)"
      ],
      "execution_count": 28,
      "outputs": [
        {
          "output_type": "stream",
          "text": [
            "I am learning \"Python Programming\"\n"
          ],
          "name": "stdout"
        }
      ]
    },
    {
      "cell_type": "code",
      "metadata": {
        "id": "y_A2gzavMwMd",
        "colab_type": "code",
        "outputId": "0afb9b3c-79d9-4fef-fd16-c0d2378fbcce",
        "colab": {
          "base_uri": "https://localhost:8080/",
          "height": 33
        }
      },
      "source": [
        "# Accessing String Element\n",
        "\n",
        "print(string1[0])"
      ],
      "execution_count": 29,
      "outputs": [
        {
          "output_type": "stream",
          "text": [
            "I\n"
          ],
          "name": "stdout"
        }
      ]
    },
    {
      "cell_type": "code",
      "metadata": {
        "id": "MheXDfhBM_wH",
        "colab_type": "code",
        "outputId": "7d2bd7c4-4dc9-45fd-b5d1-73322ce3f8f9",
        "colab": {
          "base_uri": "https://localhost:8080/",
          "height": 191
        }
      },
      "source": [
        "# A string is immutable; it can’t be changed.\n",
        "\n",
        "string1[0] = 'You'\n",
        "print(string1)"
      ],
      "execution_count": 30,
      "outputs": [
        {
          "output_type": "error",
          "ename": "TypeError",
          "evalue": "ignored",
          "traceback": [
            "\u001b[0;31m---------------------------------------------------------------------------\u001b[0m",
            "\u001b[0;31mTypeError\u001b[0m                                 Traceback (most recent call last)",
            "\u001b[0;32m<ipython-input-30-bc1f56a97913>\u001b[0m in \u001b[0;36m<module>\u001b[0;34m()\u001b[0m\n\u001b[1;32m      1\u001b[0m \u001b[0;34m\u001b[0m\u001b[0m\n\u001b[0;32m----> 2\u001b[0;31m \u001b[0mstring1\u001b[0m\u001b[0;34m[\u001b[0m\u001b[0;36m0\u001b[0m\u001b[0;34m]\u001b[0m \u001b[0;34m=\u001b[0m \u001b[0;34m'You'\u001b[0m\u001b[0;34m\u001b[0m\u001b[0;34m\u001b[0m\u001b[0m\n\u001b[0m\u001b[1;32m      3\u001b[0m \u001b[0mprint\u001b[0m\u001b[0;34m(\u001b[0m\u001b[0mstring1\u001b[0m\u001b[0;34m)\u001b[0m\u001b[0;34m\u001b[0m\u001b[0;34m\u001b[0m\u001b[0m\n",
            "\u001b[0;31mTypeError\u001b[0m: 'str' object does not support item assignment"
          ]
        }
      ]
    },
    {
      "cell_type": "code",
      "metadata": {
        "id": "dRzKgLvoNT3G",
        "colab_type": "code",
        "outputId": "fbe38dfd-4781-42c6-e627-4ed4c0ea8d35",
        "colab": {
          "base_uri": "https://localhost:8080/",
          "height": 82
        }
      },
      "source": [
        "# Slicing a string \n",
        "\n",
        "print(string1[3:10])\n",
        "print(string1[:])\n",
        "print(string1[:-2])\n",
        "print(string1[-1])"
      ],
      "execution_count": 31,
      "outputs": [
        {
          "output_type": "stream",
          "text": [
            "m learn\n",
            "I am learning Python Programming\n",
            "I am learning Python Programmi\n",
            "g\n"
          ],
          "name": "stdout"
        }
      ]
    },
    {
      "cell_type": "code",
      "metadata": {
        "id": "5h_nxcFnNawx",
        "colab_type": "code",
        "outputId": "ca7c82b1-0cc9-4574-b33c-908c9db45b03",
        "colab": {
          "base_uri": "https://localhost:8080/",
          "height": 33
        }
      },
      "source": [
        "# Concatenation \n",
        "\n",
        "string1 = 'I love'\n",
        "string2 = ' Python Programming'\n",
        "\n",
        "print(string1+string2)"
      ],
      "execution_count": 32,
      "outputs": [
        {
          "output_type": "stream",
          "text": [
            "I love Python Programming\n"
          ],
          "name": "stdout"
        }
      ]
    },
    {
      "cell_type": "code",
      "metadata": {
        "id": "SVbqJA0ENxSL",
        "colab_type": "code",
        "outputId": "32196acc-e398-49a3-8263-c38dd66c0c49",
        "colab": {
          "base_uri": "https://localhost:8080/",
          "height": 33
        }
      },
      "source": [
        "# Formatting\n",
        "\n",
        "city='Delhi'\n",
        "\n",
        "print(\"Name\",'Piyush',\"City\",city)"
      ],
      "execution_count": 33,
      "outputs": [
        {
          "output_type": "stream",
          "text": [
            "Name Piyush City Delhi\n"
          ],
          "name": "stdout"
        }
      ]
    },
    {
      "cell_type": "code",
      "metadata": {
        "id": "e0WxqhNQN-vn",
        "colab_type": "code",
        "outputId": "72347cc2-75c9-4a25-e80d-e43966a7ff9e",
        "colab": {
          "base_uri": "https://localhost:8080/",
          "height": 50
        }
      },
      "source": [
        "language = input('Enter Programming Language:')\n",
        "print(f\"I am learning {language} Programming\")"
      ],
      "execution_count": 34,
      "outputs": [
        {
          "output_type": "stream",
          "text": [
            "Enter Programming Language:PYTHON\n",
            "I am learning PYTHON Programming\n"
          ],
          "name": "stdout"
        }
      ]
    },
    {
      "cell_type": "code",
      "metadata": {
        "id": "UhWMXrrjOPFZ",
        "colab_type": "code",
        "outputId": "9de0c679-0fb8-43c8-b3be-1c51d4aafba1",
        "colab": {
          "base_uri": "https://localhost:8080/",
          "height": 33
        }
      },
      "source": [
        "print(\"I love {0}\".format(language))"
      ],
      "execution_count": 35,
      "outputs": [
        {
          "output_type": "stream",
          "text": [
            "I love PYTHON\n"
          ],
          "name": "stdout"
        }
      ]
    },
    {
      "cell_type": "code",
      "metadata": {
        "id": "vrKai177OVuE",
        "colab_type": "code",
        "outputId": "856c38a7-5db9-49c6-95f0-fb33842188ae",
        "colab": {
          "base_uri": "https://localhost:8080/",
          "height": 33
        }
      },
      "source": [
        "a = 'Python'\n",
        "b = 'Language'\n",
        "\n",
        "print(\"I love %s %s\" %(a,b))\n",
        "\n",
        "# %d – for integers\n",
        "# %f – for floating-point numbers"
      ],
      "execution_count": 36,
      "outputs": [
        {
          "output_type": "stream",
          "text": [
            "I love Python Language\n"
          ],
          "name": "stdout"
        }
      ]
    },
    {
      "cell_type": "code",
      "metadata": {
        "id": "XebGbYPTOogt",
        "colab_type": "code",
        "outputId": "dfab731a-880d-458a-d5f7-441773084f09",
        "colab": {
          "base_uri": "https://localhost:8080/",
          "height": 33
        }
      },
      "source": [
        "print(\"Hell\\to\")"
      ],
      "execution_count": 37,
      "outputs": [
        {
          "output_type": "stream",
          "text": [
            "Hell\to\n"
          ],
          "name": "stdout"
        }
      ]
    },
    {
      "cell_type": "code",
      "metadata": {
        "id": "OJW7nMUonexm",
        "colab_type": "code",
        "outputId": "c979ba0d-2eef-4b66-8299-67285ed469c1",
        "colab": {
          "base_uri": "https://localhost:8080/",
          "height": 228
        }
      },
      "source": [
        "# String Functions\n",
        "\n",
        "string1 = 'Python'\n",
        "\n",
        "print(len(string1))\n",
        "\n",
        "print(str(['red','green','blue']))\n",
        "\n",
        "print(string1.lower())\n",
        "\n",
        "print(string1.upper())\n",
        "\n",
        "string2 = ' Language '\n",
        "print(string2.strip())\n",
        "\n",
        "string3 = '9876'\n",
        "print(string3.isdigit())\n",
        "\n",
        "print(string2.isalpha())\n",
        "\n",
        "print(string1.startswith('P'))\n",
        "\n",
        "print(string1.endswith('n'))\n",
        "\n",
        "print(string1.find('yth'))\n",
        "\n",
        "print(string3.replace('8','9'))\n",
        "\n",
        "string4 = 'Hi.How.Are.You?'\n",
        "print(string4.split('.'))\n",
        "\n",
        "print('*'.join(['red','green','yellow']))"
      ],
      "execution_count": 38,
      "outputs": [
        {
          "output_type": "stream",
          "text": [
            "6\n",
            "['red', 'green', 'blue']\n",
            "python\n",
            "PYTHON\n",
            "Language\n",
            "True\n",
            "False\n",
            "True\n",
            "True\n",
            "1\n",
            "9976\n",
            "['Hi', 'How', 'Are', 'You?']\n",
            "red*green*yellow\n"
          ],
          "name": "stdout"
        }
      ]
    },
    {
      "cell_type": "code",
      "metadata": {
        "id": "-f1a8n1bnvSN",
        "colab_type": "code",
        "outputId": "1f52e398-e156-45e3-d9af-2e558886dd5a",
        "colab": {
          "base_uri": "https://localhost:8080/",
          "height": 50
        }
      },
      "source": [
        "# Membership\n",
        "\n",
        "print('on' in 'Python')\n",
        "\n",
        "print('iyush' not in 'Piyush')"
      ],
      "execution_count": 39,
      "outputs": [
        {
          "output_type": "stream",
          "text": [
            "True\n",
            "False\n"
          ],
          "name": "stdout"
        }
      ]
    },
    {
      "cell_type": "code",
      "metadata": {
        "id": "X3oFtrOzr54C",
        "colab_type": "code",
        "outputId": "afc15b4f-06cd-42cc-f5c6-533d3c27e4ec",
        "colab": {
          "base_uri": "https://localhost:8080/",
          "height": 50
        }
      },
      "source": [
        "# Identity\n",
        "\n",
        "print('Hey' is 'Hi')\n",
        "\n",
        "print('Yo' is not 'yo')"
      ],
      "execution_count": 40,
      "outputs": [
        {
          "output_type": "stream",
          "text": [
            "False\n",
            "True\n"
          ],
          "name": "stdout"
        }
      ]
    },
    {
      "cell_type": "code",
      "metadata": {
        "id": "PYXOk3mp7lRL",
        "colab_type": "code",
        "colab": {
          "base_uri": "https://localhost:8080/",
          "height": 33
        },
        "outputId": "2078c739-52ed-4d64-a147-c2bb2a3664c1"
      },
      "source": [
        "# iterating string\n",
        "\n",
        "count = 0\n",
        "for letter in 'Hello World':\n",
        "    if(letter == 'l'):\n",
        "        count += 1\n",
        "print(count,'letters found')"
      ],
      "execution_count": 41,
      "outputs": [
        {
          "output_type": "stream",
          "text": [
            "3 letters found\n"
          ],
          "name": "stdout"
        }
      ]
    },
    {
      "cell_type": "code",
      "metadata": {
        "id": "7sz0DnUl_T1w",
        "colab_type": "code",
        "colab": {
          "base_uri": "https://localhost:8080/",
          "height": 50
        },
        "outputId": "9a706a90-47f1-4c91-8d00-260868a84e88"
      },
      "source": [
        "str = 'piyush'\n",
        "\n",
        "# enumerate()\n",
        "list_enumerate = list(enumerate(str))\n",
        "print('list(enumerate(str) = ', list_enumerate)\n",
        "\n",
        "#character count\n",
        "print('len(str) = ', len(str))"
      ],
      "execution_count": 42,
      "outputs": [
        {
          "output_type": "stream",
          "text": [
            "list(enumerate(str) =  [(0, 'p'), (1, 'i'), (2, 'y'), (3, 'u'), (4, 's'), (5, 'h')]\n",
            "len(str) =  6\n"
          ],
          "name": "stdout"
        }
      ]
    },
    {
      "cell_type": "code",
      "metadata": {
        "id": "W1BGMYXc70wI",
        "colab_type": "code",
        "colab": {
          "base_uri": "https://localhost:8080/",
          "height": 33
        },
        "outputId": "fbd0fe15-382e-4413-9b7d-c86ffb10f69a"
      },
      "source": [
        "# Count a sub string\n",
        "\n",
        "string = \"Python is awesome, isn't it?\"\n",
        "substring = \"is\"\n",
        "\n",
        "count = string.count(substring)\n",
        "\n",
        "# print count\n",
        "print(\"The count is:\", count)"
      ],
      "execution_count": 43,
      "outputs": [
        {
          "output_type": "stream",
          "text": [
            "The count is: 2\n"
          ],
          "name": "stdout"
        }
      ]
    },
    {
      "cell_type": "code",
      "metadata": {
        "id": "IMdC0ZNi73zD",
        "colab_type": "code",
        "colab": {
          "base_uri": "https://localhost:8080/",
          "height": 33
        },
        "outputId": "2a05c927-08ee-444a-c279-bccb792bf681"
      },
      "source": [
        "\n",
        "# Get index of string \n",
        "\n",
        "sentence = 'Python programming is fun.'\n",
        "\n",
        "result = sentence.index('is fun')\n",
        "print(\"Substring 'is fun':\", result)"
      ],
      "execution_count": 44,
      "outputs": [
        {
          "output_type": "stream",
          "text": [
            "Substring 'is fun': 19\n"
          ],
          "name": "stdout"
        }
      ]
    },
    {
      "cell_type": "code",
      "metadata": {
        "id": "2-UYMGg7_Yij",
        "colab_type": "code",
        "colab": {
          "base_uri": "https://localhost:8080/",
          "height": 163
        },
        "outputId": "57e5d950-5bfd-4b85-b493-c680c3eea306"
      },
      "source": [
        "# Format method\n",
        "\n",
        "# default(implicit) order\n",
        "default_order = \"{}, {} and {}\".format('John','Bill','Sean')\n",
        "print('\\n--- Default Order ---')\n",
        "print(default_order)\n",
        "\n",
        "# order using positional argument\n",
        "positional_order = \"{1}, {0} and {2}\".format('John','Bill','Sean')\n",
        "print('\\n--- Positional Order ---')\n",
        "print(positional_order)\n",
        "\n",
        "# order using keyword argument\n",
        "keyword_order = \"{s}, {b} and {j}\".format(j='John',b='Bill',s='Sean')\n",
        "print('\\n--- Keyword Order ---')\n",
        "print(keyword_order)"
      ],
      "execution_count": 45,
      "outputs": [
        {
          "output_type": "stream",
          "text": [
            "\n",
            "--- Default Order ---\n",
            "John, Bill and Sean\n",
            "\n",
            "--- Positional Order ---\n",
            "Bill, John and Sean\n",
            "\n",
            "--- Keyword Order ---\n",
            "Sean, Bill and John\n"
          ],
          "name": "stdout"
        }
      ]
    },
    {
      "cell_type": "markdown",
      "metadata": {
        "id": "-rq0kGzVtbsC",
        "colab_type": "text"
      },
      "source": [
        "#### LISTS\n",
        "\n",
        "*Lists are just like the arrays, declared in other languages. Lists need not be homogeneous always which makes it a most powerful tool in Python. A single list may contain DataTypes like Integers, Strings, as well as Objects. Lists are mutable, and hence, they can be altered even after their creation.*\n",
        "\n",
        "*List in Python are ordered and have a definite count. The elements in a list are indexed according to a definite sequence and the indexing of a list is done with 0 being the first index. Each element in the list has its definite place in the list, which allows duplicating of elements in the list, with each element having its own distinct place and credibility.*\n",
        "\n",
        "*Lists in Python can be created by just placing the sequence inside the square brackets[].*"
      ]
    },
    {
      "cell_type": "code",
      "metadata": {
        "id": "QbwdXlORsRVO",
        "colab_type": "code",
        "outputId": "d7378adb-05b3-441a-9f8b-8f292ca02b76",
        "colab": {
          "base_uri": "https://localhost:8080/",
          "height": 277
        }
      },
      "source": [
        "# Python program to demonstrate Creation of List  \n",
        "  \n",
        "# Creating a List \n",
        "List = [] \n",
        "print(\"Intial blank List: \") \n",
        "print(List) \n",
        "  \n",
        "# Creating a List with the use of a String \n",
        "List = ['Python Programming'] \n",
        "print(\"\\nList with the use of String: \") \n",
        "print(List) \n",
        "  \n",
        "# Creating a List with the use of multiple values \n",
        "List = [\"Python\", \"Programming\"] \n",
        "print(\"\\nList containing multiple values: \") \n",
        "print(List[0])  \n",
        "print(List[1]) \n",
        "  \n",
        "# Creating a Multi-Dimensional List (By Nesting a list inside a List) \n",
        "List = [['Python', 'Programming'] , [2]] \n",
        "print(\"\\nMulti-Dimensional List: \") \n",
        "print(List) \n",
        "\n",
        "# Creating a List with the use of Numbers (Having duplicate values) \n",
        "List = [1, 2, 4, 4, 3, 3, 3, 6, 5] \n",
        "print(\"\\nList with the use of Numbers: \") \n",
        "print(List)\n",
        "\n",
        "print(type(List))"
      ],
      "execution_count": 46,
      "outputs": [
        {
          "output_type": "stream",
          "text": [
            "Intial blank List: \n",
            "[]\n",
            "\n",
            "List with the use of String: \n",
            "['Python Programming']\n",
            "\n",
            "List containing multiple values: \n",
            "Python\n",
            "Programming\n",
            "\n",
            "Multi-Dimensional List: \n",
            "[['Python', 'Programming'], [2]]\n",
            "\n",
            "List with the use of Numbers: \n",
            "[1, 2, 4, 4, 3, 3, 3, 6, 5]\n",
            "<class 'list'>\n"
          ],
          "name": "stdout"
        }
      ]
    },
    {
      "cell_type": "code",
      "metadata": {
        "id": "_rUvjxVPyUcT",
        "colab_type": "code",
        "outputId": "3c4dd625-b2bf-4a2d-c962-3fc4302b0ea5",
        "colab": {
          "base_uri": "https://localhost:8080/",
          "height": 245
        }
      },
      "source": [
        "# APPEND FUNCTION\n",
        "\n",
        "# Python program to demonstrate Addition of elements in a List \n",
        "  \n",
        "# Creating a List \n",
        "List = [] \n",
        "print(\"Initial blank List: \") \n",
        "print(List) \n",
        "  \n",
        "# Addition of Elements in the List \n",
        "List.append(1) \n",
        "List.append(2) \n",
        "List.append(4) \n",
        "print(\"\\nList after Addition of Three elements: \") \n",
        "print(List) \n",
        "  \n",
        "# Adding elements to the List using Iterator \n",
        "for i in range(1, 4): \n",
        "    List.append(i) \n",
        "print(\"\\nList after Addition of elements from 1-3: \") \n",
        "print(List) \n",
        "  \n",
        "# Adding Tuples to the List \n",
        "List.append((5, 6)) \n",
        "print(\"\\nList after Addition of a Tuple: \") \n",
        "print(List) \n",
        "\n",
        "# Addition of List to a List \n",
        "List2 = ['For', 'Python'] \n",
        "List.append(List2) \n",
        "print(\"\\nList after Addition of a List: \") \n",
        "print(List)"
      ],
      "execution_count": 47,
      "outputs": [
        {
          "output_type": "stream",
          "text": [
            "Initial blank List: \n",
            "[]\n",
            "\n",
            "List after Addition of Three elements: \n",
            "[1, 2, 4]\n",
            "\n",
            "List after Addition of elements from 1-3: \n",
            "[1, 2, 4, 1, 2, 3]\n",
            "\n",
            "List after Addition of a Tuple: \n",
            "[1, 2, 4, 1, 2, 3, (5, 6)]\n",
            "\n",
            "List after Addition of a List: \n",
            "[1, 2, 4, 1, 2, 3, (5, 6), ['For', 'Python']]\n"
          ],
          "name": "stdout"
        }
      ]
    },
    {
      "cell_type": "code",
      "metadata": {
        "id": "pbCxjWAizOyC",
        "colab_type": "code",
        "outputId": "98a250ef-5fee-4339-e0b5-bdf2257909d6",
        "colab": {
          "base_uri": "https://localhost:8080/",
          "height": 98
        }
      },
      "source": [
        "# INSERT FUNCTION \n",
        "\n",
        "# Python program to demonstrate Addition of elements in a List \n",
        "   \n",
        "# Creating a List \n",
        "List = [1,2,3,4] \n",
        "print(\"Initial List: \") \n",
        "print(List) \n",
        "  \n",
        "# Addition of Element at specific Position (using Insert Method) \n",
        "List.insert(3, 12) \n",
        "List.insert(0, 'Python') \n",
        "print(\"\\nList after performing Insert Operation: \") \n",
        "print(List) "
      ],
      "execution_count": 48,
      "outputs": [
        {
          "output_type": "stream",
          "text": [
            "Initial List: \n",
            "[1, 2, 3, 4]\n",
            "\n",
            "List after performing Insert Operation: \n",
            "['Python', 1, 2, 3, 12, 4]\n"
          ],
          "name": "stdout"
        }
      ]
    },
    {
      "cell_type": "code",
      "metadata": {
        "id": "AmmbeKOkzkcw",
        "colab_type": "code",
        "outputId": "908070e1-68b5-4cd3-bc3e-3bcaa8252509",
        "colab": {
          "base_uri": "https://localhost:8080/",
          "height": 98
        }
      },
      "source": [
        "# EXTEND FUNCTION\n",
        "\n",
        "# Python program to demonstrate Addition of elements in a List \n",
        "    \n",
        "# Creating a List \n",
        "List = [1,2,3,4] \n",
        "print(\"Initial List: \") \n",
        "print(List) \n",
        "  \n",
        "# Addition of multiple elements \n",
        "# to the List at the end \n",
        "# (using Extend Method) \n",
        "List.extend([8, 'Python', 'Programming']) \n",
        "print(\"\\nList after performing Extend Operation: \") \n",
        "print(List) "
      ],
      "execution_count": 49,
      "outputs": [
        {
          "output_type": "stream",
          "text": [
            "Initial List: \n",
            "[1, 2, 3, 4]\n",
            "\n",
            "List after performing Extend Operation: \n",
            "[1, 2, 3, 4, 8, 'Python', 'Programming']\n"
          ],
          "name": "stdout"
        }
      ]
    },
    {
      "cell_type": "code",
      "metadata": {
        "id": "pnDYITymz4ko",
        "colab_type": "code",
        "outputId": "63674072-f415-427c-e2e6-3ad2281e4a12",
        "colab": {
          "base_uri": "https://localhost:8080/",
          "height": 147
        }
      },
      "source": [
        "# REMOVE FUNCTION\n",
        "\n",
        "# Python program to demonstrate Removal of elements in a List \n",
        "  \n",
        "# Creating a List \n",
        "List = [1, 2, 3, 4, 5, 6,  \n",
        "        7, 8, 9, 10, 11, 12] \n",
        "print(\"Intial List: \") \n",
        "print(List) \n",
        "  \n",
        "# Removing elements from List using Remove() method \n",
        "List.remove(5) \n",
        "List.remove(6) \n",
        "print(\"\\nList after Removal of two elements: \") \n",
        "print(List) \n",
        "  \n",
        "# Removing elements from List using iterator method \n",
        "for i in range(1, 5): \n",
        "    List.remove(i) \n",
        "print(\"\\nList after Removing a range of elements: \") \n",
        "print(List) "
      ],
      "execution_count": 50,
      "outputs": [
        {
          "output_type": "stream",
          "text": [
            "Intial List: \n",
            "[1, 2, 3, 4, 5, 6, 7, 8, 9, 10, 11, 12]\n",
            "\n",
            "List after Removal of two elements: \n",
            "[1, 2, 3, 4, 7, 8, 9, 10, 11, 12]\n",
            "\n",
            "List after Removing a range of elements: \n",
            "[7, 8, 9, 10, 11, 12]\n"
          ],
          "name": "stdout"
        }
      ]
    },
    {
      "cell_type": "code",
      "metadata": {
        "id": "6YF8iZYl0PpF",
        "colab_type": "code",
        "outputId": "d92cfe81-54f5-4c9d-9fa9-dbaf01fa0d54",
        "colab": {
          "base_uri": "https://localhost:8080/",
          "height": 342
        }
      },
      "source": [
        "# SLICING OF LIST\n",
        "  \n",
        "# Creating a List \n",
        "List = ['P','Y','T','H','O','N',' ','P','R','O','G','R','A','M','M','I','N','G'] \n",
        "print(\"Intial List: \") \n",
        "print(List) \n",
        "  \n",
        "# Print elements of a range \n",
        "# using Slice operation \n",
        "Sliced_List = List[3:8] \n",
        "print(\"\\nSlicing elements in a range 3-8: \") \n",
        "print(Sliced_List) \n",
        "  \n",
        "# Print elements from a  \n",
        "# pre-defined point to end \n",
        "Sliced_List = List[5:] \n",
        "print(\"\\nElements sliced from 5th \"\n",
        "      \"element till the end: \") \n",
        "print(Sliced_List) \n",
        "  \n",
        "# Printing elements from \n",
        "# beginning till end \n",
        "Sliced_List = List[:] \n",
        "print(\"\\nPrinting all elements using slice operation: \") \n",
        "print(Sliced_List) \n",
        "\n",
        "# Print elements from beginning \n",
        "# to a pre-defined point using Slice \n",
        "Sliced_List = List[:-6] \n",
        "print(\"\\nElements sliced till 6th element from last: \") \n",
        "print(Sliced_List) \n",
        "  \n",
        "# Print elements of a range \n",
        "# using negative index List slicing \n",
        "Sliced_List = List[-6:-1] \n",
        "print(\"\\nElements sliced from index -6 to -1\") \n",
        "print(Sliced_List) \n",
        "  \n",
        "# Printing elements in reverse \n",
        "# using Slice operation \n",
        "Sliced_List = List[::-1] \n",
        "print(\"\\nPrinting List in reverse: \") \n",
        "print(Sliced_List) "
      ],
      "execution_count": 51,
      "outputs": [
        {
          "output_type": "stream",
          "text": [
            "Intial List: \n",
            "['P', 'Y', 'T', 'H', 'O', 'N', ' ', 'P', 'R', 'O', 'G', 'R', 'A', 'M', 'M', 'I', 'N', 'G']\n",
            "\n",
            "Slicing elements in a range 3-8: \n",
            "['H', 'O', 'N', ' ', 'P']\n",
            "\n",
            "Elements sliced from 5th element till the end: \n",
            "['N', ' ', 'P', 'R', 'O', 'G', 'R', 'A', 'M', 'M', 'I', 'N', 'G']\n",
            "\n",
            "Printing all elements using slice operation: \n",
            "['P', 'Y', 'T', 'H', 'O', 'N', ' ', 'P', 'R', 'O', 'G', 'R', 'A', 'M', 'M', 'I', 'N', 'G']\n",
            "\n",
            "Elements sliced till 6th element from last: \n",
            "['P', 'Y', 'T', 'H', 'O', 'N', ' ', 'P', 'R', 'O', 'G', 'R']\n",
            "\n",
            "Elements sliced from index -6 to -1\n",
            "['A', 'M', 'M', 'I', 'N']\n",
            "\n",
            "Printing List in reverse: \n",
            "['G', 'N', 'I', 'M', 'M', 'A', 'R', 'G', 'O', 'R', 'P', ' ', 'N', 'O', 'H', 'T', 'Y', 'P']\n"
          ],
          "name": "stdout"
        }
      ]
    },
    {
      "cell_type": "code",
      "metadata": {
        "id": "dFyyFVUD1Ty0",
        "colab_type": "code",
        "outputId": "4d15f354-1871-4839-8d45-8fa1060712df",
        "colab": {
          "base_uri": "https://localhost:8080/",
          "height": 305
        }
      },
      "source": [
        "# FUNCTIONS\n",
        "\n",
        "# List of Integers \n",
        "numbers = [1, 3, 4, 2] \n",
        "  \n",
        "## SORT\n",
        "\n",
        "# Sorting list of Integers \n",
        "numbers.sort()\n",
        "print(numbers)\n",
        "\n",
        "# Sorting list of Integers \n",
        "numbers.sort(reverse=True)\n",
        "print(numbers)\n",
        "\n",
        "# sorted doesn't change the original list\n",
        "print(sorted(numbers))\n",
        "print(numbers)\n",
        "\n",
        "## LENGTH\n",
        "print(len(numbers))\n",
        "\n",
        "## COUNT\n",
        "print(numbers.count(1))\n",
        "\n",
        "## INDEX\n",
        "print(numbers.index(3))\n",
        "\n",
        "## SUM\n",
        "print(sum(numbers))"
      ],
      "execution_count": 52,
      "outputs": [
        {
          "output_type": "stream",
          "text": [
            "[1, 2, 3, 4]\n",
            "[4, 3, 2, 1]\n",
            "[1, 2, 3, 4]\n",
            "[4, 3, 2, 1]\n",
            "4\n",
            "1\n",
            "1\n"
          ],
          "name": "stdout"
        },
        {
          "output_type": "error",
          "ename": "TypeError",
          "evalue": "ignored",
          "traceback": [
            "\u001b[0;31m---------------------------------------------------------------------------\u001b[0m",
            "\u001b[0;31mTypeError\u001b[0m                                 Traceback (most recent call last)",
            "\u001b[0;32m<ipython-input-52-b8094be08beb>\u001b[0m in \u001b[0;36m<module>\u001b[0;34m()\u001b[0m\n\u001b[1;32m     25\u001b[0m \u001b[0;34m\u001b[0m\u001b[0m\n\u001b[1;32m     26\u001b[0m \u001b[0;31m## SUM\u001b[0m\u001b[0;34m\u001b[0m\u001b[0;34m\u001b[0m\u001b[0;34m\u001b[0m\u001b[0m\n\u001b[0;32m---> 27\u001b[0;31m \u001b[0mprint\u001b[0m\u001b[0;34m(\u001b[0m\u001b[0msum\u001b[0m\u001b[0;34m(\u001b[0m\u001b[0mnumbers\u001b[0m\u001b[0;34m)\u001b[0m\u001b[0;34m)\u001b[0m\u001b[0;34m\u001b[0m\u001b[0;34m\u001b[0m\u001b[0m\n\u001b[0m",
            "\u001b[0;31mTypeError\u001b[0m: 'int' object is not callable"
          ]
        }
      ]
    },
    {
      "cell_type": "code",
      "metadata": {
        "id": "1uau9fuh3GFk",
        "colab_type": "code",
        "outputId": "94dc7eb7-5050-4a59-bc00-2877a3a5bc81",
        "colab": {
          "base_uri": "https://localhost:8080/",
          "height": 115
        }
      },
      "source": [
        "# ENUMERATE\n",
        "\n",
        "# Python program to illustrate enumerate function in loops \n",
        "l1 = [\"eat\",\"sleep\",\"repeat\"] \n",
        "  \n",
        "# printing the tuples in object directly \n",
        "for ele in enumerate(l1): \n",
        "    print (ele) \n",
        "\n",
        "# changing index and printing separately \n",
        "for count,ele in enumerate(l1,100): \n",
        "    print (count,ele)"
      ],
      "execution_count": 53,
      "outputs": [
        {
          "output_type": "stream",
          "text": [
            "(0, 'eat')\n",
            "(1, 'sleep')\n",
            "(2, 'repeat')\n",
            "100 eat\n",
            "101 sleep\n",
            "102 repeat\n"
          ],
          "name": "stdout"
        }
      ]
    },
    {
      "cell_type": "code",
      "metadata": {
        "id": "rO77R7fK3dn0",
        "colab_type": "code",
        "outputId": "c115c51c-1f66-403e-d749-0147460482c6",
        "colab": {
          "base_uri": "https://localhost:8080/",
          "height": 82
        }
      },
      "source": [
        "# FILTER\n",
        "\n",
        "# a list contains both even and odd numbers.  \n",
        "seq = [0, 1, 2, 3, 5, 8, 13] \n",
        "  \n",
        "# result contains odd numbers of the list \n",
        "result = filter(lambda x: x % 2, seq) \n",
        "print(list(result)) \n",
        "  \n",
        "# result contains even numbers of the list \n",
        "result = filter(lambda x: x % 2 == 0, seq) \n",
        "print(list(result)) \n",
        "\n",
        "# result contains odd numbers of the list using a function\n",
        "def odd(x):\n",
        "  if(x%2):\n",
        "    return x\n",
        "\n",
        "result = filter(odd,seq)\n",
        "print(list(result))\n",
        "\n",
        "\n",
        "# MAP\n",
        "\n",
        "# result contains each element of the list multiplied by 2 using a lambda function\n",
        "result = map(lambda x: x*2 , seq)\n",
        "print(list(result))"
      ],
      "execution_count": 54,
      "outputs": [
        {
          "output_type": "stream",
          "text": [
            "[1, 3, 5, 13]\n",
            "[0, 2, 8]\n",
            "[1, 3, 5, 13]\n",
            "[0, 2, 4, 6, 10, 16, 26]\n"
          ],
          "name": "stdout"
        }
      ]
    },
    {
      "cell_type": "code",
      "metadata": {
        "id": "l0PJhS-izCPS",
        "colab_type": "code",
        "outputId": "e614273b-cb5e-4def-b981-d67238ca7fad",
        "colab": {
          "base_uri": "https://localhost:8080/",
          "height": 115
        }
      },
      "source": [
        "# Iterating through the list\n",
        "\n",
        "for i in [1,2,3]:\n",
        "  if i%2==0:\n",
        "    print(f\"{i} is even\\n\")\n",
        "\n",
        "# using range function till length of list\n",
        "for i in range(0,len(numbers)):\n",
        "  print(numbers[i])"
      ],
      "execution_count": 55,
      "outputs": [
        {
          "output_type": "stream",
          "text": [
            "2 is even\n",
            "\n",
            "4\n",
            "3\n",
            "2\n",
            "1\n"
          ],
          "name": "stdout"
        }
      ]
    },
    {
      "cell_type": "code",
      "metadata": {
        "id": "ARkceSCG5t1n",
        "colab_type": "code",
        "outputId": "c6dfc212-fd7d-46cf-f88d-51c8e1fecf4b",
        "colab": {
          "base_uri": "https://localhost:8080/",
          "height": 82
        }
      },
      "source": [
        "# LIST COMPREHENSION: [ expression for item in list if conditional ]\n",
        "\n",
        "new_range  = [i * i for i in range(5) if i % 2 == 0]\n",
        "print(new_range)\n",
        "\n",
        "# This is replacement to :\n",
        "for i in range(5):\n",
        "  if(i%2==0):\n",
        "    print(i*i)"
      ],
      "execution_count": 56,
      "outputs": [
        {
          "output_type": "stream",
          "text": [
            "[0, 4, 16]\n",
            "0\n",
            "4\n",
            "16\n"
          ],
          "name": "stdout"
        }
      ]
    },
    {
      "cell_type": "code",
      "metadata": {
        "id": "NO7PuRRoew3v",
        "colab_type": "code",
        "outputId": "956442c1-f94a-435c-fb46-6ce667a77acc",
        "colab": {
          "base_uri": "https://localhost:8080/",
          "height": 33
        }
      },
      "source": [
        "obj = [\"Even\" if i%2==0 else \"Odd\" for i in range(10)]\n",
        "print(obj)"
      ],
      "execution_count": 57,
      "outputs": [
        {
          "output_type": "stream",
          "text": [
            "['Even', 'Odd', 'Even', 'Odd', 'Even', 'Odd', 'Even', 'Odd', 'Even', 'Odd']\n"
          ],
          "name": "stdout"
        }
      ]
    },
    {
      "cell_type": "code",
      "metadata": {
        "id": "Oib_hvxke5iS",
        "colab_type": "code",
        "outputId": "30568f3c-6979-406b-827c-0b1a615a23cc",
        "colab": {
          "base_uri": "https://localhost:8080/",
          "height": 33
        }
      },
      "source": [
        "new_range  = [i * i if i%2 == 0 else i*i*i for i in range(5) ]\n",
        "print(new_range)"
      ],
      "execution_count": 58,
      "outputs": [
        {
          "output_type": "stream",
          "text": [
            "[0, 1, 4, 27, 16]\n"
          ],
          "name": "stdout"
        }
      ]
    },
    {
      "cell_type": "code",
      "metadata": {
        "id": "RTVK1_llff18",
        "colab_type": "code",
        "outputId": "44618014-b209-474d-d8fc-7e5206bf7711",
        "colab": {
          "base_uri": "https://localhost:8080/",
          "height": 33
        }
      },
      "source": [
        "[x.upper() for x in [\"a\",\"b\",\"c\"]]"
      ],
      "execution_count": 59,
      "outputs": [
        {
          "output_type": "execute_result",
          "data": {
            "text/plain": [
              "['A', 'B', 'C']"
            ]
          },
          "metadata": {
            "tags": []
          },
          "execution_count": 59
        }
      ]
    },
    {
      "cell_type": "code",
      "metadata": {
        "id": "wy1TZ7w8fk05",
        "colab_type": "code",
        "outputId": "4ad0f57e-f99f-4000-8674-5730a7fcc57b",
        "colab": {
          "base_uri": "https://localhost:8080/",
          "height": 33
        }
      },
      "source": [
        "[x+y for x in [10,30,50] for y in [20,40,60]]"
      ],
      "execution_count": 60,
      "outputs": [
        {
          "output_type": "execute_result",
          "data": {
            "text/plain": [
              "[30, 50, 70, 50, 70, 90, 70, 90, 110]"
            ]
          },
          "metadata": {
            "tags": []
          },
          "execution_count": 60
        }
      ]
    },
    {
      "cell_type": "code",
      "metadata": {
        "id": "DUk8PDZffuFc",
        "colab_type": "code",
        "outputId": "262cd928-bdd0-4bf9-c603-6202d67e15ea",
        "colab": {
          "base_uri": "https://localhost:8080/",
          "height": 33
        }
      },
      "source": [
        "quote = \"life, uh, finds a way\"\n",
        "unique_vowels = [i for i in quote if i in 'aeiou']\n",
        "unique_vowels"
      ],
      "execution_count": 61,
      "outputs": [
        {
          "output_type": "execute_result",
          "data": {
            "text/plain": [
              "['i', 'e', 'u', 'i', 'a', 'a']"
            ]
          },
          "metadata": {
            "tags": []
          },
          "execution_count": 61
        }
      ]
    },
    {
      "cell_type": "code",
      "metadata": {
        "id": "T_v7lQ70f5zI",
        "colab_type": "code",
        "outputId": "58c4804d-8d3b-453b-d92e-960c5519ccc0",
        "colab": {
          "base_uri": "https://localhost:8080/",
          "height": 33
        }
      },
      "source": [
        "original_prices = [1.25, -9.45, 10.22, 3.78, -5.92, 1.16]\n",
        "prices = [i if i > 0 else 0 for i in original_prices]\n",
        "prices"
      ],
      "execution_count": 62,
      "outputs": [
        {
          "output_type": "execute_result",
          "data": {
            "text/plain": [
              "[1.25, 0, 10.22, 3.78, 0, 1.16]"
            ]
          },
          "metadata": {
            "tags": []
          },
          "execution_count": 62
        }
      ]
    },
    {
      "cell_type": "code",
      "metadata": {
        "id": "WLQp1gy08K_t",
        "colab_type": "code",
        "colab": {
          "base_uri": "https://localhost:8080/",
          "height": 66
        },
        "outputId": "ca5d4ae0-1dc5-4bfc-935e-5924ee155e76"
      },
      "source": [
        "# Program to iterate through a list using indexing\n",
        "\n",
        "genre = ['pop', 'rock', 'jazz']\n",
        "\n",
        "# iterate over the list using index\n",
        "for i in range(len(genre)):\n",
        "    print(\"I like\", genre[i])"
      ],
      "execution_count": 63,
      "outputs": [
        {
          "output_type": "stream",
          "text": [
            "I like pop\n",
            "I like rock\n",
            "I like jazz\n"
          ],
          "name": "stdout"
        }
      ]
    },
    {
      "cell_type": "markdown",
      "metadata": {
        "id": "ttFkkFPv7SDs",
        "colab_type": "text"
      },
      "source": [
        "#### TUPLES\n",
        "\n",
        "*Tuple is a collection of Python objects much like a list. The sequence of values stored in a tuple can be of any type, and they are indexed by integers. The important difference between a list and a tuple is that tuples are immutable. Also, Tuples are hashable whereas lists are not.*\n",
        "\n",
        "*Values of a tuple are syntactically separated by ‘commas’. Although it is not necessary, it is more common to define a tuple by closing the sequence of values in parentheses. This helps in understanding the Python tuples more easily.*\n",
        "\n",
        "*Tuples are immutable, and usually, they contain a sequence of heterogeneous elements that are accessed via unpacking or indexing (or even by attribute in the case of named tuples). Lists are mutable, and their elements are usually homogeneous and are accessed by iterating over the list.*"
      ]
    },
    {
      "cell_type": "code",
      "metadata": {
        "id": "RUN4vqPU6nD5",
        "colab_type": "code",
        "outputId": "61a32b1c-1818-4c98-dff9-be0a4b66f386",
        "colab": {
          "base_uri": "https://localhost:8080/",
          "height": 456
        }
      },
      "source": [
        "# Python program to demonstrate Addition of elements in a Set \n",
        "  \n",
        "# Creating an empty tuple \n",
        "Tuple1 = () \n",
        "print(\"Initial empty Tuple: \") \n",
        "print (Tuple1) \n",
        "  \n",
        "# Creating a Tuple with the use of Strings \n",
        "Tuple1 = ('Python', 'Programming') \n",
        "print(\"\\nTuple with the use of String: \") \n",
        "print(Tuple1) \n",
        "  \n",
        "# Creating a Tuple with the use of list \n",
        "list1 = [1, 2, 4, 5, 6] \n",
        "print(\"\\nTuple using List: \") \n",
        "print(tuple(list1)) \n",
        "  \n",
        "# Creating a Tuple with the use of loop \n",
        "Tuple1 = ('Python') \n",
        "n = 5\n",
        "print(\"\\nTuple with a loop\") \n",
        "for i in range(int(n)): \n",
        "    Tuple1 = (Tuple1,) \n",
        "    print(Tuple1) \n",
        "  \n",
        "# Creating a Tuple with the use of built-in function \n",
        "Tuple1 = tuple('Piyush') \n",
        "print(\"\\nTuple with the use of function: \") \n",
        "print(Tuple1) \n",
        "  \n",
        "# Creating a Tuple with Mixed Datatypes \n",
        "Tuple1 = (5, 'Welcome', 7, 'Piyush') \n",
        "print(\"\\nTuple with Mixed Datatypes: \") \n",
        "print(Tuple1) \n",
        "  \n",
        "# Creating a Tuple with nested tuples \n",
        "Tuple1 = (0, 1, 2, 3) \n",
        "Tuple2 = ('python', 'programming') \n",
        "Tuple3 = (Tuple1, Tuple2) \n",
        "print(\"\\nTuple with nested tuples: \") \n",
        "print(Tuple3) \n",
        "  \n",
        "# Creating a Tuple with repetition \n",
        "Tuple1 = ('Python',) * 3\n",
        "print(\"\\nTuple with repetition: \") \n",
        "print(Tuple1) "
      ],
      "execution_count": 64,
      "outputs": [
        {
          "output_type": "stream",
          "text": [
            "Initial empty Tuple: \n",
            "()\n",
            "\n",
            "Tuple with the use of String: \n",
            "('Python', 'Programming')\n",
            "\n",
            "Tuple using List: \n",
            "(1, 2, 4, 5, 6)\n",
            "\n",
            "Tuple with a loop\n",
            "('Python',)\n",
            "(('Python',),)\n",
            "((('Python',),),)\n",
            "(((('Python',),),),)\n",
            "((((('Python',),),),),)\n",
            "\n",
            "Tuple with the use of function: \n",
            "('P', 'i', 'y', 'u', 's', 'h')\n",
            "\n",
            "Tuple with Mixed Datatypes: \n",
            "(5, 'Welcome', 7, 'Piyush')\n",
            "\n",
            "Tuple with nested tuples: \n",
            "((0, 1, 2, 3), ('python', 'programming'))\n",
            "\n",
            "Tuple with repetition: \n",
            "('Python', 'Python', 'Python')\n"
          ],
          "name": "stdout"
        }
      ]
    },
    {
      "cell_type": "code",
      "metadata": {
        "id": "4h6JHSkO734P",
        "colab_type": "code",
        "outputId": "ff710118-de73-454b-82c6-6beb11c295da",
        "colab": {
          "base_uri": "https://localhost:8080/",
          "height": 50
        }
      },
      "source": [
        "# TUPLE PACKING\n",
        "# Python tuple without parentheses. This is called tuple packing.\n",
        "\n",
        "b= 1, 2.0, 'three'\n",
        "print(b)\n",
        "\n",
        "# TUPLE UNPACKING\n",
        "# Python tuple unpacking is when you assign values from a tuple to a sequence of variables in python.\n",
        "\n",
        "percentages=(99,95,90,89,93,96)\n",
        "a,b,c,d,e,f=percentages\n",
        "print(c)\n",
        "\n",
        "#This is because only immutable values can be hashed. Hence, we can only set immutable values like tuples as keys."
      ],
      "execution_count": 65,
      "outputs": [
        {
          "output_type": "stream",
          "text": [
            "(1, 2.0, 'three')\n",
            "90\n"
          ],
          "name": "stdout"
        }
      ]
    },
    {
      "cell_type": "markdown",
      "metadata": {
        "id": "S9v9Hdlshxi2",
        "colab_type": "text"
      },
      "source": [
        "#### SETS\n",
        "\n",
        "*Set is an unordered collection of data type that is iterable, mutable and has no duplicate elements. The order of elements in a set is undefined though it may consist of various elements.*\n",
        "\n",
        "*The major advantage of using a set, as opposed to a list, is that it has a highly optimized method for checking whether a specific element is contained in the set.*"
      ]
    },
    {
      "cell_type": "code",
      "metadata": {
        "id": "hsrRMhba8mGX",
        "colab_type": "code",
        "outputId": "824a454b-ef28-479a-8c1a-807150cc3c36",
        "colab": {
          "base_uri": "https://localhost:8080/",
          "height": 196
        }
      },
      "source": [
        "# Python program to demonstrate Creation of Set in Python \n",
        "  \n",
        "# Creating a Set \n",
        "set1 = set() \n",
        "print(\"Intial blank Set: \") \n",
        "print(set1) \n",
        "  \n",
        "# Creating a Set with  \n",
        "# the use of a String \n",
        "set1 = set(\"Python Programming\") \n",
        "print(\"\\nSet with the use of String: \") \n",
        "print(set1) \n",
        "  \n",
        "# Creating a Set with \n",
        "# the use of Constructor \n",
        "# (Using object to Store String) \n",
        "String = 'Python Programming'\n",
        "set1 = set(String) \n",
        "print(\"\\nSet with the use of an Object: \" ) \n",
        "print(set1) \n",
        "  \n",
        "# Creating a Set with \n",
        "# the use of a List \n",
        "set1 = set([\"Python\", \"Programming\"]) \n",
        "print(\"\\nSet with the use of List: \") \n",
        "print(set1) "
      ],
      "execution_count": 66,
      "outputs": [
        {
          "output_type": "stream",
          "text": [
            "Intial blank Set: \n",
            "set()\n",
            "\n",
            "Set with the use of String: \n",
            "{'h', ' ', 'a', 'g', 'o', 'n', 'i', 'r', 'm', 'P', 'y', 't'}\n",
            "\n",
            "Set with the use of an Object: \n",
            "{'h', ' ', 'a', 'g', 'o', 'n', 'i', 'r', 'm', 'P', 'y', 't'}\n",
            "\n",
            "Set with the use of List: \n",
            "{'Programming', 'Python'}\n"
          ],
          "name": "stdout"
        }
      ]
    },
    {
      "cell_type": "code",
      "metadata": {
        "id": "_BQ4sHSRiIJy",
        "colab_type": "code",
        "outputId": "f35a11d3-de38-460c-82ff-5f7cdaf963f0",
        "colab": {
          "base_uri": "https://localhost:8080/",
          "height": 115
        }
      },
      "source": [
        "# Adding element and tuple to the Set \n",
        "set1.add(8) \n",
        "set1.add(9) \n",
        "set1.add((6,7)) \n",
        "print(\"\\nSet after Addition of Three elements: \") \n",
        "print(set1) \n",
        "  \n",
        "# Adding elements to the Set \n",
        "# using Iterator \n",
        "for i in range(1, 10): \n",
        "    set1.add(i) \n",
        "print(\"\\nSet after Addition of elements from 1-5: \") \n",
        "print(set1) "
      ],
      "execution_count": 67,
      "outputs": [
        {
          "output_type": "stream",
          "text": [
            "\n",
            "Set after Addition of Three elements: \n",
            "{'Programming', (6, 7), 8, 9, 'Python'}\n",
            "\n",
            "Set after Addition of elements from 1-5: \n",
            "{1, 'Programming', 2, (6, 7), 3, 4, 5, 8, 9, 6, 7, 'Python'}\n"
          ],
          "name": "stdout"
        }
      ]
    },
    {
      "cell_type": "code",
      "metadata": {
        "id": "zlHET9Yzibeh",
        "colab_type": "code",
        "outputId": "02b550c7-a42f-447a-c88b-2ca22f0f3605",
        "colab": {
          "base_uri": "https://localhost:8080/",
          "height": 147
        }
      },
      "source": [
        "# Accessing element using for loop \n",
        "\n",
        "# Set items cannot be accessed by referring to an index, since sets are unordered the items has no index. \n",
        "# But you can loop through the set items using a for loop, or ask if a specified value is present in a set, by using the in keyword.\n",
        "\n",
        "print(\"\\nElements of set: \") \n",
        "for i in set1: \n",
        "    print(i, end=\" \") \n",
        "\n",
        "# Removing elements from Set using Remove() method \n",
        "set1.remove(5) \n",
        "set1.remove(6) \n",
        "print(\"\\nSet after Removal of two elements: \") \n",
        "print(set1) \n",
        "  \n",
        "# Removing elements from Set using Discard() method \n",
        "set1.discard(8) \n",
        "set1.discard(9) \n",
        "print(\"\\nSet after Discarding two elements: \") \n",
        "print(set1) "
      ],
      "execution_count": 68,
      "outputs": [
        {
          "output_type": "stream",
          "text": [
            "\n",
            "Elements of set: \n",
            "1 Programming 2 (6, 7) 3 4 5 8 9 6 7 Python \n",
            "Set after Removal of two elements: \n",
            "{1, 'Programming', 2, (6, 7), 3, 4, 8, 9, 7, 'Python'}\n",
            "\n",
            "Set after Discarding two elements: \n",
            "{1, 'Programming', 2, (6, 7), 3, 4, 7, 'Python'}\n"
          ],
          "name": "stdout"
        }
      ]
    },
    {
      "cell_type": "markdown",
      "metadata": {
        "id": "aWCPllvxjjDx",
        "colab_type": "text"
      },
      "source": [
        "#### DICTIONARY\n",
        "\n",
        "*Dictionary in Python is an unordered collection of data values, used to store data values like a map, which unlike other Data Types that hold only single value as an element, Dictionary holds **key:value** pair.*\n",
        "\n",
        "*Key value is provided in the dictionary to make it more optimized. Each key-value pair in a Dictionary is separated by a colon :, whereas each key is separated by a ‘comma’.*"
      ]
    },
    {
      "cell_type": "code",
      "metadata": {
        "id": "ZHFlS6I7i0-6",
        "colab_type": "code",
        "outputId": "6cfa9301-682a-4af1-c71b-25993b9b1e88",
        "colab": {
          "base_uri": "https://localhost:8080/",
          "height": 245
        }
      },
      "source": [
        "# Creating an empty Dictionary \n",
        "Dict = {} \n",
        "print(\"Empty Dictionary: \") \n",
        "print(Dict) \n",
        "  \n",
        "# Creating a Dictionary  \n",
        "# with Integer Keys \n",
        "Dict = {1: 'Piyush', 2: 'Singla'}\n",
        "print(\"\\nDictionary with the use of Integer Keys: \") \n",
        "print(Dict) \n",
        "  \n",
        "# Creating a Dictionary  \n",
        "# with Mixed keys \n",
        "Dict = {'Name': 'Piyush', 1: [1, 2, 3, 4]} \n",
        "print(\"\\nDictionary with the use of Mixed Keys: \") \n",
        "print(Dict) \n",
        "  \n",
        "# Creating a Dictionary \n",
        "# with dict() method \n",
        "Dict = dict({1: 'Python', 2: 'Programming'})\n",
        "print(\"\\nDictionary with the use of dict(): \") \n",
        "print(Dict) \n",
        "  \n",
        "# Creating a Dictionary \n",
        "# with each item as a Pair \n",
        "Dict = dict([(1, 'Piyush'), (2, 'Singla')]) \n",
        "print(\"\\nDictionary with each item as a pair: \") \n",
        "print(Dict) "
      ],
      "execution_count": 69,
      "outputs": [
        {
          "output_type": "stream",
          "text": [
            "Empty Dictionary: \n",
            "{}\n",
            "\n",
            "Dictionary with the use of Integer Keys: \n",
            "{1: 'Piyush', 2: 'Singla'}\n",
            "\n",
            "Dictionary with the use of Mixed Keys: \n",
            "{'Name': 'Piyush', 1: [1, 2, 3, 4]}\n",
            "\n",
            "Dictionary with the use of dict(): \n",
            "{1: 'Python', 2: 'Programming'}\n",
            "\n",
            "Dictionary with each item as a pair: \n",
            "{1: 'Piyush', 2: 'Singla'}\n"
          ],
          "name": "stdout"
        }
      ]
    },
    {
      "cell_type": "code",
      "metadata": {
        "id": "NvFGP2AKkIMh",
        "colab_type": "code",
        "outputId": "23b62478-cae8-44b1-cf92-a0dfc18211e3",
        "colab": {
          "base_uri": "https://localhost:8080/",
          "height": 245
        }
      },
      "source": [
        "# Creating an empty Dictionary \n",
        "Dict = {} \n",
        "print(\"Empty Dictionary: \") \n",
        "print(Dict) \n",
        "  \n",
        "# Adding elements one at a time \n",
        "Dict[0] = 'P'\n",
        "Dict[2] = 'S'\n",
        "Dict[3] = 1\n",
        "print(\"\\nDictionary after adding 3 elements: \") \n",
        "print(Dict) \n",
        "  \n",
        "# Adding set of values  \n",
        "# to a single Key \n",
        "Dict['Value_set'] = 2, 3, 4\n",
        "print(\"\\nDictionary after adding 3 elements: \") \n",
        "print(Dict) \n",
        "  \n",
        "# Updating existing Key's Value \n",
        "Dict[2] = 'Welcome'\n",
        "print(\"\\nUpdated key value: \") \n",
        "print(Dict) \n",
        "  \n",
        "# Adding Nested Key value to Dictionary \n",
        "Dict[5] = {'Nested' :{'1' : 'Life', '2' : 'Python'}} \n",
        "print(\"\\nAdding a Nested Key: \") \n",
        "print(Dict) "
      ],
      "execution_count": 70,
      "outputs": [
        {
          "output_type": "stream",
          "text": [
            "Empty Dictionary: \n",
            "{}\n",
            "\n",
            "Dictionary after adding 3 elements: \n",
            "{0: 'P', 2: 'S', 3: 1}\n",
            "\n",
            "Dictionary after adding 3 elements: \n",
            "{0: 'P', 2: 'S', 3: 1, 'Value_set': (2, 3, 4)}\n",
            "\n",
            "Updated key value: \n",
            "{0: 'P', 2: 'Welcome', 3: 1, 'Value_set': (2, 3, 4)}\n",
            "\n",
            "Adding a Nested Key: \n",
            "{0: 'P', 2: 'Welcome', 3: 1, 'Value_set': (2, 3, 4), 5: {'Nested': {'1': 'Life', '2': 'Python'}}}\n"
          ],
          "name": "stdout"
        }
      ]
    },
    {
      "cell_type": "code",
      "metadata": {
        "id": "3lgbsa0vkbQB",
        "colab_type": "code",
        "outputId": "147ec9dd-84fe-4d4e-b7d7-aad957ba04a2",
        "colab": {
          "base_uri": "https://localhost:8080/",
          "height": 115
        }
      },
      "source": [
        "# Accessing Elements\n",
        "\n",
        "# Accessing a element using key \n",
        "print(\"Acessing a element using key:\") \n",
        "print(Dict['Value_set']) \n",
        "  \n",
        "# accessing a element using key \n",
        "print(\"Acessing a element using key:\") \n",
        "print(Dict[2]) \n",
        "  \n",
        "# accessing a element using get() \n",
        "# method \n",
        "print(\"Acessing a element using get:\") \n",
        "print(Dict.get(3))"
      ],
      "execution_count": 71,
      "outputs": [
        {
          "output_type": "stream",
          "text": [
            "Acessing a element using key:\n",
            "(2, 3, 4)\n",
            "Acessing a element using key:\n",
            "Welcome\n",
            "Acessing a element using get:\n",
            "1\n"
          ],
          "name": "stdout"
        }
      ]
    },
    {
      "cell_type": "code",
      "metadata": {
        "id": "M9UwiQQLkkkN",
        "colab_type": "code",
        "outputId": "d60e784c-2ed1-4c4e-db8a-d1bd3bc26e1b",
        "colab": {
          "base_uri": "https://localhost:8080/",
          "height": 293
        }
      },
      "source": [
        "# DELETING FROM DICTINARY\n",
        "\n",
        "# Initial Dictionary \n",
        "Dict = { 5 : 'Welcome', 6 : 'To', 7 : 'Python', \n",
        "        'A' : {1 : 'Programming', 2 : 'For', 3 : 'ML'}, \n",
        "        'B' : {1 : 'and', 2 : 'AI'}} \n",
        "print(\"Initial Dictionary: \") \n",
        "print(Dict) \n",
        "  \n",
        "# Deleting a Key value \n",
        "del Dict[6] \n",
        "print(\"\\nDeleting a specific key: \") \n",
        "print(Dict) \n",
        "  \n",
        "# Deleting a Key from \n",
        "# Nested Dictionary \n",
        "del Dict['A'][2] \n",
        "print(\"\\nDeleting a key from Nested Dictionary: \") \n",
        "print(Dict) \n",
        "  \n",
        "# Deleting a Key  \n",
        "# using pop() \n",
        "Dict.pop(5) \n",
        "print(\"\\nPopping specific element: \") \n",
        "print(Dict) \n",
        "  \n",
        "# Deleting an arbitrary Key-value pair \n",
        "# using popitem() \n",
        "Dict.popitem() \n",
        "print(\"\\nPops an arbitrary key-value pair: \") \n",
        "print(Dict) \n",
        "  \n",
        "# Deleting entire Dictionary \n",
        "Dict.clear() \n",
        "print(\"\\nDeleting Entire Dictionary: \") \n",
        "print(Dict) "
      ],
      "execution_count": 72,
      "outputs": [
        {
          "output_type": "stream",
          "text": [
            "Initial Dictionary: \n",
            "{5: 'Welcome', 6: 'To', 7: 'Python', 'A': {1: 'Programming', 2: 'For', 3: 'ML'}, 'B': {1: 'and', 2: 'AI'}}\n",
            "\n",
            "Deleting a specific key: \n",
            "{5: 'Welcome', 7: 'Python', 'A': {1: 'Programming', 2: 'For', 3: 'ML'}, 'B': {1: 'and', 2: 'AI'}}\n",
            "\n",
            "Deleting a key from Nested Dictionary: \n",
            "{5: 'Welcome', 7: 'Python', 'A': {1: 'Programming', 3: 'ML'}, 'B': {1: 'and', 2: 'AI'}}\n",
            "\n",
            "Popping specific element: \n",
            "{7: 'Python', 'A': {1: 'Programming', 3: 'ML'}, 'B': {1: 'and', 2: 'AI'}}\n",
            "\n",
            "Pops an arbitrary key-value pair: \n",
            "{7: 'Python', 'A': {1: 'Programming', 3: 'ML'}}\n",
            "\n",
            "Deleting Entire Dictionary: \n",
            "{}\n"
          ],
          "name": "stdout"
        }
      ]
    },
    {
      "cell_type": "code",
      "metadata": {
        "id": "1KMh2EPfk-CC",
        "colab_type": "code",
        "colab": {}
      },
      "source": [
        "# FUNCTIONS\n",
        "\n",
        "# stores name and corresponding salaries \n",
        "salary = {\"Piyush\" : 50000, \"Sneha\" : 60000, \"Ruchika\" : 5000}  \n",
        "  \n",
        "# stores the salaries only \n",
        "list1 = salary.values()  \n",
        "print(sum(list1))  # prints the sum of all salaries \n",
        "\n",
        "print(salary.items())"
      ],
      "execution_count": 0,
      "outputs": []
    },
    {
      "cell_type": "markdown",
      "metadata": {
        "id": "-s7EIOJ8lsti",
        "colab_type": "text"
      },
      "source": [
        "### OPERATORS"
      ]
    },
    {
      "cell_type": "markdown",
      "metadata": {
        "id": "P34vleY6l09n",
        "colab_type": "text"
      },
      "source": [
        "#### ARITHMETIC OPERATORS"
      ]
    },
    {
      "cell_type": "code",
      "metadata": {
        "id": "vXZRrvpclUNn",
        "colab_type": "code",
        "outputId": "31a7d872-521c-4c1f-8fb8-ac28f62534a2",
        "colab": {
          "base_uri": "https://localhost:8080/",
          "height": 115
        }
      },
      "source": [
        "# Examples of Arithmetic Operator \n",
        "a = 9\n",
        "b = 4\n",
        "  \n",
        "# Addition of numbers \n",
        "add = a + b \n",
        "# Subtraction of numbers  \n",
        "sub = a - b \n",
        "# Multiplication of number  \n",
        "mul = a * b \n",
        "# Division(float) of number  \n",
        "div1 = a / b \n",
        "# Division(floor) of number  \n",
        "div2 = a // b \n",
        "# Modulo of both number \n",
        "mod = a % b \n",
        "  \n",
        "# print results \n",
        "print(add) \n",
        "print(sub) \n",
        "print(mul) \n",
        "print(div1) \n",
        "print(div2) \n",
        "print(mod) "
      ],
      "execution_count": 74,
      "outputs": [
        {
          "output_type": "stream",
          "text": [
            "13\n",
            "5\n",
            "36\n",
            "2.25\n",
            "2\n",
            "1\n"
          ],
          "name": "stdout"
        }
      ]
    },
    {
      "cell_type": "markdown",
      "metadata": {
        "id": "6VvMFiksl5e3",
        "colab_type": "text"
      },
      "source": [
        "#### RELATIONAL OPERATORS"
      ]
    },
    {
      "cell_type": "code",
      "metadata": {
        "id": "KnEMfp37l4ZY",
        "colab_type": "code",
        "outputId": "d8f0c23f-7795-462b-fa71-e061c8cebdac",
        "colab": {
          "base_uri": "https://localhost:8080/",
          "height": 115
        }
      },
      "source": [
        "# Examples of Relational Operators \n",
        "a = 13\n",
        "b = 33\n",
        "  \n",
        "# a > b is False \n",
        "print(a > b) \n",
        "  \n",
        "# a < b is True \n",
        "print(a < b) \n",
        "  \n",
        "# a == b is False \n",
        "print(a == b) \n",
        "  \n",
        "# a != b is True \n",
        "print(a != b) \n",
        "  \n",
        "# a >= b is False \n",
        "print(a >= b) \n",
        "  \n",
        "# a <= b is True \n",
        "print(a <= b) "
      ],
      "execution_count": 75,
      "outputs": [
        {
          "output_type": "stream",
          "text": [
            "False\n",
            "True\n",
            "False\n",
            "True\n",
            "False\n",
            "True\n"
          ],
          "name": "stdout"
        }
      ]
    },
    {
      "cell_type": "markdown",
      "metadata": {
        "id": "JmRPyBCumBMk",
        "colab_type": "text"
      },
      "source": [
        "#### LOGICAL OPERATORS"
      ]
    },
    {
      "cell_type": "code",
      "metadata": {
        "id": "Ly8K89vpl9RW",
        "colab_type": "code",
        "outputId": "43fe40ae-3ed3-4d97-dd04-e6f47df1795c",
        "colab": {
          "base_uri": "https://localhost:8080/",
          "height": 66
        }
      },
      "source": [
        "# Examples of Logical Operator \n",
        "a = True\n",
        "b = False\n",
        "  \n",
        "# Print a and b is False \n",
        "print(a and b) \n",
        "  \n",
        "# Print a or b is True \n",
        "print(a or b) \n",
        "  \n",
        "# Print not a is False \n",
        "print(not a) "
      ],
      "execution_count": 76,
      "outputs": [
        {
          "output_type": "stream",
          "text": [
            "False\n",
            "True\n",
            "False\n"
          ],
          "name": "stdout"
        }
      ]
    },
    {
      "cell_type": "markdown",
      "metadata": {
        "id": "W6cutG-FmJ78",
        "colab_type": "text"
      },
      "source": [
        "#### IDENTITY OPERATORS"
      ]
    },
    {
      "cell_type": "code",
      "metadata": {
        "id": "yRaK1dqimEGN",
        "colab_type": "code",
        "outputId": "7c8726c6-3c42-4870-99a8-8ca702504c08",
        "colab": {
          "base_uri": "https://localhost:8080/",
          "height": 66
        }
      },
      "source": [
        "# Examples of Identity operators \n",
        "a1 = 3\n",
        "b1 = 3\n",
        "a2 = 'Python'\n",
        "b2 = 'Python'\n",
        "a3 = [1,2,3] \n",
        "b3 = [1,2,3] \n",
        "  \n",
        "  \n",
        "print(a1 is not b1) \n",
        "  \n",
        "  \n",
        "print(a2 is b2) \n",
        "  \n",
        "# Output is False, since lists are mutable. \n",
        "print(a3 is b3) "
      ],
      "execution_count": 77,
      "outputs": [
        {
          "output_type": "stream",
          "text": [
            "False\n",
            "True\n",
            "False\n"
          ],
          "name": "stdout"
        }
      ]
    },
    {
      "cell_type": "markdown",
      "metadata": {
        "id": "4LCtJmhtmTPv",
        "colab_type": "text"
      },
      "source": [
        "#### MEMBERSHIP OPERATORS"
      ]
    },
    {
      "cell_type": "code",
      "metadata": {
        "id": "-hc7KGaZmOad",
        "colab_type": "code",
        "outputId": "bd9d559c-f5a8-430d-dc02-208c5f2e63de",
        "colab": {
          "base_uri": "https://localhost:8080/",
          "height": 98
        }
      },
      "source": [
        "# Examples of Membership operator \n",
        "x = 'Python Programming'\n",
        "y = {3:'a',4:'b'} \n",
        "  \n",
        "  \n",
        "print('P' in x) \n",
        "  \n",
        "print('python' not in x) \n",
        "  \n",
        "print('Python' not in x) \n",
        "  \n",
        "print(3 in y) \n",
        "  \n",
        "print('b' in y) "
      ],
      "execution_count": 78,
      "outputs": [
        {
          "output_type": "stream",
          "text": [
            "True\n",
            "True\n",
            "False\n",
            "True\n",
            "False\n"
          ],
          "name": "stdout"
        }
      ]
    },
    {
      "cell_type": "markdown",
      "metadata": {
        "id": "P7IR5ljBxonM",
        "colab_type": "text"
      },
      "source": [
        "### DECISION MAKING"
      ]
    },
    {
      "cell_type": "markdown",
      "metadata": {
        "id": "C4mQ7TQEx84O",
        "colab_type": "text"
      },
      "source": [
        "#### IF"
      ]
    },
    {
      "cell_type": "code",
      "metadata": {
        "id": "x2mJ-7tuxtvV",
        "colab_type": "code",
        "outputId": "1da96188-a4b1-4f66-b523-6fcb84d5c86c",
        "colab": {
          "base_uri": "https://localhost:8080/",
          "height": 33
        }
      },
      "source": [
        "i = 10\n",
        "if (i > 15): \n",
        "   print (\"10 is less than 15\") \n",
        "print (\"I am Not in if\") "
      ],
      "execution_count": 79,
      "outputs": [
        {
          "output_type": "stream",
          "text": [
            "I am Not in if\n"
          ],
          "name": "stdout"
        }
      ]
    },
    {
      "cell_type": "markdown",
      "metadata": {
        "id": "32E29mnux-zn",
        "colab_type": "text"
      },
      "source": [
        "#### IF-ELSE"
      ]
    },
    {
      "cell_type": "code",
      "metadata": {
        "id": "IaOGIiAaxxuz",
        "colab_type": "code",
        "outputId": "18d83d0e-379e-4217-9ab6-9f2712052ce7",
        "colab": {
          "base_uri": "https://localhost:8080/",
          "height": 66
        }
      },
      "source": [
        "i = 20; \n",
        "if (i < 15): \n",
        "    print (\"i is smaller than 15\") \n",
        "    print (\"i'm in if Block\") \n",
        "else: \n",
        "    print (\"i is greater than 15\") \n",
        "    print (\"i'm in else Block\") \n",
        "print (\"i'm not in if and not in else Block\")"
      ],
      "execution_count": 80,
      "outputs": [
        {
          "output_type": "stream",
          "text": [
            "i is greater than 15\n",
            "i'm in else Block\n",
            "i'm not in if and not in else Block\n"
          ],
          "name": "stdout"
        }
      ]
    },
    {
      "cell_type": "markdown",
      "metadata": {
        "id": "GeBkPBrzyBOa",
        "colab_type": "text"
      },
      "source": [
        "#### NESTED IF-ELSE"
      ]
    },
    {
      "cell_type": "code",
      "metadata": {
        "id": "ZxnCkoQwx0mD",
        "colab_type": "code",
        "outputId": "31d2a78b-bad0-4e67-83f1-bd1c638f23cb",
        "colab": {
          "base_uri": "https://localhost:8080/",
          "height": 50
        }
      },
      "source": [
        "i = 10\n",
        "if (i == 10): \n",
        "    #  First if statement \n",
        "    if (i < 15): \n",
        "        print (\"i is smaller than 15\") \n",
        "    # Nested - if statement \n",
        "    # Will only be executed if statement above \n",
        "    # it is true \n",
        "    if (i < 12): \n",
        "        print (\"i is smaller than 12 too\") \n",
        "    else: \n",
        "        print (\"i is greater than 15\") "
      ],
      "execution_count": 81,
      "outputs": [
        {
          "output_type": "stream",
          "text": [
            "i is smaller than 15\n",
            "i is smaller than 12 too\n"
          ],
          "name": "stdout"
        }
      ]
    },
    {
      "cell_type": "markdown",
      "metadata": {
        "id": "d1-vEJwayHDl",
        "colab_type": "text"
      },
      "source": [
        "#### IF-ELIF"
      ]
    },
    {
      "cell_type": "code",
      "metadata": {
        "id": "VwtmW34fx4WR",
        "colab_type": "code",
        "outputId": "563fe5f8-b309-4d0a-8776-90f2d76dfa9c",
        "colab": {
          "base_uri": "https://localhost:8080/",
          "height": 33
        }
      },
      "source": [
        "i = 20\n",
        "if (i == 10): \n",
        "    print (\"i is 10\") \n",
        "elif (i == 15): \n",
        "    print (\"i is 15\") \n",
        "elif (i == 20): \n",
        "    print (\"i is 20\") \n",
        "else: \n",
        "    print (\"i is not present\") "
      ],
      "execution_count": 82,
      "outputs": [
        {
          "output_type": "stream",
          "text": [
            "i is 20\n"
          ],
          "name": "stdout"
        }
      ]
    },
    {
      "cell_type": "markdown",
      "metadata": {
        "id": "LfvjjWQ3q6qQ",
        "colab_type": "text"
      },
      "source": [
        "### LOOPS"
      ]
    },
    {
      "cell_type": "markdown",
      "metadata": {
        "id": "9Nmn51kXtlV0",
        "colab_type": "text"
      },
      "source": [
        "#### WHILE LOOP"
      ]
    },
    {
      "cell_type": "code",
      "metadata": {
        "id": "ESXzEJpGmctx",
        "colab_type": "code",
        "outputId": "19b5e6ca-0936-48da-a33c-9e5cfc20d00b",
        "colab": {
          "base_uri": "https://localhost:8080/",
          "height": 66
        }
      },
      "source": [
        "# Python program to illustrate while loop \n",
        "count = 0\n",
        "while (count < 3):     \n",
        "    count = count + 1\n",
        "    print(\"Hello Python\") "
      ],
      "execution_count": 83,
      "outputs": [
        {
          "output_type": "stream",
          "text": [
            "Hello Python\n",
            "Hello Python\n",
            "Hello Python\n"
          ],
          "name": "stdout"
        }
      ]
    },
    {
      "cell_type": "markdown",
      "metadata": {
        "id": "_roSyHTAufL3",
        "colab_type": "text"
      },
      "source": [
        "#### FOR LOOP"
      ]
    },
    {
      "cell_type": "code",
      "metadata": {
        "id": "MbZogFVvuAt0",
        "colab_type": "code",
        "outputId": "be6a5739-8fd1-42f1-80c5-4fbebb0ecedb",
        "colab": {
          "base_uri": "https://localhost:8080/",
          "height": 147
        }
      },
      "source": [
        "# Iterating over a String \n",
        "print(\"\\nString Iteration\")     \n",
        "s = \"Python\"\n",
        "for i in s : \n",
        "    print(i)"
      ],
      "execution_count": 84,
      "outputs": [
        {
          "output_type": "stream",
          "text": [
            "\n",
            "String Iteration\n",
            "P\n",
            "y\n",
            "t\n",
            "h\n",
            "o\n",
            "n\n"
          ],
          "name": "stdout"
        }
      ]
    },
    {
      "cell_type": "markdown",
      "metadata": {
        "id": "LduzNsWfuysP",
        "colab_type": "text"
      },
      "source": [
        "#### CONTROL STATEMENTS"
      ]
    },
    {
      "cell_type": "code",
      "metadata": {
        "id": "d1cJmB7SuohY",
        "colab_type": "code",
        "outputId": "871bada2-d31b-477f-e61c-8f65a242d623",
        "colab": {
          "base_uri": "https://localhost:8080/",
          "height": 228
        }
      },
      "source": [
        "# Continue Statement: It returns the control to the beginning of the loop.\n",
        "\n",
        "# Prints all letters except 'e' and 's' \n",
        "for letter in 'PythonProgramming':  \n",
        "    if letter == 'g' or letter == 'P': \n",
        "         continue\n",
        "    print ('Current Letter :', letter)\n",
        "    var = 10"
      ],
      "execution_count": 85,
      "outputs": [
        {
          "output_type": "stream",
          "text": [
            "Current Letter : y\n",
            "Current Letter : t\n",
            "Current Letter : h\n",
            "Current Letter : o\n",
            "Current Letter : n\n",
            "Current Letter : r\n",
            "Current Letter : o\n",
            "Current Letter : r\n",
            "Current Letter : a\n",
            "Current Letter : m\n",
            "Current Letter : m\n",
            "Current Letter : i\n",
            "Current Letter : n\n"
          ],
          "name": "stdout"
        }
      ]
    },
    {
      "cell_type": "code",
      "metadata": {
        "id": "AQyKbK0gvFwU",
        "colab_type": "code",
        "outputId": "33028799-7295-447e-d32a-f43bcf7c7b84",
        "colab": {
          "base_uri": "https://localhost:8080/",
          "height": 33
        }
      },
      "source": [
        "# Break Statement: It brings control out of the loop\n",
        "for letter in 'PythonProgramming':  \n",
        "    if letter == 'g' or letter == 'o': \n",
        "         break\n",
        "  \n",
        "print ('Current Letter :', letter)"
      ],
      "execution_count": 86,
      "outputs": [
        {
          "output_type": "stream",
          "text": [
            "Current Letter : o\n"
          ],
          "name": "stdout"
        }
      ]
    },
    {
      "cell_type": "code",
      "metadata": {
        "id": "fpc7ozFovQNe",
        "colab_type": "code",
        "outputId": "74e27f4a-7398-4c8e-ed56-7945fd94e3b2",
        "colab": {
          "base_uri": "https://localhost:8080/",
          "height": 33
        }
      },
      "source": [
        "# An empty loop \n",
        "for letter in 'PythonProgramming': \n",
        "    pass\n",
        "print ('Last Letter :', letter)"
      ],
      "execution_count": 87,
      "outputs": [
        {
          "output_type": "stream",
          "text": [
            "Last Letter : g\n"
          ],
          "name": "stdout"
        }
      ]
    },
    {
      "cell_type": "markdown",
      "metadata": {
        "id": "WUPhQLVjwcEq",
        "colab_type": "text"
      },
      "source": [
        "### FUNCTION DECLARATION"
      ]
    },
    {
      "cell_type": "code",
      "metadata": {
        "id": "q-b1NK6mvhki",
        "colab_type": "code",
        "colab": {}
      },
      "source": [
        "# A simple Python function to check whether x is even or odd \n",
        "\n",
        "def evenOdd( x ): \n",
        "    if (x % 2 == 0): \n",
        "        print (\"even\")\n",
        "    else: \n",
        "        print (\"odd\")"
      ],
      "execution_count": 0,
      "outputs": []
    },
    {
      "cell_type": "code",
      "metadata": {
        "id": "rntu-p-3yaSJ",
        "colab_type": "code",
        "outputId": "30c8a461-364f-4ba4-a8f3-18c2b77f95ae",
        "colab": {
          "base_uri": "https://localhost:8080/",
          "height": 0
        }
      },
      "source": [
        "# This function returns mulitple objects \n",
        "def fun(): \n",
        "    str = \"Python Programming\"\n",
        "    x   = 20\n",
        "    return str, x;  # Return tuple, we could also \n",
        "                    # write (str, x) \n",
        "  \n",
        "# Driver code to test above method \n",
        "str, x = fun() # Assign returned tuple \n",
        "print(str) \n",
        "print(x) "
      ],
      "execution_count": 89,
      "outputs": [
        {
          "output_type": "stream",
          "text": [
            "Python Programming\n",
            "20\n"
          ],
          "name": "stdout"
        }
      ]
    },
    {
      "cell_type": "code",
      "metadata": {
        "id": "oCjfrKPb8TwZ",
        "colab_type": "code",
        "colab": {
          "base_uri": "https://localhost:8080/",
          "height": 0
        },
        "outputId": "1e4b417f-603a-4d55-a9f5-92b2f045b451"
      },
      "source": [
        "# An example of a recursive function to\n",
        "# find the factorial of a number\n",
        "\n",
        "def calc_factorial(x):\n",
        "    \"\"\"This is a recursive function\n",
        "    to find the factorial of an integer\"\"\"\n",
        "\n",
        "    if x == 1:\n",
        "        return 1\n",
        "    else:\n",
        "        return (x * calc_factorial(x-1))\n",
        "\n",
        "num = 4\n",
        "print(\"The factorial of\", num, \"is\", calc_factorial(num))"
      ],
      "execution_count": 90,
      "outputs": [
        {
          "output_type": "stream",
          "text": [
            "The factorial of 4 is 24\n"
          ],
          "name": "stdout"
        }
      ]
    },
    {
      "cell_type": "code",
      "metadata": {
        "id": "G-x78jzp8ujU",
        "colab_type": "code",
        "colab": {
          "base_uri": "https://localhost:8080/",
          "height": 0
        },
        "outputId": "41311f44-79bb-4941-c5c6-12e866bdd1a4"
      },
      "source": [
        "# zip() Function \n",
        "\n",
        "# Python code to demonstrate the working of  \n",
        "# zip() \n",
        "  \n",
        "# initializing lists \n",
        "name = [ \"Piyush\", \"Abhishek\", \"Shivi\", \"Raj\" ] \n",
        "roll_no = [ 4, 1, 3, 2 ] \n",
        "marks = [ 40, 50, 60, 70 ] \n",
        "  \n",
        "# using zip() to map values \n",
        "mapped = zip(name, roll_no, marks) \n",
        "  \n",
        "# converting values to print as set \n",
        "mapped = set(mapped) \n",
        "  \n",
        "# printing resultant values  \n",
        "print (\"The zipped result is : \",end=\"\") \n",
        "print (mapped)"
      ],
      "execution_count": 91,
      "outputs": [
        {
          "output_type": "stream",
          "text": [
            "The zipped result is : {('Shivi', 3, 60), ('Piyush', 4, 40), ('Raj', 2, 70), ('Abhishek', 1, 50)}\n"
          ],
          "name": "stdout"
        }
      ]
    },
    {
      "cell_type": "markdown",
      "metadata": {
        "id": "WH-J-KMb8yPQ",
        "colab_type": "text"
      },
      "source": [
        "##### FUNCTIONS EXAMPLES"
      ]
    },
    {
      "cell_type": "code",
      "metadata": {
        "id": "lkSyujHL82X5",
        "colab_type": "code",
        "colab": {
          "base_uri": "https://localhost:8080/",
          "height": 0
        },
        "outputId": "2e3ff284-3d76-4cd3-fe1a-b792017bb1ea"
      },
      "source": [
        "# Program to count Vowels in string\n",
        "\n",
        "# Program to count the number of each vowel in a string\n",
        "\n",
        "# string of vowels\n",
        "vowels = 'aeiou'\n",
        "\n",
        "# change this value for a different result\n",
        "ip_str = 'Hello, have you tried our turorial section yet?'\n",
        "\n",
        "# uncomment to take input from the user\n",
        "#ip_str = input(\"Enter a string: \")\n",
        "\n",
        "# make it suitable for caseless comparisions\n",
        "ip_str = ip_str.casefold()\n",
        "\n",
        "# make a dictionary with each vowel a key and value 0\n",
        "count = {}.fromkeys(vowels,0)\n",
        "\n",
        "# count the vowels\n",
        "for char in ip_str:\n",
        "   if char in count:\n",
        "       count[char] += 1\n",
        "\n",
        "print(count)"
      ],
      "execution_count": 92,
      "outputs": [
        {
          "output_type": "stream",
          "text": [
            "{'a': 2, 'e': 5, 'i': 3, 'o': 5, 'u': 3}\n"
          ],
          "name": "stdout"
        }
      ]
    },
    {
      "cell_type": "code",
      "metadata": {
        "id": "2t_ZY3RK_pL5",
        "colab_type": "code",
        "colab": {
          "base_uri": "https://localhost:8080/",
          "height": 0
        },
        "outputId": "c4b92c24-96c6-40ad-cfc8-bc97fe1a7b95"
      },
      "source": [
        "# Using loops Print Fibonnaci Series\n",
        "\n",
        "# Program to display the Fibonacci sequence up to n-th term where n is provided by the user\n",
        "\n",
        "# change this value for a different result\n",
        "nterms = 10\n",
        "\n",
        "# uncomment to take input from the user\n",
        "#nterms = int(input(\"How many terms? \"))\n",
        "\n",
        "# first two terms\n",
        "n1 = 0\n",
        "n2 = 1\n",
        "count = 0\n",
        "\n",
        "# check if the number of terms is valid\n",
        "if nterms <= 0:\n",
        "       print(\"Please enter a positive integer\")\n",
        "elif nterms == 1:\n",
        "       print(\"Fibonacci sequence upto\",nterms,\":\")\n",
        "       print(n1)\n",
        "else:\n",
        "       print(\"Fibonacci sequence upto\",nterms,\":\")\n",
        "       while count < nterms:\n",
        "           print(n1,end=' , ')\n",
        "           nth = n1 + n2\n",
        "           # update values\n",
        "           n1 = n2\n",
        "           n2 = nth\n",
        "           count += 1"
      ],
      "execution_count": 93,
      "outputs": [
        {
          "output_type": "stream",
          "text": [
            "Fibonacci sequence upto 10 :\n",
            "0 , 1 , 1 , 2 , 3 , 5 , 8 , 13 , 21 , 34 , "
          ],
          "name": "stdout"
        }
      ]
    },
    {
      "cell_type": "code",
      "metadata": {
        "id": "V-_cY7qS8-jJ",
        "colab_type": "code",
        "colab": {
          "base_uri": "https://localhost:8080/",
          "height": 0
        },
        "outputId": "d61fbe3c-f75e-4667-8882-a9ede412284f"
      },
      "source": [
        "# Python program to display all the prime numbers within an interval\n",
        "\n",
        "# change the values of lower and upper for a different result\n",
        "lower = 900\n",
        "upper = 1000\n",
        "\n",
        "# uncomment the following lines to take input from the user\n",
        "#lower = int(input(\"Enter lower range: \"))\n",
        "#upper = int(input(\"Enter upper range: \"))\n",
        "\n",
        "print(\"Prime numbers between\",lower,\"and\",upper,\"are:\")\n",
        "\n",
        "for num in range(lower,upper + 1):\n",
        "   # prime numbers are greater than 1\n",
        "   if num > 1:\n",
        "       for i in range(2,num): # number should be divisible by 1 and itself\n",
        "           if (num % i) == 0:\n",
        "               break\n",
        "       else:\n",
        "           print(num)"
      ],
      "execution_count": 94,
      "outputs": [
        {
          "output_type": "stream",
          "text": [
            "Prime numbers between 900 and 1000 are:\n",
            "907\n",
            "911\n",
            "919\n",
            "929\n",
            "937\n",
            "941\n",
            "947\n",
            "953\n",
            "967\n",
            "971\n",
            "977\n",
            "983\n",
            "991\n",
            "997\n"
          ],
          "name": "stdout"
        }
      ]
    },
    {
      "cell_type": "code",
      "metadata": {
        "id": "-KdRShyy9OHq",
        "colab_type": "code",
        "colab": {
          "base_uri": "https://localhost:8080/",
          "height": 0
        },
        "outputId": "02bd7e7d-b5b7-4d91-f8f1-229bd35a3682"
      },
      "source": [
        "# Python program to check if the input year is a leap year or not\n",
        "\n",
        "year = 2000\n",
        "\n",
        "# To get year (integer input) from the user\n",
        "# year = int(input(\"Enter a year: \"))\n",
        "\n",
        "if year % 4 == 0 and (year % 100 != 0 or year % 400 == 0):\n",
        "    print(\"{0} is a leap year\".format(year))\n",
        "else:\n",
        "    print(\"{0} is not a leap year\".format(year))"
      ],
      "execution_count": 95,
      "outputs": [
        {
          "output_type": "stream",
          "text": [
            "2000 is a leap year\n"
          ],
          "name": "stdout"
        }
      ]
    },
    {
      "cell_type": "markdown",
      "metadata": {
        "id": "0JFFBj9k8h8o",
        "colab_type": "text"
      },
      "source": [
        "##### FILTER & MAP FUNCTION"
      ]
    },
    {
      "cell_type": "code",
      "metadata": {
        "id": "vdC_rvz_8cJj",
        "colab_type": "code",
        "colab": {
          "base_uri": "https://localhost:8080/",
          "height": 0
        },
        "outputId": "5651a30a-ddea-4557-99ac-c3660dfdc582"
      },
      "source": [
        "# Program to filter out only the even items from a list\n",
        "\n",
        "my_list = [1, 5, 4, 6, 8, 11, 3, 12]\n",
        "\n",
        "new_list = list(filter(lambda x: (x%2 == 0) , my_list))\n",
        "print(new_list)"
      ],
      "execution_count": 96,
      "outputs": [
        {
          "output_type": "stream",
          "text": [
            "[4, 6, 8, 12]\n"
          ],
          "name": "stdout"
        }
      ]
    },
    {
      "cell_type": "code",
      "metadata": {
        "id": "wmJ7oXAG8gnd",
        "colab_type": "code",
        "colab": {
          "base_uri": "https://localhost:8080/",
          "height": 0
        },
        "outputId": "cc6596dc-1f07-4df4-a49d-05a31cc6404a"
      },
      "source": [
        "\n",
        "# Program to double each item in a list using map()\n",
        "\n",
        "my_list = [1, 5, 4, 6, 8, 11, 3, 12]\n",
        "\n",
        "new_list = list(map(lambda x: x * 2 , my_list))\n",
        "print(new_list)"
      ],
      "execution_count": 97,
      "outputs": [
        {
          "output_type": "stream",
          "text": [
            "[2, 10, 8, 12, 16, 22, 6, 24]\n"
          ],
          "name": "stdout"
        }
      ]
    },
    {
      "cell_type": "markdown",
      "metadata": {
        "id": "aTZV7b-T9VWX",
        "colab_type": "text"
      },
      "source": [
        "##### ITERATOR"
      ]
    },
    {
      "cell_type": "markdown",
      "metadata": {
        "id": "PNVol9WW9YRM",
        "colab_type": "text"
      },
      "source": [
        "_Iterators are everywhere in Python. They are elegantly implemented within for loops, comprehensions, generators etc. but hidden in plain sight._\n",
        "\n",
        "_Iterator in Python is simply an object that can be iterated upon. An object which will return data, one element at a time._\n",
        "\n",
        "_Technically speaking, Python iterator object must implement two special methods, iter() and next(), collectively called the iterator protocol._\n",
        "\n",
        "_An object is called iterable if we can get an iterator from it. Most of built-in containers in Python like: list, tuple, string etc. are iterables._\n",
        "\n",
        "_The iter() function (which in turn calls the iter() method) returns an iterator from them._"
      ]
    },
    {
      "cell_type": "code",
      "metadata": {
        "id": "u3A7RWUh9UJo",
        "colab_type": "code",
        "colab": {
          "base_uri": "https://localhost:8080/",
          "height": 0
        },
        "outputId": "c7f52c1a-86b1-4266-b1f4-c11b1857be3a"
      },
      "source": [
        "# define a list\n",
        "my_list = [4, 7, 0, 3]\n",
        "\n",
        "# get an iterator using iter()\n",
        "my_iter = iter(my_list)\n",
        "\n",
        "## iterate through it using next() \n",
        "print(next(my_iter))\n",
        "print(next(my_iter))"
      ],
      "execution_count": 98,
      "outputs": [
        {
          "output_type": "stream",
          "text": [
            "4\n",
            "7\n"
          ],
          "name": "stdout"
        }
      ]
    },
    {
      "cell_type": "markdown",
      "metadata": {
        "id": "o436ZZuZxBsG",
        "colab_type": "text"
      },
      "source": [
        "### EXCEPTION HANDLING"
      ]
    },
    {
      "cell_type": "code",
      "metadata": {
        "id": "RrHV4KyjwpAz",
        "colab_type": "code",
        "outputId": "c37bbbe2-cfbe-46d0-8dcd-b3933961cd76",
        "colab": {
          "base_uri": "https://localhost:8080/",
          "height": 50
        }
      },
      "source": [
        "# Python program to handle simple runtime error \n",
        "  \n",
        "a = [1, 2, 3] \n",
        "try:  \n",
        "    print (\"Second element = %d\" %(a[1]))\n",
        "  \n",
        "    # Throws error since there are only 3 elements in array \n",
        "    print (\"Fourth element = %d\" %(a[3]))\n",
        "except IndexError: \n",
        "    print (\"An error occurred\")"
      ],
      "execution_count": 99,
      "outputs": [
        {
          "output_type": "stream",
          "text": [
            "Second element = 2\n",
            "An error occurred\n"
          ],
          "name": "stdout"
        }
      ]
    },
    {
      "cell_type": "markdown",
      "metadata": {
        "id": "PH_RvNRi-r3I",
        "colab_type": "text"
      },
      "source": [
        "### COPY IN PYTHON (DEEP AND SHALLOW)\n"
      ]
    },
    {
      "cell_type": "code",
      "metadata": {
        "id": "WjqpASvo-ql2",
        "colab_type": "code",
        "colab": {}
      },
      "source": [
        "# importing copy module \n",
        "import copy \n",
        "  \n",
        "# initializing list 1  \n",
        "li1 = [1, 2, [3,5], 4] \n",
        "  \n",
        "# using copy for shallow copy   \n",
        "li2 = copy.copy(li1)  \n",
        "  \n",
        "# using deepcopy for deepcopy   \n",
        "li3 = copy.deepcopy(li1)  \n",
        "\n",
        "# In the above code, the copy() returns a shallow copy of list and deepcopy() return a deep copy of list."
      ],
      "execution_count": 0,
      "outputs": []
    },
    {
      "cell_type": "code",
      "metadata": {
        "id": "rwt4DpYR-3io",
        "colab_type": "code",
        "colab": {
          "base_uri": "https://localhost:8080/",
          "height": 0
        },
        "outputId": "bc7f0601-a8ed-45c8-81d7-07a3b4c1dafd"
      },
      "source": [
        "# Python code to demonstrate DEEP copy operations \n",
        "  \n",
        "# importing \"copy\" for copy operations \n",
        "import copy \n",
        "  \n",
        "# initializing list 1 \n",
        "li1 = [1, 2, [3,5], 4] \n",
        "  \n",
        "# using deepcopy to deep copy  \n",
        "li2 = copy.deepcopy(li1) \n",
        "  \n",
        "# original elements of list \n",
        "print (\"The original elements before deep copying\") \n",
        "for i in range(0,len(li1)): \n",
        "    print (li1[i],end=\" \") \n",
        "  \n",
        "print(\"\\r\") \n",
        "  \n",
        "# adding and element to new list \n",
        "li2[2][0] = 7\n",
        "  \n",
        "# Change is reflected in l2  \n",
        "print (\"The new list of elements after deep copying \") \n",
        "for i in range(0,len( li1)): \n",
        "    print (li2[i],end=\" \") \n",
        "  \n",
        "print(\"\\r\") \n",
        "  \n",
        "# Change is NOT reflected in original list \n",
        "# as it is a deep copy \n",
        "print (\"The original elements after deep copying\") \n",
        "for i in range(0,len( li1)): \n",
        "    print (li1[i],end=\" \")"
      ],
      "execution_count": 101,
      "outputs": [
        {
          "output_type": "stream",
          "text": [
            "The original elements before deep copying\n",
            "1 2 [3, 5] 4 \r\n",
            "The new list of elements after deep copying \n",
            "1 2 [7, 5] 4 \r\n",
            "The original elements after deep copying\n",
            "1 2 [3, 5] 4 "
          ],
          "name": "stdout"
        }
      ]
    },
    {
      "cell_type": "code",
      "metadata": {
        "id": "AaTAkT7d-57P",
        "colab_type": "code",
        "colab": {
          "base_uri": "https://localhost:8080/",
          "height": 0
        },
        "outputId": "08ce35ef-94ad-44a2-9093-fa705e98836c"
      },
      "source": [
        "# Python code to demonstrate SHALLOW copy operations \n",
        "  \n",
        "# importing \"copy\" for copy operations \n",
        "import copy \n",
        "  \n",
        "# initializing list 1 \n",
        "li1 = [1, 2, [3,5], 4] \n",
        "  \n",
        "# using copy to shallow copy  \n",
        "li2 = copy.copy(li1) \n",
        "  \n",
        "# original elements of list \n",
        "print (\"The original elements before shallow copying\") \n",
        "for i in range(0,len(li1)): \n",
        "    print (li1[i],end=\" \") \n",
        "  \n",
        "print(\"\\r\") \n",
        "  \n",
        "# adding and element to new list \n",
        "li2[2][0] = 7\n",
        "  \n",
        "# checking if change is reflected \n",
        "print (\"The original elements after shallow copying\") \n",
        "for i in range(0,len( li1)): \n",
        "    print (li1[i],end=\" \")"
      ],
      "execution_count": 102,
      "outputs": [
        {
          "output_type": "stream",
          "text": [
            "The original elements before shallow copying\n",
            "1 2 [3, 5] 4 \r\n",
            "The original elements after shallow copying\n",
            "1 2 [7, 5] 4 "
          ],
          "name": "stdout"
        }
      ]
    },
    {
      "cell_type": "markdown",
      "metadata": {
        "id": "56Chh08OxTo6",
        "colab_type": "text"
      },
      "source": [
        "### RANDOM NUMBER"
      ]
    },
    {
      "cell_type": "code",
      "metadata": {
        "id": "w0nhRTfAxUaP",
        "colab_type": "code",
        "outputId": "38492286-379e-49c5-8304-288795ffea93",
        "colab": {
          "base_uri": "https://localhost:8080/",
          "height": 0
        }
      },
      "source": [
        "# Python code to demonstrate the working of \n",
        "# random() and seed() \n",
        "   \n",
        "# importing \"random\" for random operations \n",
        "import random \n",
        "  \n",
        "# using random() to generate a random number \n",
        "# between 0 and 1 \n",
        "print (\"A random number between 0 and 1 is : \", end=\"\") \n",
        "print (random.random()) \n",
        "  \n",
        "# using seed() to seed a random number \n",
        "random.seed(5) \n",
        "  \n",
        "# printing mapped random number \n",
        "print (\"The mapped random number with 5 is : \", end=\"\") \n",
        "print (random.random()) \n",
        "  \n",
        "# using seed() to seed different random number \n",
        "random.seed(7) \n",
        "  \n",
        "# printing mapped random number \n",
        "print (\"The mapped random number with 7 is : \", end=\"\") \n",
        "print (random.random()) \n",
        "  \n",
        "# using seed() to seed to 5 again \n",
        "random.seed(5) \n",
        "  \n",
        "# printing mapped random number \n",
        "print (\"The mapped random number with 5 is : \",end=\"\") \n",
        "print (random.random()) \n",
        "  \n",
        "# using seed() to seed to 7 again  \n",
        "random.seed(7) \n",
        "  \n",
        "# printing mapped random number \n",
        "print (\"The mapped random number with 7 is : \",end=\"\") \n",
        "print (random.random()) \n",
        "\n",
        "# using choice() to generate a random number from a  \n",
        "# given list of numbers. \n",
        "print (\"A random number from list is : \",end=\"\") \n",
        "print (random.choice([1, 4, 8, 10, 3])) \n",
        "  \n",
        "# using randrange() to generate in range from 20 \n",
        "# to 50. The last parameter 3 is step size to skip \n",
        "# three numbers when selecting. \n",
        "print (\"A random number from range is : \",end=\"\") \n",
        "print (random.randrange(20, 50, 3)) \n",
        "\n",
        "print (\"A random number from range : \",end=\"\") \n",
        "print(random.randint(3, 9))"
      ],
      "execution_count": 103,
      "outputs": [
        {
          "output_type": "stream",
          "text": [
            "A random number between 0 and 1 is : 0.19658353224850167\n",
            "The mapped random number with 5 is : 0.6229016948897019\n",
            "The mapped random number with 7 is : 0.32383276483316237\n",
            "The mapped random number with 5 is : 0.6229016948897019\n",
            "The mapped random number with 7 is : 0.32383276483316237\n",
            "A random number from list is : 4\n",
            "A random number from range is : 38\n",
            "A random number from range : 8\n"
          ],
          "name": "stdout"
        }
      ]
    },
    {
      "cell_type": "markdown",
      "metadata": {
        "id": "xyNr4fjTy8BF",
        "colab_type": "text"
      },
      "source": [
        "### DATE TIME"
      ]
    },
    {
      "cell_type": "code",
      "metadata": {
        "id": "J9ZynRVvxV3E",
        "colab_type": "code",
        "outputId": "32700ccc-fb8c-409d-8734-d040c1f94aef",
        "colab": {
          "base_uri": "https://localhost:8080/",
          "height": 0
        }
      },
      "source": [
        "import datetime\n",
        "import time\n",
        "\n",
        "d = datetime.date(2019,12,15)\n",
        "print(d)\n",
        "\n",
        "print(datetime.date.today()) # Today date\n",
        "\n",
        "print(time.time())\n",
        "\n",
        "print(d.weekday())\n",
        "\n",
        "print(datetime.datetime.now()) # Today Date Time\n",
        "\n",
        "print(datetime.date.fromtimestamp(time.time()))"
      ],
      "execution_count": 104,
      "outputs": [
        {
          "output_type": "stream",
          "text": [
            "2019-12-15\n",
            "2020-03-02\n",
            "1583148600.3524702\n",
            "6\n",
            "2020-03-02 11:30:00.352931\n",
            "2020-03-02\n"
          ],
          "name": "stdout"
        }
      ]
    },
    {
      "cell_type": "code",
      "metadata": {
        "id": "SJLTcoCr-jAu",
        "colab_type": "code",
        "colab": {
          "base_uri": "https://localhost:8080/",
          "height": 0
        },
        "outputId": "eceaec1c-c141-4fc5-ad94-cbd45ae113c3"
      },
      "source": [
        "import datetime\n",
        "\n",
        "datetime_object = datetime.datetime.now()\n",
        "print(datetime_object)\n",
        "\n",
        "date_object = datetime.date.today()\n",
        "print(date_object)\n",
        "\n",
        "d = datetime.date(2019, 4, 13)\n",
        "print(d)\n",
        "\n",
        "from datetime import date\n",
        "\n",
        "today = date.today()\n",
        "print(\"Current date =\", today)\n",
        "\n",
        "timestamp = date.fromtimestamp(1326244364)\n",
        "print(\"Date =\", timestamp)\n",
        "\n",
        "# date object of today's date\n",
        "from datetime import date, time\n",
        "\n",
        "today = date.today() \n",
        "print(\"Current year:\", today.year)\n",
        "print(\"Current month:\", today.month)\n",
        "print(\"Current day:\", today.day)\n",
        "\n",
        "a = time(11, 34, 56)\n",
        "print(\"hour =\", a.hour)\n",
        "print(\"minute =\", a.minute)\n",
        "print(\"second =\", a.second)\n",
        "print(\"microsecond =\", a.microsecond)\n",
        "\n",
        "from datetime import datetime\n",
        "\n",
        "#datetime(year, month, day)\n",
        "a = datetime(2018, 11, 28)\n",
        "print(a)\n",
        "# datetime(year, month, day, hour, minute, second, microsecond)\n",
        "b = datetime(2017, 11, 28, 23, 55, 59, 342380)\n",
        "print(b)"
      ],
      "execution_count": 105,
      "outputs": [
        {
          "output_type": "stream",
          "text": [
            "2020-03-02 11:30:00.378717\n",
            "2020-03-02\n",
            "2019-04-13\n",
            "Current date = 2020-03-02\n",
            "Date = 2012-01-11\n",
            "Current year: 2020\n",
            "Current month: 3\n",
            "Current day: 2\n",
            "hour = 11\n",
            "minute = 34\n",
            "second = 56\n",
            "microsecond = 0\n",
            "2018-11-28 00:00:00\n",
            "2017-11-28 23:55:59.342380\n"
          ],
          "name": "stdout"
        }
      ]
    },
    {
      "cell_type": "markdown",
      "metadata": {
        "id": "3WcO0sfF0Czs",
        "colab_type": "text"
      },
      "source": [
        "### OS MODULE"
      ]
    },
    {
      "cell_type": "code",
      "metadata": {
        "id": "ZqcZUOn9zCA6",
        "colab_type": "code",
        "outputId": "74d7c04c-f2b0-4354-c876-839e927caf74",
        "colab": {
          "base_uri": "https://localhost:8080/",
          "height": 0
        }
      },
      "source": [
        "import os\n",
        "\n",
        "print(os.getcwd())\n",
        "\n",
        "# print(os.chdir('C:\\\\Users\\\\lifei\\\\Desktop'))\n",
        "\n",
        "#fd = \"GFG.txt\"\n",
        "#os.rename(fd,'New.txt') \n",
        "#os.rename(fd,'New.txt')\n",
        "\n",
        "print(os.name)"
      ],
      "execution_count": 106,
      "outputs": [
        {
          "output_type": "stream",
          "text": [
            "/content\n",
            "posix\n"
          ],
          "name": "stdout"
        }
      ]
    },
    {
      "cell_type": "markdown",
      "metadata": {
        "id": "qBepiPIH10Ou",
        "colab_type": "text"
      },
      "source": [
        "### REGEX MODULE"
      ]
    },
    {
      "cell_type": "markdown",
      "metadata": {
        "id": "Na2Cts2V9mfF",
        "colab_type": "text"
      },
      "source": [
        "_A Regular Expression (RegEx) is a sequence of characters that defines a search pattern. For example,_\n",
        "\n",
        "_^a...s$_\n",
        "\n",
        "_The above code defines a RegEx pattern. The pattern is: any five letter string starting with a and ending with s._\n",
        "\n",
        "1. _[] - Square brackets: Square brackets specifies a set of characters you wish to match._\n",
        "2. _. - Period: A period matches any single character (except newline '\\n')._\n",
        "3. _\\$ - Dollar: The dollar symbol $ is used to check if a string ends with a certain character._\n",
        "4. _^ - Caret: The caret symbol ^ is used to check if a string starts with a certain character._\n",
        "5. _* - Star: The star symbol * matches zero or more occurrences of the pattern left to it._\n",
        "6. _+ - Plus: The plus symbol + matches one or more occurrences of the pattern left to it._\n",
        "7. _? - Question Mark: The question mark symbol ? matches zero or one occurrence of the pattern left to it._\n",
        "8. _{} - Braces: Consider this code: {n,m}. This means at least n, and at most m repetitions of the pattern left to it._\n",
        "9. _| - Alternation: Vertical bar | is used for alternation (or operator)._\n",
        "10. _- Backslash: Backlash \\ is used to escape various characters including all metacharacters._\n",
        "11. _\\A - Matches if the specified characters are at the start of a string._\n",
        "12. _\\b - Matches if the specified characters are at the beginning or end of a word._\n",
        "13. _\\B - Opposite of \\b. Matches if the specified characters are not at the beginning or end of a word._\n",
        "14. _\\d - Matches any decimal digit. Equivalent to [0-9]_\n",
        "15. _\\D - Matches any non-decimal digit. Equivalent to [^0-9]_\n",
        "16. _\\s - Matches where a string contains any whitespace character. Equivalent to [ \\t\\n\\r\\f\\v]._\n",
        "17. _\\S - Matches where a string contains any non-whitespace character. Equivalent to [^ \\t\\n\\r\\f\\v]._\n",
        "18. _\\w - Matches any alphanumeric character (digits and alphabets). Equivalent to [a-zA-Z0-9]. By the way, underscore is also considered an alphanumeric character./-\n",
        "19. _\\W - Matches any non-alphanumeric character. Equivalent to [^a-zA-Z0-9_]_\n",
        "20. _\\Z - Matches if the specified characters are at the end of a string._"
      ]
    },
    {
      "cell_type": "code",
      "metadata": {
        "id": "HGIJhzEH-ZOy",
        "colab_type": "code",
        "colab": {
          "base_uri": "https://localhost:8080/",
          "height": 33
        },
        "outputId": "adaeee01-408b-4e55-ac12-026d8ab4ac1a"
      },
      "source": [
        "import re\n",
        "pattern = '^a...s$'\n",
        "test_string = 'abyss'\n",
        "result = re.match(pattern, test_string)\n",
        "if result:\n",
        "    print(\"Search successful.\")\n",
        "else:\n",
        "    print(\"Search unsuccessful.\")"
      ],
      "execution_count": 107,
      "outputs": [
        {
          "output_type": "stream",
          "text": [
            "Search successful.\n"
          ],
          "name": "stdout"
        }
      ]
    },
    {
      "cell_type": "code",
      "metadata": {
        "id": "ur21KprM-c2G",
        "colab_type": "code",
        "colab": {
          "base_uri": "https://localhost:8080/",
          "height": 33
        },
        "outputId": "2e99d663-340a-4070-8ec2-806690860dac"
      },
      "source": [
        "# Program to remove all whitespaces\n",
        "\n",
        "# multiline string\n",
        "string = 'abc 12\\\n",
        "de 23 \\n f45 6'\n",
        "# matches all whitespace characters\n",
        "pattern = '\\s+'\n",
        "# empty string\n",
        "replace = ''\n",
        "new_string = re.sub(pattern, replace, string) \n",
        "print(new_string)"
      ],
      "execution_count": 108,
      "outputs": [
        {
          "output_type": "stream",
          "text": [
            "abc12de23f456\n"
          ],
          "name": "stdout"
        }
      ]
    },
    {
      "cell_type": "code",
      "metadata": {
        "id": "SQ-t_3yd0X8y",
        "colab_type": "code",
        "outputId": "82c156d4-9e5b-4dbe-b051-a4a39b90427d",
        "colab": {
          "base_uri": "https://localhost:8080/",
          "height": 66
        }
      },
      "source": [
        "import re\n",
        "\n",
        "# Matching email address\n",
        "match=re.search(r'([\\w.-]+)@([\\w-]+)\\.([\\w]+)','Please mail it to piyushsingla0291@gmail.com')\n",
        "print(match.group())\n",
        "\n",
        "# searching\n",
        "print(re.search('program','python programming'))\n",
        "\n",
        "match=re.search('pp?iyush?','piyus piyush')\n",
        "print(match.group())"
      ],
      "execution_count": 109,
      "outputs": [
        {
          "output_type": "stream",
          "text": [
            "piyushsingla0291@gmail.com\n",
            "<_sre.SRE_Match object; span=(7, 14), match='program'>\n",
            "piyus\n"
          ],
          "name": "stdout"
        }
      ]
    },
    {
      "cell_type": "markdown",
      "metadata": {
        "id": "avm1oouC3A5B",
        "colab_type": "text"
      },
      "source": [
        "### DATABASE MODULE"
      ]
    },
    {
      "cell_type": "code",
      "metadata": {
        "id": "QxJvvG8E2A40",
        "colab_type": "code",
        "colab": {
          "base_uri": "https://localhost:8080/",
          "height": 491
        },
        "outputId": "66ecb014-223a-4be6-cfef-336f5e08b555"
      },
      "source": [
        "!pip install pymysql\n",
        "import pymysql\n",
        "\n",
        "db=pymysql.connect(\"localhost\",\"piyush\",\"yourpassword\",\"12345\")\n",
        "\n",
        "cursor=db.cursor()\n",
        "query=\"select * from student where age>22\"\n",
        "\n",
        "try:\n",
        "            cursor.execute(query)\n",
        "            resultset=cursor.fetchall() #To fetch all records that satisfy\n",
        "            for record in resultset:\n",
        "                        fname=record[0]\n",
        "                        lname=record[1]\n",
        "                        age=record[2]\n",
        "                        enrolment_no=record[3]\n",
        "                        print(f\"Student: {fname} {lname}; Enrolment: {enrolment_no}; Age: {age}\")\n",
        "except:\n",
        "            print(\"Sorry, we encountered a problem\")"
      ],
      "execution_count": 110,
      "outputs": [
        {
          "output_type": "stream",
          "text": [
            "Collecting pymysql\n",
            "\u001b[?25l  Downloading https://files.pythonhosted.org/packages/ed/39/15045ae46f2a123019aa968dfcba0396c161c20f855f11dea6796bcaae95/PyMySQL-0.9.3-py2.py3-none-any.whl (47kB)\n",
            "\r\u001b[K     |██████▉                         | 10kB 20.9MB/s eta 0:00:01\r\u001b[K     |█████████████▊                  | 20kB 3.0MB/s eta 0:00:01\r\u001b[K     |████████████████████▋           | 30kB 4.4MB/s eta 0:00:01\r\u001b[K     |███████████████████████████▌    | 40kB 2.9MB/s eta 0:00:01\r\u001b[K     |████████████████████████████████| 51kB 2.4MB/s \n",
            "\u001b[?25hInstalling collected packages: pymysql\n",
            "Successfully installed pymysql-0.9.3\n"
          ],
          "name": "stdout"
        },
        {
          "output_type": "error",
          "ename": "OperationalError",
          "evalue": "ignored",
          "traceback": [
            "\u001b[0;31m---------------------------------------------------------------------------\u001b[0m",
            "\u001b[0;31mOSError\u001b[0m                                   Traceback (most recent call last)",
            "\u001b[0;32m/usr/local/lib/python3.6/dist-packages/pymysql/connections.py\u001b[0m in \u001b[0;36mconnect\u001b[0;34m(self, sock)\u001b[0m\n\u001b[1;32m    582\u001b[0m                                 \u001b[0;34m(\u001b[0m\u001b[0mself\u001b[0m\u001b[0;34m.\u001b[0m\u001b[0mhost\u001b[0m\u001b[0;34m,\u001b[0m \u001b[0mself\u001b[0m\u001b[0;34m.\u001b[0m\u001b[0mport\u001b[0m\u001b[0;34m)\u001b[0m\u001b[0;34m,\u001b[0m \u001b[0mself\u001b[0m\u001b[0;34m.\u001b[0m\u001b[0mconnect_timeout\u001b[0m\u001b[0;34m,\u001b[0m\u001b[0;34m\u001b[0m\u001b[0;34m\u001b[0m\u001b[0m\n\u001b[0;32m--> 583\u001b[0;31m                                 **kwargs)\n\u001b[0m\u001b[1;32m    584\u001b[0m                             \u001b[0;32mbreak\u001b[0m\u001b[0;34m\u001b[0m\u001b[0;34m\u001b[0m\u001b[0m\n",
            "\u001b[0;32m/usr/lib/python3.6/socket.py\u001b[0m in \u001b[0;36mcreate_connection\u001b[0;34m(address, timeout, source_address)\u001b[0m\n\u001b[1;32m    723\u001b[0m     \u001b[0;32mif\u001b[0m \u001b[0merr\u001b[0m \u001b[0;32mis\u001b[0m \u001b[0;32mnot\u001b[0m \u001b[0;32mNone\u001b[0m\u001b[0;34m:\u001b[0m\u001b[0;34m\u001b[0m\u001b[0;34m\u001b[0m\u001b[0m\n\u001b[0;32m--> 724\u001b[0;31m         \u001b[0;32mraise\u001b[0m \u001b[0merr\u001b[0m\u001b[0;34m\u001b[0m\u001b[0;34m\u001b[0m\u001b[0m\n\u001b[0m\u001b[1;32m    725\u001b[0m     \u001b[0;32melse\u001b[0m\u001b[0;34m:\u001b[0m\u001b[0;34m\u001b[0m\u001b[0;34m\u001b[0m\u001b[0m\n",
            "\u001b[0;32m/usr/lib/python3.6/socket.py\u001b[0m in \u001b[0;36mcreate_connection\u001b[0;34m(address, timeout, source_address)\u001b[0m\n\u001b[1;32m    712\u001b[0m                 \u001b[0msock\u001b[0m\u001b[0;34m.\u001b[0m\u001b[0mbind\u001b[0m\u001b[0;34m(\u001b[0m\u001b[0msource_address\u001b[0m\u001b[0;34m)\u001b[0m\u001b[0;34m\u001b[0m\u001b[0;34m\u001b[0m\u001b[0m\n\u001b[0;32m--> 713\u001b[0;31m             \u001b[0msock\u001b[0m\u001b[0;34m.\u001b[0m\u001b[0mconnect\u001b[0m\u001b[0;34m(\u001b[0m\u001b[0msa\u001b[0m\u001b[0;34m)\u001b[0m\u001b[0;34m\u001b[0m\u001b[0;34m\u001b[0m\u001b[0m\n\u001b[0m\u001b[1;32m    714\u001b[0m             \u001b[0;31m# Break explicitly a reference cycle\u001b[0m\u001b[0;34m\u001b[0m\u001b[0;34m\u001b[0m\u001b[0;34m\u001b[0m\u001b[0m\n",
            "\u001b[0;31mOSError\u001b[0m: [Errno 99] Cannot assign requested address",
            "\nDuring handling of the above exception, another exception occurred:\n",
            "\u001b[0;31mOperationalError\u001b[0m                          Traceback (most recent call last)",
            "\u001b[0;32m<ipython-input-110-2ea606ef52e1>\u001b[0m in \u001b[0;36m<module>\u001b[0;34m()\u001b[0m\n\u001b[1;32m      2\u001b[0m \u001b[0;32mimport\u001b[0m \u001b[0mpymysql\u001b[0m\u001b[0;34m\u001b[0m\u001b[0;34m\u001b[0m\u001b[0m\n\u001b[1;32m      3\u001b[0m \u001b[0;34m\u001b[0m\u001b[0m\n\u001b[0;32m----> 4\u001b[0;31m \u001b[0mdb\u001b[0m\u001b[0;34m=\u001b[0m\u001b[0mpymysql\u001b[0m\u001b[0;34m.\u001b[0m\u001b[0mconnect\u001b[0m\u001b[0;34m(\u001b[0m\u001b[0;34m\"localhost\"\u001b[0m\u001b[0;34m,\u001b[0m\u001b[0;34m\"piyush\"\u001b[0m\u001b[0;34m,\u001b[0m\u001b[0;34m\"yourpassword\"\u001b[0m\u001b[0;34m,\u001b[0m\u001b[0;34m\"12345\"\u001b[0m\u001b[0;34m)\u001b[0m\u001b[0;34m\u001b[0m\u001b[0;34m\u001b[0m\u001b[0m\n\u001b[0m\u001b[1;32m      5\u001b[0m \u001b[0;34m\u001b[0m\u001b[0m\n\u001b[1;32m      6\u001b[0m \u001b[0mcursor\u001b[0m\u001b[0;34m=\u001b[0m\u001b[0mdb\u001b[0m\u001b[0;34m.\u001b[0m\u001b[0mcursor\u001b[0m\u001b[0;34m(\u001b[0m\u001b[0;34m)\u001b[0m\u001b[0;34m\u001b[0m\u001b[0;34m\u001b[0m\u001b[0m\n",
            "\u001b[0;32m/usr/local/lib/python3.6/dist-packages/pymysql/__init__.py\u001b[0m in \u001b[0;36mConnect\u001b[0;34m(*args, **kwargs)\u001b[0m\n\u001b[1;32m     92\u001b[0m     \"\"\"\n\u001b[1;32m     93\u001b[0m     \u001b[0;32mfrom\u001b[0m \u001b[0;34m.\u001b[0m\u001b[0mconnections\u001b[0m \u001b[0;32mimport\u001b[0m \u001b[0mConnection\u001b[0m\u001b[0;34m\u001b[0m\u001b[0;34m\u001b[0m\u001b[0m\n\u001b[0;32m---> 94\u001b[0;31m     \u001b[0;32mreturn\u001b[0m \u001b[0mConnection\u001b[0m\u001b[0;34m(\u001b[0m\u001b[0;34m*\u001b[0m\u001b[0margs\u001b[0m\u001b[0;34m,\u001b[0m \u001b[0;34m**\u001b[0m\u001b[0mkwargs\u001b[0m\u001b[0;34m)\u001b[0m\u001b[0;34m\u001b[0m\u001b[0;34m\u001b[0m\u001b[0m\n\u001b[0m\u001b[1;32m     95\u001b[0m \u001b[0;34m\u001b[0m\u001b[0m\n\u001b[1;32m     96\u001b[0m \u001b[0;32mfrom\u001b[0m \u001b[0;34m.\u001b[0m \u001b[0;32mimport\u001b[0m \u001b[0mconnections\u001b[0m \u001b[0;32mas\u001b[0m \u001b[0m_orig_conn\u001b[0m\u001b[0;34m\u001b[0m\u001b[0;34m\u001b[0m\u001b[0m\n",
            "\u001b[0;32m/usr/local/lib/python3.6/dist-packages/pymysql/connections.py\u001b[0m in \u001b[0;36m__init__\u001b[0;34m(self, host, user, password, database, port, unix_socket, charset, sql_mode, read_default_file, conv, use_unicode, client_flag, cursorclass, init_command, connect_timeout, ssl, read_default_group, compress, named_pipe, autocommit, db, passwd, local_infile, max_allowed_packet, defer_connect, auth_plugin_map, read_timeout, write_timeout, bind_address, binary_prefix, program_name, server_public_key)\u001b[0m\n\u001b[1;32m    323\u001b[0m             \u001b[0mself\u001b[0m\u001b[0;34m.\u001b[0m\u001b[0m_sock\u001b[0m \u001b[0;34m=\u001b[0m \u001b[0;32mNone\u001b[0m\u001b[0;34m\u001b[0m\u001b[0;34m\u001b[0m\u001b[0m\n\u001b[1;32m    324\u001b[0m         \u001b[0;32melse\u001b[0m\u001b[0;34m:\u001b[0m\u001b[0;34m\u001b[0m\u001b[0;34m\u001b[0m\u001b[0m\n\u001b[0;32m--> 325\u001b[0;31m             \u001b[0mself\u001b[0m\u001b[0;34m.\u001b[0m\u001b[0mconnect\u001b[0m\u001b[0;34m(\u001b[0m\u001b[0;34m)\u001b[0m\u001b[0;34m\u001b[0m\u001b[0;34m\u001b[0m\u001b[0m\n\u001b[0m\u001b[1;32m    326\u001b[0m \u001b[0;34m\u001b[0m\u001b[0m\n\u001b[1;32m    327\u001b[0m     \u001b[0;32mdef\u001b[0m \u001b[0m_create_ssl_ctx\u001b[0m\u001b[0;34m(\u001b[0m\u001b[0mself\u001b[0m\u001b[0;34m,\u001b[0m \u001b[0msslp\u001b[0m\u001b[0;34m)\u001b[0m\u001b[0;34m:\u001b[0m\u001b[0;34m\u001b[0m\u001b[0;34m\u001b[0m\u001b[0m\n",
            "\u001b[0;32m/usr/local/lib/python3.6/dist-packages/pymysql/connections.py\u001b[0m in \u001b[0;36mconnect\u001b[0;34m(self, sock)\u001b[0m\n\u001b[1;32m    628\u001b[0m                 \u001b[0mexc\u001b[0m\u001b[0;34m.\u001b[0m\u001b[0mtraceback\u001b[0m \u001b[0;34m=\u001b[0m \u001b[0mtraceback\u001b[0m\u001b[0;34m.\u001b[0m\u001b[0mformat_exc\u001b[0m\u001b[0;34m(\u001b[0m\u001b[0;34m)\u001b[0m\u001b[0;34m\u001b[0m\u001b[0;34m\u001b[0m\u001b[0m\n\u001b[1;32m    629\u001b[0m                 \u001b[0;32mif\u001b[0m \u001b[0mDEBUG\u001b[0m\u001b[0;34m:\u001b[0m \u001b[0mprint\u001b[0m\u001b[0;34m(\u001b[0m\u001b[0mexc\u001b[0m\u001b[0;34m.\u001b[0m\u001b[0mtraceback\u001b[0m\u001b[0;34m)\u001b[0m\u001b[0;34m\u001b[0m\u001b[0;34m\u001b[0m\u001b[0m\n\u001b[0;32m--> 630\u001b[0;31m                 \u001b[0;32mraise\u001b[0m \u001b[0mexc\u001b[0m\u001b[0;34m\u001b[0m\u001b[0;34m\u001b[0m\u001b[0m\n\u001b[0m\u001b[1;32m    631\u001b[0m \u001b[0;34m\u001b[0m\u001b[0m\n\u001b[1;32m    632\u001b[0m             \u001b[0;31m# If e is neither DatabaseError or IOError, It's a bug.\u001b[0m\u001b[0;34m\u001b[0m\u001b[0;34m\u001b[0m\u001b[0;34m\u001b[0m\u001b[0m\n",
            "\u001b[0;31mOperationalError\u001b[0m: (2003, \"Can't connect to MySQL server on 'localhost' ([Errno 99] Cannot assign requested address)\")"
          ]
        }
      ]
    }
  ]
}