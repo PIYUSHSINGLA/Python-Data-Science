{
  "nbformat": 4,
  "nbformat_minor": 0,
  "metadata": {
    "colab": {
      "name": "Learning Seaborn.ipynb",
      "provenance": [],
      "private_outputs": true,
      "collapsed_sections": [],
      "toc_visible": true
    },
    "kernelspec": {
      "name": "python3",
      "display_name": "Python 3"
    }
  },
  "cells": [
    {
      "cell_type": "markdown",
      "metadata": {
        "id": "AdPSDa5T0ZcN",
        "colab_type": "text"
      },
      "source": [
        "### WHAT IS SEABORN?\n",
        "\n",
        "_Seaborn is built on top of Python’s core visualization library Matplotlib. It is meant to serve as a complement, and not a replacement. However, Seaborn comes with some very important features. Let us see a few of them here. The features help in −_\n",
        "\n",
        "1. _Built in themes for styling matplotlib graphics_\n",
        "2. _Visualizing univariate and bivariate data_\n",
        "3. _Fitting in and visualizing linear regression models_\n",
        "4. _Plotting statistical time series data_\n",
        "5. _Seaborn works well with NumPy and Pandas data structures_\n",
        "\n",
        "\n",
        "`!pip install seaborn`\n",
        "\n",
        "_Seaborn comes with a few important datasets in the library. When Seaborn is installed, the datasets download automatically._\n"
      ]
    },
    {
      "cell_type": "code",
      "metadata": {
        "id": "cm_Gg186QJsA",
        "colab_type": "code",
        "colab": {}
      },
      "source": [
        "# Importing Seaborn for plotting and styling\n",
        "import seaborn as sns"
      ],
      "execution_count": 0,
      "outputs": []
    },
    {
      "cell_type": "code",
      "metadata": {
        "id": "qbUpNZ3u4Ytf",
        "colab_type": "code",
        "colab": {}
      },
      "source": [
        "import numpy as np\n",
        "import pandas as pd\n",
        "import matplotlib.pyplot as plt"
      ],
      "execution_count": 0,
      "outputs": []
    },
    {
      "cell_type": "code",
      "metadata": {
        "id": "vsnOlyWW1bgb",
        "colab_type": "code",
        "colab": {}
      },
      "source": [
        "sns.get_dataset_names()"
      ],
      "execution_count": 0,
      "outputs": []
    },
    {
      "cell_type": "code",
      "metadata": {
        "id": "n8X3cmMl1KVr",
        "colab_type": "code",
        "colab": {}
      },
      "source": [
        "df = sns.load_dataset('flights')\n",
        "df.head()"
      ],
      "execution_count": 0,
      "outputs": []
    },
    {
      "cell_type": "code",
      "metadata": {
        "id": "-jW6zii45O5u",
        "colab_type": "code",
        "colab": {}
      },
      "source": [
        "tips = sns.load_dataset(\"tips\")\n",
        "tips.head()"
      ],
      "execution_count": 0,
      "outputs": []
    },
    {
      "cell_type": "markdown",
      "metadata": {
        "id": "aNX89Htq2BCo",
        "colab_type": "text"
      },
      "source": [
        "_The interface for manipulating the styles is **set_style()**. Using this function you can set the theme of the plot._\n",
        "\n"
      ]
    },
    {
      "cell_type": "code",
      "metadata": {
        "id": "DU-Hdzae2ATZ",
        "colab_type": "code",
        "colab": {}
      },
      "source": [
        "sns.set_style(\"whitegrid\")"
      ],
      "execution_count": 0,
      "outputs": []
    },
    {
      "cell_type": "code",
      "metadata": {
        "id": "3bydXPMO1Yvf",
        "colab_type": "code",
        "colab": {}
      },
      "source": [
        "sns.axes_style() # We can use the below available parameters to set_style to set custom styles"
      ],
      "execution_count": 0,
      "outputs": []
    },
    {
      "cell_type": "markdown",
      "metadata": {
        "id": "Ogy5qYau3ixJ",
        "colab_type": "text"
      },
      "source": [
        "#### SEABORN PLOTTING FUNCTIONS"
      ]
    },
    {
      "cell_type": "markdown",
      "metadata": {
        "id": "KskV2fT83z4Q",
        "colab_type": "text"
      },
      "source": [
        "##### VISUALIZING STATISTICAL RELATIONSHIPS\n",
        "\n",
        "_The process of understanding relationships between variables of a dataset and how these relationships, in turn, depend on other variables is known as statistical analysis._"
      ]
    },
    {
      "cell_type": "markdown",
      "metadata": {
        "id": "D5FuKzl84Ed4",
        "colab_type": "text"
      },
      "source": [
        "###### relplot()\n",
        "\n",
        "_This is a figure-level-function that makes use of two other axes functions for Visualizing Statistical Relationships which are:_\n",
        "\n",
        "```\n",
        "1. scatterplot() (with kind=\"scatter\"; the default)\n",
        "2. lineplot()  (with kind=\"line\")\n",
        "```\n",
        "\n",
        "_These functions can be specified using the ‘kind’ parameter of relplot(). In case this parameter is given, it takes the default one which is scatterplot()_."
      ]
    },
    {
      "cell_type": "code",
      "metadata": {
        "id": "fvjLTrWa13Ag",
        "colab_type": "code",
        "colab": {}
      },
      "source": [
        "sns.relplot(x=\"passengers\", y=\"month\", data=df);"
      ],
      "execution_count": 0,
      "outputs": []
    },
    {
      "cell_type": "code",
      "metadata": {
        "id": "kt9A3NFy4nBN",
        "colab_type": "code",
        "colab": {}
      },
      "source": [
        "sns.relplot(x=\"passengers\", y=\"month\",data = df, hue=\"year\")"
      ],
      "execution_count": 0,
      "outputs": []
    },
    {
      "cell_type": "code",
      "metadata": {
        "id": "69pFGfEV5ReQ",
        "colab_type": "code",
        "colab": {}
      },
      "source": [
        "sns.relplot(x=\"total_bill\", y=\"tip\",hue = 'sex', style ='sex', data=tips, kind = 'scatter')"
      ],
      "execution_count": 0,
      "outputs": []
    },
    {
      "cell_type": "code",
      "metadata": {
        "id": "92KkOGda63zN",
        "colab_type": "code",
        "colab": {}
      },
      "source": [
        "sns.relplot(x=\"total_bill\", y=\"tip\", data=tips, hue = 'size',size=\"size\", sizes=(15, 200))"
      ],
      "execution_count": 0,
      "outputs": []
    },
    {
      "cell_type": "code",
      "metadata": {
        "id": "bkxhwthq48xw",
        "colab_type": "code",
        "colab": {}
      },
      "source": [
        "sns.relplot(x=\"size\", y=\"tip\", kind=\"line\", data=tips) # kind defines LINE PLOT"
      ],
      "execution_count": 0,
      "outputs": []
    },
    {
      "cell_type": "code",
      "metadata": {
        "id": "jgR8SB3O7QwA",
        "colab_type": "code",
        "colab": {}
      },
      "source": [
        "sns.relplot(x=\"size\", y=\"tip\", kind=\"line\", data=tips, ci=None) # disabling the Confidence Interval"
      ],
      "execution_count": 0,
      "outputs": []
    },
    {
      "cell_type": "code",
      "metadata": {
        "id": "gsA-5V887m1P",
        "colab_type": "code",
        "colab": {}
      },
      "source": [
        "sns.relplot(x=\"size\", y=\"tip\", kind=\"line\",hue='sex', data=tips, ci=None) # Adding multiple lines by Hue"
      ],
      "execution_count": 0,
      "outputs": []
    },
    {
      "cell_type": "code",
      "metadata": {
        "id": "8pSuJq5z7wzM",
        "colab_type": "code",
        "colab": {}
      },
      "source": [
        " sns.relplot(x=\"size\", y=\"tip\", kind=\"line\",hue='sex',style = 'smoker', data=tips, ci=None,markers=True) # Showing Markers"
      ],
      "execution_count": 0,
      "outputs": []
    },
    {
      "cell_type": "code",
      "metadata": {
        "id": "v0FEN0H771Gn",
        "colab_type": "code",
        "colab": {}
      },
      "source": [
        "sns.relplot(x=\"total_bill\", y=\"tip\", hue=\"smoker\", col=\"time\", data=tips) # make multiple axes and plot subsets of the data on each of them"
      ],
      "execution_count": 0,
      "outputs": []
    },
    {
      "cell_type": "code",
      "metadata": {
        "id": "zsRu4TFr8ZA9",
        "colab_type": "code",
        "colab": {}
      },
      "source": [
        "sns.relplot(x=\"size\", y=\"tip\", kind=\"line\",hue='sex',col = 'smoker', data=tips, ci=None,markers=True)"
      ],
      "execution_count": 0,
      "outputs": []
    },
    {
      "cell_type": "code",
      "metadata": {
        "id": "jhZeS21M8x_7",
        "colab_type": "code",
        "colab": {}
      },
      "source": [
        "sns.relplot(x=\"size\", y=\"tip\", kind=\"line\",hue='sex',col = 'smoker',row = 'sex', data=tips,ci = None) # shows multiple graphs"
      ],
      "execution_count": 0,
      "outputs": []
    },
    {
      "cell_type": "markdown",
      "metadata": {
        "id": "iQ4JI9LL9N47",
        "colab_type": "text"
      },
      "source": [
        "##### PLOTTING WITH CATEGORICAL DATA\n",
        "\n",
        "_This approach comes into the picture when our main variable is further divided into discrete groups (categorical). This can be achieved using the catplot() function._"
      ]
    },
    {
      "cell_type": "markdown",
      "metadata": {
        "id": "UIR2Hsho9sUL",
        "colab_type": "text"
      },
      "source": [
        "###### catplot()\n",
        "\n",
        "_This is a figure-level-function like relplot(). It can be characterized by three families of axes level functions namely:_\n",
        "\n",
        "```\n",
        "Categorical scatterplots:\n",
        "1. stripplot() (with kind=\"strip\"; the default)\n",
        "2. swarmplot() (with kind=\"swarm\")\n",
        "\n",
        "Categorical distribution plots:\n",
        "1. boxplot() (with kind=\"box\")\n",
        "2. violinplot() (with kind=\"violin\")\n",
        "3. boxenplot() (with kind=\"boxen\")\n",
        "\n",
        "Categorical estimate plots:\n",
        "1. pointplot() (with kind=\"point\")\n",
        "2. barplot() (with kind=\"bar\")\n",
        "3. countplot() (with kind=\"count\")\n",
        "```\n"
      ]
    },
    {
      "cell_type": "code",
      "metadata": {
        "id": "TLWhg9Sm9NoB",
        "colab_type": "code",
        "colab": {}
      },
      "source": [
        " sns.set(style=\"ticks\", color_codes=True)"
      ],
      "execution_count": 0,
      "outputs": []
    },
    {
      "cell_type": "code",
      "metadata": {
        "id": "lIK-HYJ5_ecK",
        "colab_type": "code",
        "colab": {}
      },
      "source": [
        "# strip plot by default\n",
        "sns.catplot(x=\"day\", y=\"total_bill\", data=tips)"
      ],
      "execution_count": 0,
      "outputs": []
    },
    {
      "cell_type": "code",
      "metadata": {
        "id": "Hz9H-QqM_oeD",
        "colab_type": "code",
        "colab": {}
      },
      "source": [
        "sns.catplot(x=\"day\", y=\"total_bill\", jitter=False, data=tips) # jitter controls the magnitude"
      ],
      "execution_count": 0,
      "outputs": []
    },
    {
      "cell_type": "code",
      "metadata": {
        "id": "ne7U2k9M_x4X",
        "colab_type": "code",
        "colab": {}
      },
      "source": [
        "# swarm plot\n",
        "\n",
        "sns.catplot(x=\"day\", y=\"total_bill\", hue=\"sex\", kind=\"swarm\", data=tips)"
      ],
      "execution_count": 0,
      "outputs": []
    },
    {
      "cell_type": "code",
      "metadata": {
        "id": "fHNSUZdy_zxx",
        "colab_type": "code",
        "colab": {}
      },
      "source": [
        "sns.catplot(x=\"smoker\", y=\"tip\", order=[\"No\", \"Yes\"], data=tips)"
      ],
      "execution_count": 0,
      "outputs": []
    },
    {
      "cell_type": "code",
      "metadata": {
        "id": "qpcDIbaN__QA",
        "colab_type": "code",
        "colab": {}
      },
      "source": [
        "# Box Plot\n",
        "sns.catplot(x=\"day\", y=\"total_bill\", kind=\"box\", data=tips);"
      ],
      "execution_count": 0,
      "outputs": []
    },
    {
      "cell_type": "code",
      "metadata": {
        "id": "33p2SetbAGwh",
        "colab_type": "code",
        "colab": {}
      },
      "source": [
        "sns.catplot(x=\"day\", y=\"total_bill\", hue=\"smoker\", kind=\"box\", data=tips);"
      ],
      "execution_count": 0,
      "outputs": []
    },
    {
      "cell_type": "code",
      "metadata": {
        "id": "JABG31RzAKlS",
        "colab_type": "code",
        "colab": {}
      },
      "source": [
        "# Voilin Plot : combine box plot with Kernel density\n",
        "\n",
        "sns.catplot(x=\"total_bill\", y=\"day\", hue=\"sex\", kind=\"violin\", data=tips)"
      ],
      "execution_count": 0,
      "outputs": []
    },
    {
      "cell_type": "code",
      "metadata": {
        "id": "t3L2KksIAYp4",
        "colab_type": "code",
        "colab": {}
      },
      "source": [
        "sns.catplot(x=\"day\", y=\"total_bill\", hue=\"sex\", kind=\"violin\", split=True, data=tips) # using split between 2 levels"
      ],
      "execution_count": 0,
      "outputs": []
    },
    {
      "cell_type": "code",
      "metadata": {
        "id": "_GrUigTUAf6m",
        "colab_type": "code",
        "colab": {}
      },
      "source": [
        "# Bar Plot\n",
        "\n",
        "titanic = sns.load_dataset(\"titanic\")\n",
        "sns.catplot(x=\"sex\", y=\"survived\", hue=\"class\", kind=\"bar\", data=titanic)"
      ],
      "execution_count": 0,
      "outputs": []
    },
    {
      "cell_type": "code",
      "metadata": {
        "id": "2GCg4Nf4AvJa",
        "colab_type": "code",
        "colab": {}
      },
      "source": [
        "# Count Plot\n",
        "sns.catplot(x=\"deck\", kind=\"count\", palette=\"ch:.25\", data=titanic)"
      ],
      "execution_count": 0,
      "outputs": []
    },
    {
      "cell_type": "code",
      "metadata": {
        "id": "D6aDlGhZA7qp",
        "colab_type": "code",
        "colab": {}
      },
      "source": [
        "# Point plot \n",
        "sns.catplot(x=\"sex\", y=\"survived\", hue=\"class\", kind=\"point\", data=titanic)"
      ],
      "execution_count": 0,
      "outputs": []
    },
    {
      "cell_type": "code",
      "metadata": {
        "id": "KjSCYkWIBDsk",
        "colab_type": "code",
        "colab": {}
      },
      "source": [
        "sns.catplot(x=\"class\", y=\"survived\", hue=\"sex\",\n",
        "            palette={\"male\": \"g\", \"female\": \"m\"},\n",
        "            markers=[\"^\", \"o\"], linestyles=[\"-\", \"--\"],\n",
        "            kind=\"point\", data=titanic) # Customizing Point Plot"
      ],
      "execution_count": 0,
      "outputs": []
    },
    {
      "cell_type": "code",
      "metadata": {
        "id": "Hi6358eQBPVn",
        "colab_type": "code",
        "colab": {}
      },
      "source": [
        "sns.catplot(x=\"fare\", y=\"survived\", row=\"class\",\n",
        "                kind=\"box\", orient=\"h\", height=2, aspect=4,\n",
        "                data=titanic.query(\"fare > 0\")) # Multiple Charts using Rows and col"
      ],
      "execution_count": 0,
      "outputs": []
    },
    {
      "cell_type": "markdown",
      "metadata": {
        "id": "YCiuoi-zCCTO",
        "colab_type": "text"
      },
      "source": [
        "##### VISUALIZING DISTRIBUTION OF DATASET"
      ]
    },
    {
      "cell_type": "markdown",
      "metadata": {
        "id": "gzjSyEVICedT",
        "colab_type": "text"
      },
      "source": [
        "###### UNIVARIATE DISTRIBUTION\n",
        "\n",
        "_The most convenient way to take a quick look at a univariate distribution in seaborn is the distplot() function. By default, this will draw a histogram and fit a kernel density estimate (KDE)._"
      ]
    },
    {
      "cell_type": "code",
      "metadata": {
        "id": "vybSl-OFBreL",
        "colab_type": "code",
        "colab": {}
      },
      "source": [
        "x = np.random.normal(size=100)\n",
        "sns.distplot(x)"
      ],
      "execution_count": 0,
      "outputs": []
    },
    {
      "cell_type": "code",
      "metadata": {
        "id": "jh1_sy2tCpH5",
        "colab_type": "code",
        "colab": {}
      },
      "source": [
        "sns.distplot(x, bins=20, kde=False,hist=True,axlabel='x')\n",
        "plt.title('Histogram')\n",
        "plt.show()"
      ],
      "execution_count": 0,
      "outputs": []
    },
    {
      "cell_type": "code",
      "metadata": {
        "id": "GXlu2P3hCy5U",
        "colab_type": "code",
        "colab": {}
      },
      "source": [
        "sns.kdeplot(x, shade=True)"
      ],
      "execution_count": 0,
      "outputs": []
    },
    {
      "cell_type": "code",
      "metadata": {
        "id": "OQU-qn0VDY_i",
        "colab_type": "code",
        "colab": {}
      },
      "source": [
        "sns.distplot(x,hist=False)"
      ],
      "execution_count": 0,
      "outputs": []
    },
    {
      "cell_type": "markdown",
      "metadata": {
        "id": "dPdSlXn4DkoR",
        "colab_type": "text"
      },
      "source": [
        "###### BIVARIATE DISTRIBUTION"
      ]
    },
    {
      "cell_type": "code",
      "metadata": {
        "id": "G1z0i2ZIDccS",
        "colab_type": "code",
        "colab": {}
      },
      "source": [
        "mean, cov = [0, 1], [(1, .5), (.5, 1)]\n",
        "data = np.random.multivariate_normal(mean, cov, 200)\n",
        "df = pd.DataFrame(data, columns=[\"x\", \"y\"])"
      ],
      "execution_count": 0,
      "outputs": []
    },
    {
      "cell_type": "code",
      "metadata": {
        "id": "mCKo50cpDucC",
        "colab_type": "code",
        "colab": {}
      },
      "source": [
        "sns.jointplot(x=\"x\", y=\"y\", data=df);"
      ],
      "execution_count": 0,
      "outputs": []
    },
    {
      "cell_type": "code",
      "metadata": {
        "id": "qF5in5oZD5zz",
        "colab_type": "code",
        "colab": {}
      },
      "source": [
        "sns.jointplot(x=\"x\", y=\"y\", data=df, kind=\"kde\")"
      ],
      "execution_count": 0,
      "outputs": []
    },
    {
      "cell_type": "markdown",
      "metadata": {
        "id": "EATJU4YvEPJU",
        "colab_type": "text"
      },
      "source": [
        "###### PAIRWISE RELATIONSHIP\n",
        "\n",
        "_To plot multiple pairwise bivariate distributions in a dataset, you can use the pairplot() function. This creates a matrix of axes and shows the relationship for each pair of columns in a DataFrame. By default, it also draws the univariate distribution of each variable on the diagonal Axes_"
      ]
    },
    {
      "cell_type": "code",
      "metadata": {
        "id": "BkfAwOaEEI1q",
        "colab_type": "code",
        "colab": {}
      },
      "source": [
        "iris = sns.load_dataset(\"iris\")\n",
        "sns.pairplot(iris)"
      ],
      "execution_count": 0,
      "outputs": []
    },
    {
      "cell_type": "code",
      "metadata": {
        "id": "u9B1BAEaEeja",
        "colab_type": "code",
        "colab": {}
      },
      "source": [
        "sns.pairplot(iris, hue=\"species\")"
      ],
      "execution_count": 0,
      "outputs": []
    },
    {
      "cell_type": "markdown",
      "metadata": {
        "id": "OaWVNzrRFQrA",
        "colab_type": "text"
      },
      "source": [
        "##### VISUALIZING LINEAR RELATIONSHIP\n",
        "\n",
        "_Two main functions in seaborn are used to visualize a linear relationship as determined through regression. These functions, regplot() and lmplot() are closely related, and share much of their core functionality._\n",
        "\n",
        "_In the simplest invocation, both functions draw a scatterplot of two variables, x and y, and then fit the regression model y ~ x and plot the resulting regression line and a 95% confidence interval for that regression_"
      ]
    },
    {
      "cell_type": "code",
      "metadata": {
        "id": "avwybvatElXm",
        "colab_type": "code",
        "colab": {}
      },
      "source": [
        "sns.regplot(x=\"total_bill\", y=\"tip\", data=tips)"
      ],
      "execution_count": 0,
      "outputs": []
    },
    {
      "cell_type": "code",
      "metadata": {
        "id": "qrX9vLgxFoky",
        "colab_type": "code",
        "colab": {}
      },
      "source": [
        "sns.lmplot(x=\"total_bill\", y=\"tip\", data=tips)"
      ],
      "execution_count": 0,
      "outputs": []
    },
    {
      "cell_type": "markdown",
      "metadata": {
        "id": "ZRFLKrM5F-Dq",
        "colab_type": "text"
      },
      "source": [
        "_regplot() accepts the x and y variables in a variety of formats including simple numpy arrays, pandas Series objects, or as references to variables in a pandas DataFrame object passed to data. In contrast, lmplot() has data as a required parameter and the x and y variables must be specified as strings._"
      ]
    },
    {
      "cell_type": "code",
      "metadata": {
        "id": "3WA8s9e8FrYi",
        "colab_type": "code",
        "colab": {}
      },
      "source": [
        "tips[\"big_tip\"] = (tips.tip / tips.total_bill) > .15\n",
        "sns.lmplot(x=\"total_bill\", y=\"big_tip\", data=tips, logistic= True)"
      ],
      "execution_count": 0,
      "outputs": []
    },
    {
      "cell_type": "code",
      "metadata": {
        "id": "jzNF5dWYGXWt",
        "colab_type": "code",
        "colab": {}
      },
      "source": [
        "sns.lmplot(x=\"total_bill\", y=\"tip\", hue=\"smoker\", data=tips,\n",
        "           markers=[\"o\", \"x\"], palette=\"Set1\")"
      ],
      "execution_count": 0,
      "outputs": []
    },
    {
      "cell_type": "markdown",
      "metadata": {
        "id": "T1pDlAmeHYor",
        "colab_type": "text"
      },
      "source": [
        "#### MULTI PLOT GRIDS"
      ]
    },
    {
      "cell_type": "markdown",
      "metadata": {
        "id": "FmfQsi2vHd8R",
        "colab_type": "text"
      },
      "source": [
        "\n",
        "\n",
        "```\n",
        "1. FacetGrid()\n",
        "2. PairGrid()\n",
        "```\n",
        "\n"
      ]
    },
    {
      "cell_type": "code",
      "metadata": {
        "id": "szNmafsZGdCT",
        "colab_type": "code",
        "colab": {}
      },
      "source": [
        "g = sns.FacetGrid(tips, row=\"sex\", col=\"smoker\", margin_titles=True, height=2.5)\n",
        "g.map(plt.scatter, \"total_bill\", \"tip\", color=\"#334488\", edgecolor=\"white\", lw=.5);\n",
        "g.set_axis_labels(\"Total bill (US Dollars)\", \"Tip\");\n",
        "g.set(xticks=[10, 30, 50], yticks=[2, 6, 10]);\n",
        "g.fig.subplots_adjust(wspace=.02, hspace=.02)"
      ],
      "execution_count": 0,
      "outputs": []
    },
    {
      "cell_type": "code",
      "metadata": {
        "id": "h_OtkmNkG6QO",
        "colab_type": "code",
        "colab": {}
      },
      "source": [
        "iris = sns.load_dataset(\"iris\")\n",
        "g = sns.PairGrid(iris)\n",
        "g.map(plt.scatter)"
      ],
      "execution_count": 0,
      "outputs": []
    },
    {
      "cell_type": "code",
      "metadata": {
        "id": "PWDLu3VUHBMv",
        "colab_type": "code",
        "colab": {}
      },
      "source": [
        "g = sns.PairGrid(iris, hue=\"species\")\n",
        "g.map_diag(plt.hist)\n",
        "g.map_offdiag(plt.scatter)\n",
        "g.add_legend();"
      ],
      "execution_count": 0,
      "outputs": []
    },
    {
      "cell_type": "markdown",
      "metadata": {
        "id": "flk8VMFFI1SC",
        "colab_type": "text"
      },
      "source": [
        "#### STYLING"
      ]
    },
    {
      "cell_type": "code",
      "metadata": {
        "id": "EzeUL8MpHD3U",
        "colab_type": "code",
        "colab": {}
      },
      "source": [
        "sns.set_style(\"whitegrid\") # sets Style\n",
        "data = np.random.normal(size=(20, 6)) + np.arange(6) / 2\n",
        "sns.boxplot(data=data);"
      ],
      "execution_count": 0,
      "outputs": []
    },
    {
      "cell_type": "code",
      "metadata": {
        "id": "T2v5w4r8HztI",
        "colab_type": "code",
        "colab": {}
      },
      "source": [
        "sns.set_style(\"whitegrid\")\n",
        "sns.boxplot(data=data, palette=\"deep\")\n",
        "sns.despine() # remove the spines from right"
      ],
      "execution_count": 0,
      "outputs": []
    },
    {
      "cell_type": "code",
      "metadata": {
        "id": "i4zkYqYAH64C",
        "colab_type": "code",
        "colab": {}
      },
      "source": [
        "f = plt.figure(figsize=(6, 6))\n",
        "gs = f.add_gridspec(2, 2)\n",
        "\n",
        "with sns.axes_style(\"darkgrid\"):\n",
        "    ax = f.add_subplot(gs[0, 0])\n",
        "    sns.boxplot(data=data, palette=\"deep\")\n",
        "\n",
        "with sns.axes_style(\"white\"):\n",
        "    ax = f.add_subplot(gs[0, 1])\n",
        "    sns.boxplot(data=data, palette=\"pastel\")\n",
        "\n",
        "with sns.axes_style(\"ticks\"):\n",
        "    ax = f.add_subplot(gs[1, 0])\n",
        "    sns.boxplot(data=data, palette=\"deep\")\n",
        "\n",
        "with sns.axes_style(\"whitegrid\"):\n",
        "    ax = f.add_subplot(gs[1, 1])\n",
        "    sns.boxplot(data=data, palette=\"pastel\")\n",
        "\n",
        "f.tight_layout()"
      ],
      "execution_count": 0,
      "outputs": []
    },
    {
      "cell_type": "code",
      "metadata": {
        "id": "7sjK4y5WJGBd",
        "colab_type": "code",
        "colab": {}
      },
      "source": [
        "sns.boxplot(data=data, palette='GnBu_d') # More color palettes to be selected from https://seaborn.pydata.org/tutorial/color_palettes.html"
      ],
      "execution_count": 0,
      "outputs": []
    }
  ]
}